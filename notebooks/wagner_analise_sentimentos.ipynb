{
 "cells": [
  {
   "cell_type": "markdown",
   "metadata": {
    "colab_type": "text",
    "id": "Oks5bNFRfHHB"
   },
   "source": [
    "## **Análise de Sentimentos usando Machine Learning**"
   ]
  },
  {
   "cell_type": "markdown",
   "metadata": {
    "colab_type": "text",
    "id": "IJsB6eY0fHHC"
   },
   "source": [
    "* Criando modelos para análise de sentimentos de tweets"
   ]
  },
  {
   "cell_type": "code",
   "execution_count": 1,
   "metadata": {
    "colab": {},
    "colab_type": "code",
    "id": "T4_K6NcqfHHD"
   },
   "outputs": [],
   "source": [
    "from nltk import word_tokenize\n",
    "import nltk\n",
    "import re\n",
    "import pandas as pd\n",
    "from sklearn.feature_extraction.text import CountVectorizer\n",
    "from sklearn.naive_bayes import MultinomialNB\n",
    "from sklearn import svm\n",
    "from sklearn import metrics\n",
    "from sklearn.model_selection import cross_val_predict"
   ]
  },
  {
   "cell_type": "markdown",
   "metadata": {
    "colab_type": "text",
    "id": "r1pxDwaHfHHF"
   },
   "source": [
    "**Ler arquivo de dados e conta a quantidade de linhas**"
   ]
  },
  {
   "cell_type": "code",
   "execution_count": 3,
   "metadata": {
    "colab": {},
    "colab_type": "code",
    "id": "GOYpa0vtfHHG"
   },
   "outputs": [],
   "source": [
    "df = pd.read_csv('../raw_data/Tweets_Mg.csv', encoding='utf-8')"
   ]
  },
  {
   "cell_type": "code",
   "execution_count": 90,
   "metadata": {
    "colab": {
     "base_uri": "https://localhost:8080/",
     "height": 583
    },
    "colab_type": "code",
    "executionInfo": {
     "elapsed": 629,
     "status": "ok",
     "timestamp": 1566431950115,
     "user": {
      "displayName": "Rodrigo Santana Ferreira",
      "photoUrl": "https://lh3.googleusercontent.com/a-/AAuE7mDmYh9EbTthNVFuzwQSdLXKIk98sJfQinB_DD4VqA=s64",
      "userId": "14710330936720624047"
     },
     "user_tz": 180
    },
    "id": "DzxUf5TOnF-4",
    "outputId": "c6e11385-1894-44f1-be82-66779964018b"
   },
   "outputs": [
    {
     "data": {
      "text/html": [
       "<div>\n",
       "<style scoped>\n",
       "    .dataframe tbody tr th:only-of-type {\n",
       "        vertical-align: middle;\n",
       "    }\n",
       "\n",
       "    .dataframe tbody tr th {\n",
       "        vertical-align: top;\n",
       "    }\n",
       "\n",
       "    .dataframe thead th {\n",
       "        text-align: right;\n",
       "    }\n",
       "</style>\n",
       "<table border=\"1\" class=\"dataframe\">\n",
       "  <thead>\n",
       "    <tr style=\"text-align: right;\">\n",
       "      <th></th>\n",
       "      <th>Unnamed: 0</th>\n",
       "      <th>Created At</th>\n",
       "      <th>Text</th>\n",
       "      <th>Geo Coordinates.latitude</th>\n",
       "      <th>Geo Coordinates.longitude</th>\n",
       "      <th>User Location</th>\n",
       "      <th>Username</th>\n",
       "      <th>User Screen Name</th>\n",
       "      <th>Retweet Count</th>\n",
       "      <th>Classificacao</th>\n",
       "      <th>...</th>\n",
       "      <th>Unnamed: 15</th>\n",
       "      <th>Unnamed: 16</th>\n",
       "      <th>Unnamed: 17</th>\n",
       "      <th>Unnamed: 18</th>\n",
       "      <th>Unnamed: 19</th>\n",
       "      <th>Unnamed: 20</th>\n",
       "      <th>Unnamed: 21</th>\n",
       "      <th>Unnamed: 22</th>\n",
       "      <th>Unnamed: 23</th>\n",
       "      <th>Unnamed: 24</th>\n",
       "    </tr>\n",
       "  </thead>\n",
       "  <tbody>\n",
       "    <tr>\n",
       "      <th>3295</th>\n",
       "      <td>3295</td>\n",
       "      <td>Fri Jan 06 02:45:15 +0000 2017</td>\n",
       "      <td>RT @flaviomuller: Governo PSDB / Temer quer im...</td>\n",
       "      <td>NaN</td>\n",
       "      <td>NaN</td>\n",
       "      <td>NaN</td>\n",
       "      <td>morangocomchantylli.</td>\n",
       "      <td>morangocomchan</td>\n",
       "      <td>3</td>\n",
       "      <td>Neutro</td>\n",
       "      <td>...</td>\n",
       "      <td>NaN</td>\n",
       "      <td>NaN</td>\n",
       "      <td>NaN</td>\n",
       "      <td>NaN</td>\n",
       "      <td>NaN</td>\n",
       "      <td>NaN</td>\n",
       "      <td>NaN</td>\n",
       "      <td>NaN</td>\n",
       "      <td>NaN</td>\n",
       "      <td>NaN</td>\n",
       "    </tr>\n",
       "  </tbody>\n",
       "</table>\n",
       "<p>1 rows × 26 columns</p>\n",
       "</div>"
      ],
      "text/plain": [
       "      Unnamed: 0                      Created At  \\\n",
       "3295        3295  Fri Jan 06 02:45:15 +0000 2017   \n",
       "\n",
       "                                                   Text  \\\n",
       "3295  RT @flaviomuller: Governo PSDB / Temer quer im...   \n",
       "\n",
       "      Geo Coordinates.latitude  Geo Coordinates.longitude User Location  \\\n",
       "3295                       NaN                        NaN           NaN   \n",
       "\n",
       "                  Username User Screen Name  Retweet Count Classificacao  ...  \\\n",
       "3295  morangocomchantylli.   morangocomchan              3        Neutro  ...   \n",
       "\n",
       "     Unnamed: 15  Unnamed: 16  Unnamed: 17  Unnamed: 18  Unnamed: 19  \\\n",
       "3295         NaN          NaN          NaN          NaN          NaN   \n",
       "\n",
       "      Unnamed: 20  Unnamed: 21  Unnamed: 22  Unnamed: 23  Unnamed: 24  \n",
       "3295          NaN          NaN          NaN          NaN          NaN  \n",
       "\n",
       "[1 rows x 26 columns]"
      ]
     },
     "execution_count": 90,
     "metadata": {},
     "output_type": "execute_result"
    }
   ],
   "source": [
    "df.sample()"
   ]
  },
  {
   "cell_type": "markdown",
   "metadata": {
    "colab_type": "text",
    "id": "S2VSXvUwfHHL"
   },
   "source": [
    "**Conta a quantidade de linhas de tweets neutros, positivos e negativos**"
   ]
  },
  {
   "cell_type": "code",
   "execution_count": 7,
   "metadata": {
    "colab": {
     "base_uri": "https://localhost:8080/",
     "height": 86
    },
    "colab_type": "code",
    "executionInfo": {
     "elapsed": 721,
     "status": "ok",
     "timestamp": 1566432002201,
     "user": {
      "displayName": "Rodrigo Santana Ferreira",
      "photoUrl": "https://lh3.googleusercontent.com/a-/AAuE7mDmYh9EbTthNVFuzwQSdLXKIk98sJfQinB_DD4VqA=s64",
      "userId": "14710330936720624047"
     },
     "user_tz": 180
    },
    "id": "-8EpKNzMfwNH",
    "outputId": "5af75f4a-c91b-448a-bee5-6e87ce213ef3"
   },
   "outputs": [
    {
     "data": {
      "text/plain": [
       "Positivo    3300\n",
       "Neutro      2453\n",
       "Negativo    2446\n",
       "Name: Classificacao, dtype: int64"
      ]
     },
     "execution_count": 7,
     "metadata": {},
     "output_type": "execute_result"
    }
   ],
   "source": [
    "df.Classificacao.value_counts()"
   ]
  },
  {
   "cell_type": "code",
   "execution_count": 8,
   "metadata": {
    "colab": {
     "base_uri": "https://localhost:8080/",
     "height": 321
    },
    "colab_type": "code",
    "executionInfo": {
     "elapsed": 784,
     "status": "ok",
     "timestamp": 1566432044846,
     "user": {
      "displayName": "Rodrigo Santana Ferreira",
      "photoUrl": "https://lh3.googleusercontent.com/a-/AAuE7mDmYh9EbTthNVFuzwQSdLXKIk98sJfQinB_DD4VqA=s64",
      "userId": "14710330936720624047"
     },
     "user_tz": 180
    },
    "id": "aIj5Lin3fHHT",
    "outputId": "04d34e78-aa8d-4d4d-9627-c41817f80a9b"
   },
   "outputs": [
    {
     "data": {
      "text/plain": [
       "<AxesSubplot:>"
      ]
     },
     "execution_count": 8,
     "metadata": {},
     "output_type": "execute_result"
    },
    {
     "data": {
      "image/png": "[encoded data removed]",
      "text/plain": [
       "<Figure size 432x288 with 1 Axes>"
      ]
     },
     "metadata": {
      "needs_background": "light"
     },
     "output_type": "display_data"
    }
   ],
   "source": [
    "%matplotlib inline\n",
    "df.Classificacao.value_counts().plot(kind='bar')"
   ]
  },
  {
   "cell_type": "code",
   "execution_count": 9,
   "metadata": {
    "colab": {
     "base_uri": "https://localhost:8080/",
     "height": 480
    },
    "colab_type": "code",
    "executionInfo": {
     "elapsed": 630,
     "status": "ok",
     "timestamp": 1566432057313,
     "user": {
      "displayName": "Rodrigo Santana Ferreira",
      "photoUrl": "https://lh3.googleusercontent.com/a-/AAuE7mDmYh9EbTthNVFuzwQSdLXKIk98sJfQinB_DD4VqA=s64",
      "userId": "14710330936720624047"
     },
     "user_tz": 180
    },
    "id": "fN7k0LCMfHHV",
    "outputId": "05b89ce7-7cd4-42e5-b02d-2375e3ef2a6f"
   },
   "outputs": [
    {
     "data": {
      "text/plain": [
       "Unnamed: 0                   8199\n",
       "Created At                   8199\n",
       "Text                         8199\n",
       "Geo Coordinates.latitude      104\n",
       "Geo Coordinates.longitude     104\n",
       "User Location                5489\n",
       "Username                     8199\n",
       "User Screen Name             8199\n",
       "Retweet Count                8199\n",
       "Classificacao                8199\n",
       "Observação                      1\n",
       "Unnamed: 10                     0\n",
       "Unnamed: 11                     0\n",
       "Unnamed: 12                     0\n",
       "Unnamed: 13                     0\n",
       "Unnamed: 14                     0\n",
       "Unnamed: 15                     0\n",
       "Unnamed: 16                     0\n",
       "Unnamed: 17                     0\n",
       "Unnamed: 18                     0\n",
       "Unnamed: 19                     0\n",
       "Unnamed: 20                     0\n",
       "Unnamed: 21                     0\n",
       "Unnamed: 22                     0\n",
       "Unnamed: 23                     0\n",
       "Unnamed: 24                     0\n",
       "dtype: int64"
      ]
     },
     "execution_count": 9,
     "metadata": {},
     "output_type": "execute_result"
    }
   ],
   "source": [
    "df.count()"
   ]
  },
  {
   "cell_type": "markdown",
   "metadata": {
    "colab_type": "text",
    "id": "IWenqwCnfHHZ"
   },
   "source": [
    "## Pre-Processamento dos Dados"
   ]
  },
  {
   "cell_type": "markdown",
   "metadata": {
    "colab_type": "text",
    "id": "2DuvWYo9fHHZ"
   },
   "source": [
    "* Remove linhas duplicadas na base de dados\n",
    "    - Problema na coleta dos dados.\n",
    "* Remove Stopwords\n",
    "* Stemming ou Lemmatization\n",
    "* Remove caracteres indesejados como links etc."
   ]
  },
  {
   "cell_type": "code",
   "execution_count": 11,
   "metadata": {
    "colab": {},
    "colab_type": "code",
    "id": "m23ema2FfHHa"
   },
   "outputs": [],
   "source": [
    "df.drop_duplicates(['Text'], inplace=True)"
   ]
  },
  {
   "cell_type": "code",
   "execution_count": 12,
   "metadata": {
    "colab": {
     "base_uri": "https://localhost:8080/",
     "height": 34
    },
    "colab_type": "code",
    "executionInfo": {
     "elapsed": 631,
     "status": "ok",
     "timestamp": 1566433535153,
     "user": {
      "displayName": "Rodrigo Santana Ferreira",
      "photoUrl": "https://lh3.googleusercontent.com/a-/AAuE7mDmYh9EbTthNVFuzwQSdLXKIk98sJfQinB_DD4VqA=s64",
      "userId": "14710330936720624047"
     },
     "user_tz": 180
    },
    "id": "SkPMW1UZfHHd",
    "outputId": "8b73363b-73c7-46eb-87f3-92d6b49810b0"
   },
   "outputs": [
    {
     "data": {
      "text/plain": [
       "5765"
      ]
     },
     "execution_count": 12,
     "metadata": {},
     "output_type": "execute_result"
    }
   ],
   "source": [
    "df.Text.count()"
   ]
  },
  {
   "cell_type": "markdown",
   "metadata": {
    "colab_type": "text",
    "id": "J0uUvFajfHHf"
   },
   "source": [
    "## **Separando tweets e suas Classes**"
   ]
  },
  {
   "cell_type": "code",
   "execution_count": 13,
   "metadata": {
    "colab": {},
    "colab_type": "code",
    "id": "Uh7xRoHNfHHf"
   },
   "outputs": [],
   "source": [
    "tweets = df['Text']\n",
    "classes = df['Classificacao']"
   ]
  },
  {
   "cell_type": "markdown",
   "metadata": {
    "colab_type": "text",
    "id": "pdBk0tyefHHh"
   },
   "source": [
    "**Instala bibliotecas e baixa a base de dados**"
   ]
  },
  {
   "cell_type": "code",
   "execution_count": 23,
   "metadata": {
    "colab": {
     "base_uri": "https://localhost:8080/",
     "height": 171
    },
    "colab_type": "code",
    "executionInfo": {
     "elapsed": 1648,
     "status": "ok",
     "timestamp": 1566432596869,
     "user": {
      "displayName": "Rodrigo Santana Ferreira",
      "photoUrl": "https://lh3.googleusercontent.com/a-/AAuE7mDmYh9EbTthNVFuzwQSdLXKIk98sJfQinB_DD4VqA=s64",
      "userId": "14710330936720624047"
     },
     "user_tz": 180
    },
    "id": "M_opr6SFfHHi",
    "outputId": "9df586bb-0936-4331-d0bb-ea067c64a15b"
   },
   "outputs": [
    {
     "name": "stderr",
     "output_type": "stream",
     "text": [
      "[nltk_data] Downloading package stopwords to /home/wagui/nltk_data...\n",
      "[nltk_data]   Package stopwords is already up-to-date!\n",
      "[nltk_data] Downloading package rslp to /home/wagui/nltk_data...\n",
      "[nltk_data]   Package rslp is already up-to-date!\n",
      "[nltk_data] Downloading package punkt to /home/wagui/nltk_data...\n",
      "[nltk_data]   Package punkt is already up-to-date!\n",
      "[nltk_data] Downloading package wordnet to /home/wagui/nltk_data...\n",
      "[nltk_data]   Package wordnet is already up-to-date!\n",
      "[nltk_data] Downloading package omw-1.4 to /home/wagui/nltk_data...\n",
      "[nltk_data]   Unzipping corpora/omw-1.4.zip.\n"
     ]
    },
    {
     "data": {
      "text/plain": [
       "True"
      ]
     },
     "execution_count": 23,
     "metadata": {},
     "output_type": "execute_result"
    }
   ],
   "source": [
    "import nltk\n",
    "nltk.download('stopwords')\n",
    "nltk.download('rslp')\n",
    "nltk.download('punkt')\n",
    "nltk.download('wordnet')\n",
    "nltk.download('omw-1.4')"
   ]
  },
  {
   "cell_type": "markdown",
   "metadata": {
    "colab_type": "text",
    "id": "2NV3syRNfHHk"
   },
   "source": [
    "**Funções de Pre-processamento de dados**"
   ]
  },
  {
   "cell_type": "code",
   "execution_count": 15,
   "metadata": {
    "colab": {},
    "colab_type": "code",
    "id": "M6HDfRzcfHHk"
   },
   "outputs": [],
   "source": [
    "def RemoveStopWords(instancia):\n",
    "    stopwords = set(nltk.corpus.stopwords.words('portuguese'))\n",
    "    palavras = [i for i in instancia.split() if not i in stopwords]\n",
    "    return (\" \".join(palavras))"
   ]
  },
  {
   "cell_type": "code",
   "execution_count": 16,
   "metadata": {
    "colab": {},
    "colab_type": "code",
    "id": "q8FS-ZoJfHHn"
   },
   "outputs": [],
   "source": [
    "def Stemming(instancia):\n",
    "    stemmer = nltk.stem.RSLPStemmer()\n",
    "    palavras = []\n",
    "    for w in instancia.split():\n",
    "        palavras.append(stemmer.stem(w))\n",
    "    return (\" \".join(palavras))"
   ]
  },
  {
   "cell_type": "code",
   "execution_count": 17,
   "metadata": {
    "colab": {},
    "colab_type": "code",
    "id": "NrLlbIaafHHp"
   },
   "outputs": [],
   "source": [
    "def Limpeza_dados(instancia):\n",
    "    # remove links, pontos, virgulas,ponto e virgulas dos tweets\n",
    "    instancia = re.sub(r\"http\\S+\", \"\", instancia).lower().replace('.','').replace(';','').replace('-','').replace(':','').replace(')','')\n",
    "    return (instancia)"
   ]
  },
  {
   "cell_type": "code",
   "execution_count": 18,
   "metadata": {
    "colab": {},
    "colab_type": "code",
    "id": "it75oz2vhCyy"
   },
   "outputs": [],
   "source": [
    "from nltk.stem import WordNetLemmatizer\n",
    "wordnet_lemmatizer = WordNetLemmatizer()\n",
    "\n",
    "def Lemmatization(instancia):\n",
    "  palavras = []\n",
    "  for w in instancia.split():\n",
    "    palavras.append(wordnet_lemmatizer.lemmatize(w))\n",
    "  return (\" \".join(palavras))"
   ]
  },
  {
   "cell_type": "markdown",
   "metadata": {
    "colab_type": "text",
    "id": "TiATzqyZfHHs"
   },
   "source": [
    "**Entenda como funciona cada função**"
   ]
  },
  {
   "cell_type": "code",
   "execution_count": 19,
   "metadata": {
    "colab": {
     "base_uri": "https://localhost:8080/",
     "height": 34
    },
    "colab_type": "code",
    "executionInfo": {
     "elapsed": 669,
     "status": "ok",
     "timestamp": 1566432608016,
     "user": {
      "displayName": "Rodrigo Santana Ferreira",
      "photoUrl": "https://lh3.googleusercontent.com/a-/AAuE7mDmYh9EbTthNVFuzwQSdLXKIk98sJfQinB_DD4VqA=s64",
      "userId": "14710330936720624047"
     },
     "user_tz": 180
    },
    "id": "Jn7uqh9KfHHs",
    "outputId": "f6816f4d-0c47-4a7b-d8e7-8c8c91259202"
   },
   "outputs": [
    {
     "data": {
      "text/plain": [
       "'Eu gosto partido, votaria novamente nesse governante!'"
      ]
     },
     "execution_count": 19,
     "metadata": {},
     "output_type": "execute_result"
    }
   ],
   "source": [
    "RemoveStopWords('Eu não gosto do partido, e também não votaria novamente nesse governante!')"
   ]
  },
  {
   "cell_type": "code",
   "execution_count": 20,
   "metadata": {
    "colab": {
     "base_uri": "https://localhost:8080/",
     "height": 34
    },
    "colab_type": "code",
    "executionInfo": {
     "elapsed": 628,
     "status": "ok",
     "timestamp": 1566432674657,
     "user": {
      "displayName": "Rodrigo Santana Ferreira",
      "photoUrl": "https://lh3.googleusercontent.com/a-/AAuE7mDmYh9EbTthNVFuzwQSdLXKIk98sJfQinB_DD4VqA=s64",
      "userId": "14710330936720624047"
     },
     "user_tz": 180
    },
    "id": "YCEFse4ZfHHv",
    "outputId": "d8745b28-6748-468d-ed51-34749d85a57e"
   },
   "outputs": [
    {
     "data": {
      "text/plain": [
       "'eu não gost do partido, e também não vot nov ness governante!'"
      ]
     },
     "execution_count": 20,
     "metadata": {},
     "output_type": "execute_result"
    }
   ],
   "source": [
    "Stemming('Eu não gosto do partido, e também não votaria novamente nesse governante!')"
   ]
  },
  {
   "cell_type": "code",
   "execution_count": 21,
   "metadata": {
    "colab": {
     "base_uri": "https://localhost:8080/",
     "height": 34
    },
    "colab_type": "code",
    "executionInfo": {
     "elapsed": 664,
     "status": "ok",
     "timestamp": 1566432742907,
     "user": {
      "displayName": "Rodrigo Santana Ferreira",
      "photoUrl": "https://lh3.googleusercontent.com/a-/AAuE7mDmYh9EbTthNVFuzwQSdLXKIk98sJfQinB_DD4VqA=s64",
      "userId": "14710330936720624047"
     },
     "user_tz": 180
    },
    "id": "F3riOVgGfHHz",
    "outputId": "70f19895-843a-496e-e0cd-565190bea9f8"
   },
   "outputs": [
    {
     "data": {
      "text/plain": [
       "'assita aqui o video do governador falando sobre a cemig   '"
      ]
     },
     "execution_count": 21,
     "metadata": {},
     "output_type": "execute_result"
    }
   ],
   "source": [
    "Limpeza_dados('Assita aqui o video do Governador falando sobre a CEMIG https://www.uol.com.br :) ;)')"
   ]
  },
  {
   "cell_type": "code",
   "execution_count": 24,
   "metadata": {
    "colab": {
     "base_uri": "https://localhost:8080/",
     "height": 34
    },
    "colab_type": "code",
    "executionInfo": {
     "elapsed": 2702,
     "status": "ok",
     "timestamp": 1566432793862,
     "user": {
      "displayName": "Rodrigo Santana Ferreira",
      "photoUrl": "https://lh3.googleusercontent.com/a-/AAuE7mDmYh9EbTthNVFuzwQSdLXKIk98sJfQinB_DD4VqA=s64",
      "userId": "14710330936720624047"
     },
     "user_tz": 180
    },
    "id": "MEvt1kBghC9_",
    "outputId": "a3db5da9-ad56-4f55-c5cc-35032037167f"
   },
   "outputs": [
    {
     "data": {
      "text/plain": [
       "'Os carros são bonito'"
      ]
     },
     "execution_count": 24,
     "metadata": {},
     "output_type": "execute_result"
    }
   ],
   "source": [
    "Lemmatization('Os carros são bonitos')"
   ]
  },
  {
   "cell_type": "markdown",
   "metadata": {
    "colab_type": "text",
    "id": "s8JohAMlfHH3"
   },
   "source": [
    "**Aplica as 3 funções de Pre-processamento nos dados**"
   ]
  },
  {
   "cell_type": "code",
   "execution_count": 25,
   "metadata": {
    "colab": {},
    "colab_type": "code",
    "id": "0C2bY97JfHH4"
   },
   "outputs": [],
   "source": [
    "def Preprocessing(instancia):\n",
    "    stemmer = nltk.stem.RSLPStemmer()\n",
    "    instancia = re.sub(r\"http\\S+\", \"\", instancia).lower().replace('.','').replace(';','').replace('-','').replace(':','').replace(')','')\n",
    "    stopwords = set(nltk.corpus.stopwords.words('portuguese'))\n",
    "    palavras = [stemmer.stem(i) for i in instancia.split() if not i in stopwords]\n",
    "    return (\" \".join(palavras))\n",
    "\n",
    "# Aplica a função em todos os dados:\n",
    "tweets = [Preprocessing(i) for i in tweets]"
   ]
  },
  {
   "cell_type": "code",
   "execution_count": 26,
   "metadata": {
    "colab": {},
    "colab_type": "code",
    "id": "D77vjoRCfHH6"
   },
   "outputs": [
    {
     "data": {
      "text/plain": [
       "'gost partido, vot nov ness govern assit vide aqu'"
      ]
     },
     "execution_count": 26,
     "metadata": {},
     "output_type": "execute_result"
    }
   ],
   "source": [
    "Preprocessing('Eu não gosto do partido, e também não votaria novamente nesse governante. Assita o video aqui https:// :)')"
   ]
  },
  {
   "cell_type": "markdown",
   "metadata": {
    "colab_type": "text",
    "id": "ncXEOQOCfHH8"
   },
   "source": [
    "**Visualize os dados e veja como ficou após o pré-processamento**"
   ]
  },
  {
   "cell_type": "code",
   "execution_count": 91,
   "metadata": {
    "colab": {
     "base_uri": "https://localhost:8080/",
     "height": 894
    },
    "colab_type": "code",
    "executionInfo": {
     "elapsed": 626,
     "status": "ok",
     "timestamp": 1566432904501,
     "user": {
      "displayName": "Rodrigo Santana Ferreira",
      "photoUrl": "https://lh3.googleusercontent.com/a-/AAuE7mDmYh9EbTthNVFuzwQSdLXKIk98sJfQinB_DD4VqA=s64",
      "userId": "14710330936720624047"
     },
     "user_tz": 180
    },
    "id": "4Fg7uWnpfHH9",
    "outputId": "d604c27d-2e7c-4448-a641-87a1a0aabe46"
   },
   "outputs": [
    {
     "data": {
      "text/plain": [
       "['���⛪ @ catedr sant antôni govern valadares/mg',\n",
       " '� @ govern valadares, min geral',\n",
       " '�� @ govern valadares, min geral',\n",
       " '���',\n",
       " '��� psol vai quest aument vere prefeit bh justiç poli est min',\n",
       " '\" bom band morto\" deput cab júli conden fic ineleg 10 ano poli est min',\n",
       " '\"e 25% min diz torc tim nenhum,mesm dentr est atléticomg cruz pq?\"',\n",
       " '\"a gigantesc barb mal\" destaqu cadern cult est min',\n",
       " '\"bb govern min tr disput sobr depósit judiciais\"',\n",
       " '\"com vc bh fic pequena!\" bel horizont (pron [bɛloɾiˈzõntʃi][10] capit est mg, áre aproximad 331 km²',\n",
       " '\"daí gent visit govern valadares\" \"qu lug eh mãe?\" \"mg, gent um parent la\" man ond q parent',\n",
       " '\"é bonit bonita\" #latergr #ibiturun #hom @ govern valadares, min geral',\n",
       " '\"err desconhecido\" mato! aliás, secret estad fazend tá assim mg precis dinh não, governador?',\n",
       " '\"la la land cant estações\" arras glob our est min',\n",
       " '\"la la land cant estações\" arras glob our est min',\n",
       " '\"lo abusos, aun en el est má sólido, son min sord tard tempr estallan\" joseph sanialdubay',\n",
       " '\"mesm dinh caix govern min geral compr 2 (doil helicópteros\" doi helicópter min geral #2017 s1',\n",
       " '\"model seguranç legado\", diz cláudi beat poli est min',\n",
       " '\"model seguranç legado\", diz cláudi beat poli est min',\n",
       " '\"model seguranç legado\", diz cláudi beat poli est min',\n",
       " '\"o govern min geral coment assunt \"',\n",
       " '\"o govern feder public dia 27 dezembr 2016, med provisór 764/16 permit diferenci',\n",
       " '\"políc feder acab divulg encontr prov apart lula, 4ª série\" jorn est min',\n",
       " '\"pra estação\" lot nest sáb ver bh geral est min',\n",
       " '\"represent ferrament monitor educ red estad minas, secret est',\n",
       " '\"us aeronav pertenc est mg, domingo, p/ fim pessoais, clar desvi finalidade\"',\n",
       " '\"vou post uma curios sobr corp humano\" *o jap men est min gerais* ????¿¿¿?¿',\n",
       " '#acordaminas!!! govern fern pimentel, ser flagr us helicópter est mg',\n",
       " '#acordaminas!!!! pov min pé bund dess canalh',\n",
       " '#alert nom cee utiliz golp est',\n",
       " '#bet #betalab #mg afili glob apresent am demit após critic governador…',\n",
       " '#bet #betalab #mg cao presídi am ped apoi uni seil dia após massacr',\n",
       " '#bet #betalab #mg cao presídi tem cármen lúc reún debat cris',\n",
       " '#bet #betalab #mg cris carcerár govern rora ped forç nacion tem',\n",
       " '#bet #betalab #mg cris carcerár secret sp diz hav guerr facç país',\n",
       " '#bet #betalab #mg cris polít df agrav rollemberg exon vicegovern cargo… #timbet #rt #brasil',\n",
       " '#bet #betalab #mg escal viol presídi am ped apoi forç nacional…',\n",
       " '#bet #betalab #mg escal viol crim organiz brasil disput 27…',\n",
       " '#bet #betalab #mg est afirm ter sid notific apes decis judicial, reajuste……',\n",
       " '#bet #betalab #mg est espírit paulist \"voz\" trânsito, buzin reflet pressa,……',\n",
       " '#bet #betalab #mg est fal part pmdb qu barr vet tem negoci de……',\n",
       " '#bet #betalab #mg exministr outr serv pt mantêm carg estratégicos… #timbet #rt #brasil',\n",
       " \"#bet #betalab #mg expresid câm justiç suíç vê 'indíci concretos' contra…\",\n",
       " '#bet #betalab #mg govern calam financ bb avis justiç min tem…',\n",
       " \"#bet #betalab #mg sobr massacr pf facç 'cel comando' dentr prisão…\",\n",
       " '#bet #betalab #mg marketing vet med pae doaç sang capoe 1ª……',\n",
       " '#bet #betalab #mg massacr presídi manau govern am rebat ministr justiç e… #timbet #rt #brasil',\n",
       " '#bet #betalab #mg mudanç propost govern reform lib trabalh 12 hor alguns……',\n",
       " '#bet #betalab #mg muit págin investig \"qg\" lav jat reún 30 milhões……',\n",
       " '#bet #betalab #mg últ doi ano govern pag r$ 2,4 bi alv lav jat']"
      ]
     },
     "execution_count": 91,
     "metadata": {},
     "output_type": "execute_result"
    }
   ],
   "source": [
    "tweets[:50]"
   ]
  },
  {
   "cell_type": "markdown",
   "metadata": {
    "colab_type": "text",
    "id": "N27Ueb96lu7W"
   },
   "source": [
    "**Tokenização**\n",
    "- Atente para o tipo de dados que você está trabalhando."
   ]
  },
  {
   "cell_type": "code",
   "execution_count": 28,
   "metadata": {
    "colab": {},
    "colab_type": "code",
    "id": "Dq6O2GxKlz-6"
   },
   "outputs": [],
   "source": [
    "from nltk.tokenize import word_tokenize\n"
   ]
  },
  {
   "cell_type": "code",
   "execution_count": 29,
   "metadata": {
    "colab": {},
    "colab_type": "code",
    "id": "hfkgKqmEmupe"
   },
   "outputs": [],
   "source": [
    "frase = 'A live do @blogminerando é show! :) :-) ;) =D'"
   ]
  },
  {
   "cell_type": "code",
   "execution_count": 30,
   "metadata": {
    "colab": {
     "base_uri": "https://localhost:8080/",
     "height": 291
    },
    "colab_type": "code",
    "executionInfo": {
     "elapsed": 655,
     "status": "ok",
     "timestamp": 1566433270683,
     "user": {
      "displayName": "Rodrigo Santana Ferreira",
      "photoUrl": "https://lh3.googleusercontent.com/a-/AAuE7mDmYh9EbTthNVFuzwQSdLXKIk98sJfQinB_DD4VqA=s64",
      "userId": "14710330936720624047"
     },
     "user_tz": 180
    },
    "id": "ixDJyhR7l3-S",
    "outputId": "f106f72e-9f51-44cb-d78e-08bbcfce4771"
   },
   "outputs": [
    {
     "data": {
      "text/plain": [
       "['A',\n",
       " 'live',\n",
       " 'do',\n",
       " '@',\n",
       " 'blogminerando',\n",
       " 'é',\n",
       " 'show',\n",
       " '!',\n",
       " ':',\n",
       " ')',\n",
       " ':',\n",
       " '-',\n",
       " ')',\n",
       " ';',\n",
       " ')',\n",
       " '=D']"
      ]
     },
     "execution_count": 30,
     "metadata": {},
     "output_type": "execute_result"
    }
   ],
   "source": [
    "\n",
    "word_tokenize(frase)"
   ]
  },
  {
   "cell_type": "code",
   "execution_count": 31,
   "metadata": {
    "colab": {},
    "colab_type": "code",
    "id": "uJeCv1E4lA7O"
   },
   "outputs": [],
   "source": [
    "from nltk.tokenize import TweetTokenizer"
   ]
  },
  {
   "cell_type": "code",
   "execution_count": 32,
   "metadata": {
    "colab": {},
    "colab_type": "code",
    "id": "PsW12SRmle1u"
   },
   "outputs": [],
   "source": [
    "tweet_tokenizer = TweetTokenizer()"
   ]
  },
  {
   "cell_type": "code",
   "execution_count": 33,
   "metadata": {
    "colab": {
     "base_uri": "https://localhost:8080/",
     "height": 206
    },
    "colab_type": "code",
    "executionInfo": {
     "elapsed": 621,
     "status": "ok",
     "timestamp": 1566433337083,
     "user": {
      "displayName": "Rodrigo Santana Ferreira",
      "photoUrl": "https://lh3.googleusercontent.com/a-/AAuE7mDmYh9EbTthNVFuzwQSdLXKIk98sJfQinB_DD4VqA=s64",
      "userId": "14710330936720624047"
     },
     "user_tz": 180
    },
    "id": "rlDjKW46mV51",
    "outputId": "8e862607-b09a-48ba-977b-4bf054279998"
   },
   "outputs": [
    {
     "data": {
      "text/plain": [
       "['A',\n",
       " 'live',\n",
       " 'do',\n",
       " '@blogminerando',\n",
       " 'é',\n",
       " 'show',\n",
       " '!',\n",
       " ':)',\n",
       " ':-)',\n",
       " ';)',\n",
       " '=D']"
      ]
     },
     "execution_count": 33,
     "metadata": {},
     "output_type": "execute_result"
    }
   ],
   "source": [
    "tweet_tokenizer.tokenize(frase)"
   ]
  },
  {
   "cell_type": "markdown",
   "metadata": {
    "colab_type": "text",
    "id": "y_42starfHH_"
   },
   "source": [
    "## Criando o modelo"
   ]
  },
  {
   "cell_type": "markdown",
   "metadata": {
    "colab_type": "text",
    "id": "eGBtrI9zfHH_"
   },
   "source": [
    "**Instancia o objeto que faz a vetorização dos dados de texto**"
   ]
  },
  {
   "cell_type": "code",
   "execution_count": 34,
   "metadata": {
    "colab": {},
    "colab_type": "code",
    "id": "VOZ0Nej6fHIA"
   },
   "outputs": [],
   "source": [
    "vectorizer = CountVectorizer(analyzer=\"word\", tokenizer=tweet_tokenizer.tokenize)\n",
    "\n",
    "# vectorizer = CountVectorizer(analyzer=\"word\", tokenizer=tweet_tokenizer.tokenize, max_features=1000)   <-- bases muito grandes"
   ]
  },
  {
   "cell_type": "markdown",
   "metadata": {
    "colab_type": "text",
    "id": "Kzs88XE1fHIC"
   },
   "source": [
    "**Aplica o vetorizador nos dados de texto**"
   ]
  },
  {
   "cell_type": "code",
   "execution_count": 92,
   "metadata": {
    "colab": {
     "base_uri": "https://localhost:8080/",
     "height": 34
    },
    "colab_type": "code",
    "executionInfo": {
     "elapsed": 905,
     "status": "ok",
     "timestamp": 1566433922147,
     "user": {
      "displayName": "Rodrigo Santana Ferreira",
      "photoUrl": "https://lh3.googleusercontent.com/a-/AAuE7mDmYh9EbTthNVFuzwQSdLXKIk98sJfQinB_DD4VqA=s64",
      "userId": "14710330936720624047"
     },
     "user_tz": 180
    },
    "id": "bNmtvrUafHIC",
    "outputId": "97441218-e944-456b-e1bc-a9f01b5ce158"
   },
   "outputs": [
    {
     "data": {
      "text/plain": [
       "scipy.sparse._csr.csr_matrix"
      ]
     },
     "execution_count": 92,
     "metadata": {},
     "output_type": "execute_result"
    }
   ],
   "source": [
    "freq_tweets = vectorizer.fit_transform(tweets)\n",
    "type(freq_tweets)"
   ]
  },
  {
   "cell_type": "markdown",
   "metadata": {
    "colab_type": "text",
    "id": "06Qgq0EIfHIH"
   },
   "source": [
    "**Formato (Linhas, Colunas) da matriz**"
   ]
  },
  {
   "cell_type": "code",
   "execution_count": 93,
   "metadata": {
    "colab": {
     "base_uri": "https://localhost:8080/",
     "height": 34
    },
    "colab_type": "code",
    "executionInfo": {
     "elapsed": 616,
     "status": "ok",
     "timestamp": 1566433939320,
     "user": {
      "displayName": "Rodrigo Santana Ferreira",
      "photoUrl": "https://lh3.googleusercontent.com/a-/AAuE7mDmYh9EbTthNVFuzwQSdLXKIk98sJfQinB_DD4VqA=s64",
      "userId": "14710330936720624047"
     },
     "user_tz": 180
    },
    "id": "bEQi20ajfHII",
    "outputId": "d8c06bc2-9578-4807-e5e4-76a71b71a542"
   },
   "outputs": [
    {
     "data": {
      "text/plain": [
       "(5765, 6138)"
      ]
     },
     "execution_count": 93,
     "metadata": {},
     "output_type": "execute_result"
    }
   ],
   "source": [
    "freq_tweets.shape"
   ]
  },
  {
   "cell_type": "markdown",
   "metadata": {
    "colab_type": "text",
    "id": "lejKj5JCjKSx"
   },
   "source": [
    "**Treino do modelo de Machine Learning**"
   ]
  },
  {
   "cell_type": "code",
   "execution_count": 94,
   "metadata": {
    "colab": {
     "base_uri": "https://localhost:8080/",
     "height": 34
    },
    "colab_type": "code",
    "executionInfo": {
     "elapsed": 643,
     "status": "ok",
     "timestamp": 1566433974309,
     "user": {
      "displayName": "Rodrigo Santana Ferreira",
      "photoUrl": "https://lh3.googleusercontent.com/a-/AAuE7mDmYh9EbTthNVFuzwQSdLXKIk98sJfQinB_DD4VqA=s64",
      "userId": "14710330936720624047"
     },
     "user_tz": 180
    },
    "id": "NY5FcgiCfHIE",
    "outputId": "656da604-df16-4409-9f4a-18c32f662d06"
   },
   "outputs": [
    {
     "data": {
      "text/html": [
       "<style>#sk-container-id-1 {color: black;background-color: white;}#sk-container-id-1 pre{padding: 0;}#sk-container-id-1 div.sk-toggleable {background-color: white;}#sk-container-id-1 label.sk-toggleable__label {cursor: pointer;display: block;width: 100%;margin-bottom: 0;padding: 0.3em;box-sizing: border-box;text-align: center;}#sk-container-id-1 label.sk-toggleable__label-arrow:before {content: \"▸\";float: left;margin-right: 0.25em;color: #696969;}#sk-container-id-1 label.sk-toggleable__label-arrow:hover:before {color: black;}#sk-container-id-1 div.sk-estimator:hover label.sk-toggleable__label-arrow:before {color: black;}#sk-container-id-1 div.sk-toggleable__content {max-height: 0;max-width: 0;overflow: hidden;text-align: left;background-color: #f0f8ff;}#sk-container-id-1 div.sk-toggleable__content pre {margin: 0.2em;color: black;border-radius: 0.25em;background-color: #f0f8ff;}#sk-container-id-1 input.sk-toggleable__control:checked~div.sk-toggleable__content {max-height: 200px;max-width: 100%;overflow: auto;}#sk-container-id-1 input.sk-toggleable__control:checked~label.sk-toggleable__label-arrow:before {content: \"▾\";}#sk-container-id-1 div.sk-estimator input.sk-toggleable__control:checked~label.sk-toggleable__label {background-color: #d4ebff;}#sk-container-id-1 div.sk-label input.sk-toggleable__control:checked~label.sk-toggleable__label {background-color: #d4ebff;}#sk-container-id-1 input.sk-hidden--visually {border: 0;clip: rect(1px 1px 1px 1px);clip: rect(1px, 1px, 1px, 1px);height: 1px;margin: -1px;overflow: hidden;padding: 0;position: absolute;width: 1px;}#sk-container-id-1 div.sk-estimator {font-family: monospace;background-color: #f0f8ff;border: 1px dotted black;border-radius: 0.25em;box-sizing: border-box;margin-bottom: 0.5em;}#sk-container-id-1 div.sk-estimator:hover {background-color: #d4ebff;}#sk-container-id-1 div.sk-parallel-item::after {content: \"\";width: 100%;border-bottom: 1px solid gray;flex-grow: 1;}#sk-container-id-1 div.sk-label:hover label.sk-toggleable__label {background-color: #d4ebff;}#sk-container-id-1 div.sk-serial::before {content: \"\";position: absolute;border-left: 1px solid gray;box-sizing: border-box;top: 0;bottom: 0;left: 50%;z-index: 0;}#sk-container-id-1 div.sk-serial {display: flex;flex-direction: column;align-items: center;background-color: white;padding-right: 0.2em;padding-left: 0.2em;position: relative;}#sk-container-id-1 div.sk-item {position: relative;z-index: 1;}#sk-container-id-1 div.sk-parallel {display: flex;align-items: stretch;justify-content: center;background-color: white;position: relative;}#sk-container-id-1 div.sk-item::before, #sk-container-id-1 div.sk-parallel-item::before {content: \"\";position: absolute;border-left: 1px solid gray;box-sizing: border-box;top: 0;bottom: 0;left: 50%;z-index: -1;}#sk-container-id-1 div.sk-parallel-item {display: flex;flex-direction: column;z-index: 1;position: relative;background-color: white;}#sk-container-id-1 div.sk-parallel-item:first-child::after {align-self: flex-end;width: 50%;}#sk-container-id-1 div.sk-parallel-item:last-child::after {align-self: flex-start;width: 50%;}#sk-container-id-1 div.sk-parallel-item:only-child::after {width: 0;}#sk-container-id-1 div.sk-dashed-wrapped {border: 1px dashed gray;margin: 0 0.4em 0.5em 0.4em;box-sizing: border-box;padding-bottom: 0.4em;background-color: white;}#sk-container-id-1 div.sk-label label {font-family: monospace;font-weight: bold;display: inline-block;line-height: 1.2em;}#sk-container-id-1 div.sk-label-container {text-align: center;}#sk-container-id-1 div.sk-container {/* jupyter's `normalize.less` sets `[hidden] { display: none; }` but bootstrap.min.css set `[hidden] { display: none !important; }` so we also need the `!important` here to be able to override the default hidden behavior on the sphinx rendered scikit-learn.org. See: https://github.com/scikit-learn/scikit-learn/issues/21755 */display: inline-block !important;position: relative;}#sk-container-id-1 div.sk-text-repr-fallback {display: none;}</style><div id=\"sk-container-id-1\" class=\"sk-top-container\"><div class=\"sk-text-repr-fallback\"><pre>MultinomialNB()</pre><b>In a Jupyter environment, please rerun this cell to show the HTML representation or trust the notebook. <br />On GitHub, the HTML representation is unable to render, please try loading this page with nbviewer.org.</b></div><div class=\"sk-container\" hidden><div class=\"sk-item\"><div class=\"sk-estimator sk-toggleable\"><input class=\"sk-toggleable__control sk-hidden--visually\" id=\"sk-estimator-id-1\" type=\"checkbox\" checked><label for=\"sk-estimator-id-1\" class=\"sk-toggleable__label sk-toggleable__label-arrow\">MultinomialNB</label><div class=\"sk-toggleable__content\"><pre>MultinomialNB()</pre></div></div></div></div></div>"
      ],
      "text/plain": [
       "MultinomialNB()"
      ]
     },
     "execution_count": 94,
     "metadata": {},
     "output_type": "execute_result"
    }
   ],
   "source": [
    "modelo = MultinomialNB()\n",
    "modelo.fit(freq_tweets,classes)"
   ]
  },
  {
   "cell_type": "markdown",
   "metadata": {
    "colab_type": "text",
    "id": "r_g3jIwCfHIL"
   },
   "source": [
    "**Matriz**"
   ]
  },
  {
   "cell_type": "code",
   "execution_count": 97,
   "metadata": {
    "colab": {
     "base_uri": "https://localhost:8080/",
     "height": 137
    },
    "colab_type": "code",
    "executionInfo": {
     "elapsed": 1124,
     "status": "ok",
     "timestamp": 1566434004358,
     "user": {
      "displayName": "Rodrigo Santana Ferreira",
      "photoUrl": "https://lh3.googleusercontent.com/a-/AAuE7mDmYh9EbTthNVFuzwQSdLXKIk98sJfQinB_DD4VqA=s64",
      "userId": "14710330936720624047"
     },
     "user_tz": 180
    },
    "id": "T5t9uHX7fHIL",
    "outputId": "f34bc4c5-0a8e-4da6-99ac-4219c3250004"
   },
   "outputs": [
    {
     "data": {
      "text/plain": [
       "array([[0, 0, 0, ..., 0, 0, 3],\n",
       "       [0, 0, 0, ..., 0, 0, 1],\n",
       "       [0, 0, 0, ..., 0, 0, 2],\n",
       "       ...,\n",
       "       [0, 0, 0, ..., 0, 0, 0],\n",
       "       [0, 0, 0, ..., 0, 0, 0],\n",
       "       [0, 0, 0, ..., 0, 0, 0]])"
      ]
     },
     "execution_count": 97,
     "metadata": {},
     "output_type": "execute_result"
    }
   ],
   "source": [
    "freq_tweets.A"
   ]
  },
  {
   "cell_type": "markdown",
   "metadata": {
    "colab_type": "text",
    "id": "GIHIF5wafHIN"
   },
   "source": [
    "**Testando o modelo com algumas instâncias simples**"
   ]
  },
  {
   "cell_type": "code",
   "execution_count": 129,
   "metadata": {
    "colab": {},
    "colab_type": "code",
    "id": "RSDjpEc7fHIO"
   },
   "outputs": [],
   "source": [
    "# defina instâncias de teste dentro de uma lista\n",
    "testes = ['o governo de nao presta, incrivel isso',\n",
    "          'Estou muito feliz com o governo de Minas esse ano',\n",
    "          'O estado de Minas Gerais decretou calamidade financeira!!!',\n",
    "          'A segurança desse país está deixando a desejar',\n",
    "          'O governador de Minas é mais uma vez do PT']"
   ]
  },
  {
   "cell_type": "markdown",
   "metadata": {
    "colab_type": "text",
    "id": "NhOg0rrQfHIP"
   },
   "source": [
    "**Aplica a função de Pré-processamento nos dados**"
   ]
  },
  {
   "cell_type": "code",
   "execution_count": 130,
   "metadata": {
    "colab": {},
    "colab_type": "code",
    "id": "9JLAwKhsfHIQ"
   },
   "outputs": [
    {
     "data": {
      "text/plain": [
       "['govern nao presta, incri',\n",
       " 'feliz govern min ano',\n",
       " 'est min geral decret calam financeira!!!',\n",
       " 'seguranç dess país deix desej',\n",
       " 'govern min vez pt']"
      ]
     },
     "execution_count": 130,
     "metadata": {},
     "output_type": "execute_result"
    }
   ],
   "source": [
    "testes = [Preprocessing(i) for i in testes]\n",
    "testes"
   ]
  },
  {
   "cell_type": "code",
   "execution_count": 131,
   "metadata": {
    "colab": {},
    "colab_type": "code",
    "id": "xX2jyVWnfHIS"
   },
   "outputs": [],
   "source": [
    "# Transforma os dados de teste em vetores de palavras.\n",
    "freq_testes = vectorizer.transform(testes)"
   ]
  },
  {
   "cell_type": "code",
   "execution_count": 132,
   "metadata": {
    "colab": {
     "base_uri": "https://localhost:8080/",
     "height": 103
    },
    "colab_type": "code",
    "executionInfo": {
     "elapsed": 665,
     "status": "ok",
     "timestamp": 1566434142632,
     "user": {
      "displayName": "Rodrigo Santana Ferreira",
      "photoUrl": "https://lh3.googleusercontent.com/a-/AAuE7mDmYh9EbTthNVFuzwQSdLXKIk98sJfQinB_DD4VqA=s64",
      "userId": "14710330936720624047"
     },
     "user_tz": 180
    },
    "id": "i1Oe0lfcfHIU",
    "outputId": "2285e3ca-d5d2-488b-c0ba-20082ce00edd"
   },
   "outputs": [
    {
     "name": "stdout",
     "output_type": "stream",
     "text": [
      "govern nao presta, incri, Negativo\n",
      "feliz govern min ano, Neutro\n",
      "est min geral decret calam financeira!!!, Negativo\n",
      "seguranç dess país deix desej, Neutro\n",
      "govern min vez pt, Negativo\n"
     ]
    }
   ],
   "source": [
    "# Fazendo a classificação com o modelo treinado.\n",
    "for t, c in zip (testes,modelo.predict(freq_testes)):\n",
    "    print (t +\", \"+ c)"
   ]
  },
  {
   "cell_type": "code",
   "execution_count": 42,
   "metadata": {
    "colab": {
     "base_uri": "https://localhost:8080/",
     "height": 120
    },
    "colab_type": "code",
    "executionInfo": {
     "elapsed": 644,
     "status": "ok",
     "timestamp": 1566434224590,
     "user": {
      "displayName": "Rodrigo Santana Ferreira",
      "photoUrl": "https://lh3.googleusercontent.com/a-/AAuE7mDmYh9EbTthNVFuzwQSdLXKIk98sJfQinB_DD4VqA=s64",
      "userId": "14710330936720624047"
     },
     "user_tz": 180
    },
    "id": "7BsTaayEfHIW",
    "outputId": "f008ad90-c586-4e44-e2bc-d04b8171d5ed"
   },
   "outputs": [
    {
     "name": "stdout",
     "output_type": "stream",
     "text": [
      "['Negativo' 'Neutro' 'Positivo']\n"
     ]
    },
    {
     "data": {
      "text/plain": [
       "array([[0.21, 0.79, 0.  ],\n",
       "       [0.04, 0.96, 0.  ],\n",
       "       [0.99, 0.01, 0.  ],\n",
       "       [0.01, 0.98, 0.  ],\n",
       "       [0.14, 0.86, 0.  ]])"
      ]
     },
     "execution_count": 42,
     "metadata": {
      "tags": []
     },
     "output_type": "execute_result"
    }
   ],
   "source": [
    "# Probabilidades de cada classe\n",
    "print (modelo.classes_)\n",
    "modelo.predict_proba(freq_testes).round(2)"
   ]
  },
  {
   "cell_type": "markdown",
   "metadata": {
    "colab_type": "text",
    "id": "8lP-AkxtfHIZ"
   },
   "source": [
    "## **Tags de Negações**"
   ]
  },
  {
   "cell_type": "markdown",
   "metadata": {
    "colab_type": "text",
    "id": "hHCm2rqrfHIa"
   },
   "source": [
    "* Acrescenta uma tag _NEG encontrada após um 'não'.\n",
    "* Objetivo é dar mais peso para o modelo identificar uma inversão de sentimento da frase.\n",
    "* Exemplos: \n",
    "    - Eu gosto de cachorros, positivo.\n",
    "    - Eu **não** gosto de cachorros, negativo."
   ]
  },
  {
   "cell_type": "code",
   "execution_count": 114,
   "metadata": {
    "colab": {},
    "colab_type": "code",
    "id": "NRgqopgQfHIb"
   },
   "outputs": [],
   "source": [
    "def marque_negacao(texto):\n",
    "    negacoes = ['não','not']\n",
    "    negacao_detectada = False\n",
    "    resultado = []\n",
    "    palavras = texto.split()\n",
    "    for p in palavras:\n",
    "        p = p.lower()\n",
    "        if negacao_detectada == True:\n",
    "            p = p + '_NEG'\n",
    "        if p in negacoes:\n",
    "            negacao_detectada = True\n",
    "        resultado.append(p)\n",
    "    return (\" \".join(resultado))"
   ]
  },
  {
   "cell_type": "markdown",
   "metadata": {
    "colab_type": "text",
    "id": "4M4dM-IMfHId"
   },
   "source": [
    "**Exemplos de utilização da tag de negações**"
   ]
  },
  {
   "cell_type": "code",
   "execution_count": 115,
   "metadata": {
    "colab": {
     "base_uri": "https://localhost:8080/",
     "height": 34
    },
    "colab_type": "code",
    "executionInfo": {
     "elapsed": 638,
     "status": "ok",
     "timestamp": 1566434753909,
     "user": {
      "displayName": "Rodrigo Santana Ferreira",
      "photoUrl": "https://lh3.googleusercontent.com/a-/AAuE7mDmYh9EbTthNVFuzwQSdLXKIk98sJfQinB_DD4VqA=s64",
      "userId": "14710330936720624047"
     },
     "user_tz": 180
    },
    "id": "wnpgrQRhfHId",
    "outputId": "16b7302b-6cf8-496c-e643-dfc86ae2ee0f"
   },
   "outputs": [
    {
     "data": {
      "text/plain": [
       "'eu gosto do partido, votaria novamente nesse governante!'"
      ]
     },
     "execution_count": 115,
     "metadata": {},
     "output_type": "execute_result"
    }
   ],
   "source": [
    "marque_negacao('Eu gosto do partido, votaria novamente nesse governante!')"
   ]
  },
  {
   "cell_type": "code",
   "execution_count": 116,
   "metadata": {
    "colab": {
     "base_uri": "https://localhost:8080/",
     "height": 54
    },
    "colab_type": "code",
    "executionInfo": {
     "elapsed": 595,
     "status": "ok",
     "timestamp": 1566434784835,
     "user": {
      "displayName": "Rodrigo Santana Ferreira",
      "photoUrl": "https://lh3.googleusercontent.com/a-/AAuE7mDmYh9EbTthNVFuzwQSdLXKIk98sJfQinB_DD4VqA=s64",
      "userId": "14710330936720624047"
     },
     "user_tz": 180
    },
    "id": "8VAWpxI3fHIf",
    "outputId": "32600e4d-ae70-45ac-8122-40c24ece5e39"
   },
   "outputs": [
    {
     "data": {
      "text/plain": [
       "'eu não gosto_NEG do_NEG partido_NEG e_NEG também_NEG não_NEG votaria_NEG novamente_NEG nesse_NEG governante!_NEG'"
      ]
     },
     "execution_count": 116,
     "metadata": {},
     "output_type": "execute_result"
    }
   ],
   "source": [
    "marque_negacao('Eu Não gosto do partido e também não votaria novamente nesse governante!')"
   ]
  },
  {
   "cell_type": "markdown",
   "metadata": {
    "colab_type": "text",
    "id": "2_7GZsu8fHIi"
   },
   "source": [
    "## **Criando modelos com Pipelines**"
   ]
  },
  {
   "cell_type": "markdown",
   "metadata": {
    "colab_type": "text",
    "id": "DDGtt4u0fHIj"
   },
   "source": [
    "* Pipelines são interessantes para reduzir código e automatizar fluxos"
   ]
  },
  {
   "cell_type": "code",
   "execution_count": 104,
   "metadata": {
    "colab": {},
    "colab_type": "code",
    "id": "eQEWzXphfHIj"
   },
   "outputs": [],
   "source": [
    "from sklearn.pipeline import Pipeline"
   ]
  },
  {
   "cell_type": "code",
   "execution_count": 123,
   "metadata": {
    "colab": {},
    "colab_type": "code",
    "id": "hbks3HWdfHIm"
   },
   "outputs": [],
   "source": [
    "pipeline_simples = Pipeline([\n",
    "  ('counts', CountVectorizer(analyzer=\"word\", tokenizer=tweet_tokenizer.tokenize)),\n",
    "  ('classifier', MultinomialNB())\n",
    "])"
   ]
  },
  {
   "cell_type": "markdown",
   "metadata": {
    "colab_type": "text",
    "id": "Au6K0aJffHIs"
   },
   "source": [
    "* Pipeline que atribui tag de negacoes nas palavras"
   ]
  },
  {
   "cell_type": "code",
   "execution_count": 113,
   "metadata": {
    "colab": {},
    "colab_type": "code",
    "id": "zn-x4LvLfHIt"
   },
   "outputs": [],
   "source": [
    "pipeline_negacoes = Pipeline([\n",
    "  ('counts', CountVectorizer(tokenizer=lambda text: marque_negacao(text))),\n",
    "  ('classifier', MultinomialNB())\n",
    "])"
   ]
  },
  {
   "cell_type": "code",
   "execution_count": 124,
   "metadata": {
    "colab": {
     "base_uri": "https://localhost:8080/",
     "height": 282
    },
    "colab_type": "code",
    "executionInfo": {
     "elapsed": 629,
     "status": "ok",
     "timestamp": 1566435026982,
     "user": {
      "displayName": "Rodrigo Santana Ferreira",
      "photoUrl": "https://lh3.googleusercontent.com/a-/AAuE7mDmYh9EbTthNVFuzwQSdLXKIk98sJfQinB_DD4VqA=s64",
      "userId": "14710330936720624047"
     },
     "user_tz": 180
    },
    "id": "hRbBD5HlfHIx",
    "outputId": "336ed2f8-dfca-415a-fde2-e638d35140fa"
   },
   "outputs": [
    {
     "data": {
      "text/html": [
       "<style>#sk-container-id-4 {color: black;background-color: white;}#sk-container-id-4 pre{padding: 0;}#sk-container-id-4 div.sk-toggleable {background-color: white;}#sk-container-id-4 label.sk-toggleable__label {cursor: pointer;display: block;width: 100%;margin-bottom: 0;padding: 0.3em;box-sizing: border-box;text-align: center;}#sk-container-id-4 label.sk-toggleable__label-arrow:before {content: \"▸\";float: left;margin-right: 0.25em;color: #696969;}#sk-container-id-4 label.sk-toggleable__label-arrow:hover:before {color: black;}#sk-container-id-4 div.sk-estimator:hover label.sk-toggleable__label-arrow:before {color: black;}#sk-container-id-4 div.sk-toggleable__content {max-height: 0;max-width: 0;overflow: hidden;text-align: left;background-color: #f0f8ff;}#sk-container-id-4 div.sk-toggleable__content pre {margin: 0.2em;color: black;border-radius: 0.25em;background-color: #f0f8ff;}#sk-container-id-4 input.sk-toggleable__control:checked~div.sk-toggleable__content {max-height: 200px;max-width: 100%;overflow: auto;}#sk-container-id-4 input.sk-toggleable__control:checked~label.sk-toggleable__label-arrow:before {content: \"▾\";}#sk-container-id-4 div.sk-estimator input.sk-toggleable__control:checked~label.sk-toggleable__label {background-color: #d4ebff;}#sk-container-id-4 div.sk-label input.sk-toggleable__control:checked~label.sk-toggleable__label {background-color: #d4ebff;}#sk-container-id-4 input.sk-hidden--visually {border: 0;clip: rect(1px 1px 1px 1px);clip: rect(1px, 1px, 1px, 1px);height: 1px;margin: -1px;overflow: hidden;padding: 0;position: absolute;width: 1px;}#sk-container-id-4 div.sk-estimator {font-family: monospace;background-color: #f0f8ff;border: 1px dotted black;border-radius: 0.25em;box-sizing: border-box;margin-bottom: 0.5em;}#sk-container-id-4 div.sk-estimator:hover {background-color: #d4ebff;}#sk-container-id-4 div.sk-parallel-item::after {content: \"\";width: 100%;border-bottom: 1px solid gray;flex-grow: 1;}#sk-container-id-4 div.sk-label:hover label.sk-toggleable__label {background-color: #d4ebff;}#sk-container-id-4 div.sk-serial::before {content: \"\";position: absolute;border-left: 1px solid gray;box-sizing: border-box;top: 0;bottom: 0;left: 50%;z-index: 0;}#sk-container-id-4 div.sk-serial {display: flex;flex-direction: column;align-items: center;background-color: white;padding-right: 0.2em;padding-left: 0.2em;position: relative;}#sk-container-id-4 div.sk-item {position: relative;z-index: 1;}#sk-container-id-4 div.sk-parallel {display: flex;align-items: stretch;justify-content: center;background-color: white;position: relative;}#sk-container-id-4 div.sk-item::before, #sk-container-id-4 div.sk-parallel-item::before {content: \"\";position: absolute;border-left: 1px solid gray;box-sizing: border-box;top: 0;bottom: 0;left: 50%;z-index: -1;}#sk-container-id-4 div.sk-parallel-item {display: flex;flex-direction: column;z-index: 1;position: relative;background-color: white;}#sk-container-id-4 div.sk-parallel-item:first-child::after {align-self: flex-end;width: 50%;}#sk-container-id-4 div.sk-parallel-item:last-child::after {align-self: flex-start;width: 50%;}#sk-container-id-4 div.sk-parallel-item:only-child::after {width: 0;}#sk-container-id-4 div.sk-dashed-wrapped {border: 1px dashed gray;margin: 0 0.4em 0.5em 0.4em;box-sizing: border-box;padding-bottom: 0.4em;background-color: white;}#sk-container-id-4 div.sk-label label {font-family: monospace;font-weight: bold;display: inline-block;line-height: 1.2em;}#sk-container-id-4 div.sk-label-container {text-align: center;}#sk-container-id-4 div.sk-container {/* jupyter's `normalize.less` sets `[hidden] { display: none; }` but bootstrap.min.css set `[hidden] { display: none !important; }` so we also need the `!important` here to be able to override the default hidden behavior on the sphinx rendered scikit-learn.org. See: https://github.com/scikit-learn/scikit-learn/issues/21755 */display: inline-block !important;position: relative;}#sk-container-id-4 div.sk-text-repr-fallback {display: none;}</style><div id=\"sk-container-id-4\" class=\"sk-top-container\"><div class=\"sk-text-repr-fallback\"><pre>Pipeline(steps=[(&#x27;counts&#x27;,\n",
       "                 CountVectorizer(tokenizer=&lt;bound method TweetTokenizer.tokenize of &lt;nltk.tokenize.casual.TweetTokenizer object at 0x7f8fe13b29d0&gt;&gt;)),\n",
       "                (&#x27;classifier&#x27;, MultinomialNB())])</pre><b>In a Jupyter environment, please rerun this cell to show the HTML representation or trust the notebook. <br />On GitHub, the HTML representation is unable to render, please try loading this page with nbviewer.org.</b></div><div class=\"sk-container\" hidden><div class=\"sk-item sk-dashed-wrapped\"><div class=\"sk-label-container\"><div class=\"sk-label sk-toggleable\"><input class=\"sk-toggleable__control sk-hidden--visually\" id=\"sk-estimator-id-8\" type=\"checkbox\" ><label for=\"sk-estimator-id-8\" class=\"sk-toggleable__label sk-toggleable__label-arrow\">Pipeline</label><div class=\"sk-toggleable__content\"><pre>Pipeline(steps=[(&#x27;counts&#x27;,\n",
       "                 CountVectorizer(tokenizer=&lt;bound method TweetTokenizer.tokenize of &lt;nltk.tokenize.casual.TweetTokenizer object at 0x7f8fe13b29d0&gt;&gt;)),\n",
       "                (&#x27;classifier&#x27;, MultinomialNB())])</pre></div></div></div><div class=\"sk-serial\"><div class=\"sk-item\"><div class=\"sk-estimator sk-toggleable\"><input class=\"sk-toggleable__control sk-hidden--visually\" id=\"sk-estimator-id-9\" type=\"checkbox\" ><label for=\"sk-estimator-id-9\" class=\"sk-toggleable__label sk-toggleable__label-arrow\">CountVectorizer</label><div class=\"sk-toggleable__content\"><pre>CountVectorizer(tokenizer=&lt;bound method TweetTokenizer.tokenize of &lt;nltk.tokenize.casual.TweetTokenizer object at 0x7f8fe13b29d0&gt;&gt;)</pre></div></div></div><div class=\"sk-item\"><div class=\"sk-estimator sk-toggleable\"><input class=\"sk-toggleable__control sk-hidden--visually\" id=\"sk-estimator-id-10\" type=\"checkbox\" ><label for=\"sk-estimator-id-10\" class=\"sk-toggleable__label sk-toggleable__label-arrow\">MultinomialNB</label><div class=\"sk-toggleable__content\"><pre>MultinomialNB()</pre></div></div></div></div></div></div></div>"
      ],
      "text/plain": [
       "Pipeline(steps=[('counts',\n",
       "                 CountVectorizer(tokenizer=<bound method TweetTokenizer.tokenize of <nltk.tokenize.casual.TweetTokenizer object at 0x7f8fe13b29d0>>)),\n",
       "                ('classifier', MultinomialNB())])"
      ]
     },
     "execution_count": 124,
     "metadata": {},
     "output_type": "execute_result"
    }
   ],
   "source": [
    "pipeline_simples.fit(tweets,classes)"
   ]
  },
  {
   "cell_type": "code",
   "execution_count": 111,
   "metadata": {
    "colab": {
     "base_uri": "https://localhost:8080/",
     "height": 177
    },
    "colab_type": "code",
    "executionInfo": {
     "elapsed": 650,
     "status": "ok",
     "timestamp": 1566435089748,
     "user": {
      "displayName": "Rodrigo Santana Ferreira",
      "photoUrl": "https://lh3.googleusercontent.com/a-/AAuE7mDmYh9EbTthNVFuzwQSdLXKIk98sJfQinB_DD4VqA=s64",
      "userId": "14710330936720624047"
     },
     "user_tz": 180
    },
    "id": "X5IGLvsefHIy",
    "outputId": "94196630-ad71-468f-de98-2f2209da837d"
   },
   "outputs": [
    {
     "data": {
      "text/plain": [
       "[('counts', CountVectorizer()), ('classifier', MultinomialNB())]"
      ]
     },
     "execution_count": 111,
     "metadata": {},
     "output_type": "execute_result"
    }
   ],
   "source": [
    "pipeline_simples.steps"
   ]
  },
  {
   "cell_type": "markdown",
   "metadata": {
    "colab_type": "text",
    "id": "LyE8h7lEfHI0"
   },
   "source": [
    "* Gera o modelo de negações"
   ]
  },
  {
   "cell_type": "code",
   "execution_count": 117,
   "metadata": {
    "colab": {
     "base_uri": "https://localhost:8080/",
     "height": 299
    },
    "colab_type": "code",
    "executionInfo": {
     "elapsed": 676,
     "status": "ok",
     "timestamp": 1566435119571,
     "user": {
      "displayName": "Rodrigo Santana Ferreira",
      "photoUrl": "https://lh3.googleusercontent.com/a-/AAuE7mDmYh9EbTthNVFuzwQSdLXKIk98sJfQinB_DD4VqA=s64",
      "userId": "14710330936720624047"
     },
     "user_tz": 180
    },
    "id": "AJnMHmwSfHI1",
    "outputId": "a28ee45a-6c15-4e04-da0e-b00c8bc1194e"
   },
   "outputs": [
    {
     "data": {
      "text/html": [
       "<style>#sk-container-id-3 {color: black;background-color: white;}#sk-container-id-3 pre{padding: 0;}#sk-container-id-3 div.sk-toggleable {background-color: white;}#sk-container-id-3 label.sk-toggleable__label {cursor: pointer;display: block;width: 100%;margin-bottom: 0;padding: 0.3em;box-sizing: border-box;text-align: center;}#sk-container-id-3 label.sk-toggleable__label-arrow:before {content: \"▸\";float: left;margin-right: 0.25em;color: #696969;}#sk-container-id-3 label.sk-toggleable__label-arrow:hover:before {color: black;}#sk-container-id-3 div.sk-estimator:hover label.sk-toggleable__label-arrow:before {color: black;}#sk-container-id-3 div.sk-toggleable__content {max-height: 0;max-width: 0;overflow: hidden;text-align: left;background-color: #f0f8ff;}#sk-container-id-3 div.sk-toggleable__content pre {margin: 0.2em;color: black;border-radius: 0.25em;background-color: #f0f8ff;}#sk-container-id-3 input.sk-toggleable__control:checked~div.sk-toggleable__content {max-height: 200px;max-width: 100%;overflow: auto;}#sk-container-id-3 input.sk-toggleable__control:checked~label.sk-toggleable__label-arrow:before {content: \"▾\";}#sk-container-id-3 div.sk-estimator input.sk-toggleable__control:checked~label.sk-toggleable__label {background-color: #d4ebff;}#sk-container-id-3 div.sk-label input.sk-toggleable__control:checked~label.sk-toggleable__label {background-color: #d4ebff;}#sk-container-id-3 input.sk-hidden--visually {border: 0;clip: rect(1px 1px 1px 1px);clip: rect(1px, 1px, 1px, 1px);height: 1px;margin: -1px;overflow: hidden;padding: 0;position: absolute;width: 1px;}#sk-container-id-3 div.sk-estimator {font-family: monospace;background-color: #f0f8ff;border: 1px dotted black;border-radius: 0.25em;box-sizing: border-box;margin-bottom: 0.5em;}#sk-container-id-3 div.sk-estimator:hover {background-color: #d4ebff;}#sk-container-id-3 div.sk-parallel-item::after {content: \"\";width: 100%;border-bottom: 1px solid gray;flex-grow: 1;}#sk-container-id-3 div.sk-label:hover label.sk-toggleable__label {background-color: #d4ebff;}#sk-container-id-3 div.sk-serial::before {content: \"\";position: absolute;border-left: 1px solid gray;box-sizing: border-box;top: 0;bottom: 0;left: 50%;z-index: 0;}#sk-container-id-3 div.sk-serial {display: flex;flex-direction: column;align-items: center;background-color: white;padding-right: 0.2em;padding-left: 0.2em;position: relative;}#sk-container-id-3 div.sk-item {position: relative;z-index: 1;}#sk-container-id-3 div.sk-parallel {display: flex;align-items: stretch;justify-content: center;background-color: white;position: relative;}#sk-container-id-3 div.sk-item::before, #sk-container-id-3 div.sk-parallel-item::before {content: \"\";position: absolute;border-left: 1px solid gray;box-sizing: border-box;top: 0;bottom: 0;left: 50%;z-index: -1;}#sk-container-id-3 div.sk-parallel-item {display: flex;flex-direction: column;z-index: 1;position: relative;background-color: white;}#sk-container-id-3 div.sk-parallel-item:first-child::after {align-self: flex-end;width: 50%;}#sk-container-id-3 div.sk-parallel-item:last-child::after {align-self: flex-start;width: 50%;}#sk-container-id-3 div.sk-parallel-item:only-child::after {width: 0;}#sk-container-id-3 div.sk-dashed-wrapped {border: 1px dashed gray;margin: 0 0.4em 0.5em 0.4em;box-sizing: border-box;padding-bottom: 0.4em;background-color: white;}#sk-container-id-3 div.sk-label label {font-family: monospace;font-weight: bold;display: inline-block;line-height: 1.2em;}#sk-container-id-3 div.sk-label-container {text-align: center;}#sk-container-id-3 div.sk-container {/* jupyter's `normalize.less` sets `[hidden] { display: none; }` but bootstrap.min.css set `[hidden] { display: none !important; }` so we also need the `!important` here to be able to override the default hidden behavior on the sphinx rendered scikit-learn.org. See: https://github.com/scikit-learn/scikit-learn/issues/21755 */display: inline-block !important;position: relative;}#sk-container-id-3 div.sk-text-repr-fallback {display: none;}</style><div id=\"sk-container-id-3\" class=\"sk-top-container\"><div class=\"sk-text-repr-fallback\"><pre>Pipeline(steps=[(&#x27;counts&#x27;,\n",
       "                 CountVectorizer(tokenizer=&lt;function &lt;lambda&gt; at 0x7f8fba207e50&gt;)),\n",
       "                (&#x27;classifier&#x27;, MultinomialNB())])</pre><b>In a Jupyter environment, please rerun this cell to show the HTML representation or trust the notebook. <br />On GitHub, the HTML representation is unable to render, please try loading this page with nbviewer.org.</b></div><div class=\"sk-container\" hidden><div class=\"sk-item sk-dashed-wrapped\"><div class=\"sk-label-container\"><div class=\"sk-label sk-toggleable\"><input class=\"sk-toggleable__control sk-hidden--visually\" id=\"sk-estimator-id-5\" type=\"checkbox\" ><label for=\"sk-estimator-id-5\" class=\"sk-toggleable__label sk-toggleable__label-arrow\">Pipeline</label><div class=\"sk-toggleable__content\"><pre>Pipeline(steps=[(&#x27;counts&#x27;,\n",
       "                 CountVectorizer(tokenizer=&lt;function &lt;lambda&gt; at 0x7f8fba207e50&gt;)),\n",
       "                (&#x27;classifier&#x27;, MultinomialNB())])</pre></div></div></div><div class=\"sk-serial\"><div class=\"sk-item\"><div class=\"sk-estimator sk-toggleable\"><input class=\"sk-toggleable__control sk-hidden--visually\" id=\"sk-estimator-id-6\" type=\"checkbox\" ><label for=\"sk-estimator-id-6\" class=\"sk-toggleable__label sk-toggleable__label-arrow\">CountVectorizer</label><div class=\"sk-toggleable__content\"><pre>CountVectorizer(tokenizer=&lt;function &lt;lambda&gt; at 0x7f8fba207e50&gt;)</pre></div></div></div><div class=\"sk-item\"><div class=\"sk-estimator sk-toggleable\"><input class=\"sk-toggleable__control sk-hidden--visually\" id=\"sk-estimator-id-7\" type=\"checkbox\" ><label for=\"sk-estimator-id-7\" class=\"sk-toggleable__label sk-toggleable__label-arrow\">MultinomialNB</label><div class=\"sk-toggleable__content\"><pre>MultinomialNB()</pre></div></div></div></div></div></div></div>"
      ],
      "text/plain": [
       "Pipeline(steps=[('counts',\n",
       "                 CountVectorizer(tokenizer=<function <lambda> at 0x7f8fba207e50>)),\n",
       "                ('classifier', MultinomialNB())])"
      ]
     },
     "execution_count": 117,
     "metadata": {},
     "output_type": "execute_result"
    }
   ],
   "source": [
    "pipeline_negacoes.fit(tweets,classes)"
   ]
  },
  {
   "cell_type": "markdown",
   "metadata": {
    "colab_type": "text",
    "id": "1js2hfBdfHI6"
   },
   "source": [
    "* Etapas do pipeline"
   ]
  },
  {
   "cell_type": "code",
   "execution_count": 118,
   "metadata": {
    "colab": {
     "base_uri": "https://localhost:8080/",
     "height": 194
    },
    "colab_type": "code",
    "executionInfo": {
     "elapsed": 574,
     "status": "ok",
     "timestamp": 1566435124856,
     "user": {
      "displayName": "Rodrigo Santana Ferreira",
      "photoUrl": "https://lh3.googleusercontent.com/a-/AAuE7mDmYh9EbTthNVFuzwQSdLXKIk98sJfQinB_DD4VqA=s64",
      "userId": "14710330936720624047"
     },
     "user_tz": 180
    },
    "id": "ytZ7h4lXfHI7",
    "outputId": "657d9b64-1d6d-4efc-ac77-8dee2a755a83"
   },
   "outputs": [
    {
     "data": {
      "text/plain": [
       "[('counts', CountVectorizer(tokenizer=<function <lambda> at 0x7f8fba207e50>)),\n",
       " ('classifier', MultinomialNB())]"
      ]
     },
     "execution_count": 118,
     "metadata": {},
     "output_type": "execute_result"
    }
   ],
   "source": [
    "pipeline_negacoes.steps"
   ]
  },
  {
   "cell_type": "markdown",
   "metadata": {
    "colab_type": "text",
    "id": "99PR3Zkxymew"
   },
   "source": [
    "Modelo com SVM"
   ]
  },
  {
   "cell_type": "code",
   "execution_count": 119,
   "metadata": {
    "colab": {},
    "colab_type": "code",
    "id": "8FIDTiQKyk5l"
   },
   "outputs": [],
   "source": [
    "pipeline_svm_simples = Pipeline([\n",
    "  ('counts', CountVectorizer()),\n",
    "  ('classifier', svm.SVC(kernel='linear'))\n",
    "])"
   ]
  },
  {
   "cell_type": "code",
   "execution_count": 120,
   "metadata": {
    "colab": {},
    "colab_type": "code",
    "id": "b3q4BrMey2zh"
   },
   "outputs": [],
   "source": [
    "pipeline_svm_negacoes = Pipeline([\n",
    "  ('counts', CountVectorizer(tokenizer=lambda text: marque_negacao(text))),\n",
    "  ('classifier', svm.SVC(kernel='linear'))\n",
    "])"
   ]
  },
  {
   "cell_type": "markdown",
   "metadata": {
    "colab_type": "text",
    "id": "SGfKFbZRfHI-"
   },
   "source": [
    "## Validando os Modelos com Validação Cruzada"
   ]
  },
  {
   "cell_type": "markdown",
   "metadata": {
    "colab_type": "text",
    "id": "t-E9PpV6fHI_"
   },
   "source": [
    "* Fazendo o cross validation do modelo"
   ]
  },
  {
   "cell_type": "code",
   "execution_count": 125,
   "metadata": {
    "colab": {},
    "colab_type": "code",
    "id": "4Gk7uMEtfHJA"
   },
   "outputs": [],
   "source": [
    "resultados = cross_val_predict(pipeline_simples, tweets, classes, cv=10)"
   ]
  },
  {
   "cell_type": "markdown",
   "metadata": {
    "colab_type": "text",
    "id": "c8CqLggufHJD"
   },
   "source": [
    "* Medindo a acurácia média do modelo"
   ]
  },
  {
   "cell_type": "code",
   "execution_count": 126,
   "metadata": {
    "colab": {
     "base_uri": "https://localhost:8080/",
     "height": 34
    },
    "colab_type": "code",
    "executionInfo": {
     "elapsed": 630,
     "status": "ok",
     "timestamp": 1566435274779,
     "user": {
      "displayName": "Rodrigo Santana Ferreira",
      "photoUrl": "https://lh3.googleusercontent.com/a-/AAuE7mDmYh9EbTthNVFuzwQSdLXKIk98sJfQinB_DD4VqA=s64",
      "userId": "14710330936720624047"
     },
     "user_tz": 180
    },
    "id": "y27p3EpxfHJD",
    "outputId": "77917ecd-1776-48e4-b214-5bba3e9e37f0"
   },
   "outputs": [
    {
     "data": {
      "text/plain": [
       "0.8584562012142237"
      ]
     },
     "execution_count": 126,
     "metadata": {},
     "output_type": "execute_result"
    }
   ],
   "source": [
    "metrics.accuracy_score(classes,resultados)"
   ]
  },
  {
   "cell_type": "markdown",
   "metadata": {
    "colab_type": "text",
    "id": "049BZedMfHJG"
   },
   "source": [
    "* Medidas de validação do modelo"
   ]
  },
  {
   "cell_type": "code",
   "execution_count": 128,
   "metadata": {
    "colab": {
     "base_uri": "https://localhost:8080/",
     "height": 192
    },
    "colab_type": "code",
    "executionInfo": {
     "elapsed": 641,
     "status": "ok",
     "timestamp": 1566435317124,
     "user": {
      "displayName": "Rodrigo Santana Ferreira",
      "photoUrl": "https://lh3.googleusercontent.com/a-/AAuE7mDmYh9EbTthNVFuzwQSdLXKIk98sJfQinB_DD4VqA=s64",
      "userId": "14710330936720624047"
     },
     "user_tz": 180
    },
    "id": "3DQOMkQZfHJH",
    "outputId": "8cba49b1-6a73-4a5a-f210-d46acd1eedfb"
   },
   "outputs": [],
   "source": [
    "# sentimento=['Positivo','Negativo','Neutro']\n",
    "# print (metrics.classification_report(classes,resultados,sentimento))"
   ]
  },
  {
   "cell_type": "markdown",
   "metadata": {
    "colab_type": "text",
    "id": "vQuKPwm-fHJI"
   },
   "source": [
    "* Matriz de confusão"
   ]
  },
  {
   "cell_type": "code",
   "execution_count": 60,
   "metadata": {
    "colab": {
     "base_uri": "https://localhost:8080/",
     "height": 122
    },
    "colab_type": "code",
    "executionInfo": {
     "elapsed": 635,
     "status": "ok",
     "timestamp": 1566435368923,
     "user": {
      "displayName": "Rodrigo Santana Ferreira",
      "photoUrl": "https://lh3.googleusercontent.com/a-/AAuE7mDmYh9EbTthNVFuzwQSdLXKIk98sJfQinB_DD4VqA=s64",
      "userId": "14710330936720624047"
     },
     "user_tz": 180
    },
    "id": "EKXS0gh-fHJI",
    "outputId": "b79a0618-9e78-4a75-ef1c-cba98bb84a6f"
   },
   "outputs": [
    {
     "name": "stdout",
     "output_type": "stream",
     "text": [
      "Predito   Negativo  Neutro  Positivo   All\n",
      "Real                                      \n",
      "Negativo       832     111         8   951\n",
      "Neutro         175    1662       137  1974\n",
      "Positivo        37     272      2531  2840\n",
      "All           1044    2045      2676  5765\n"
     ]
    }
   ],
   "source": [
    "print (pd.crosstab(classes, resultados, rownames=['Real'], colnames=['Predito'], margins=True))"
   ]
  },
  {
   "cell_type": "code",
   "execution_count": null,
   "metadata": {
    "colab": {},
    "colab_type": "code",
    "id": "3mBacjlezjA1"
   },
   "outputs": [],
   "source": [
    "def Metricas(modelo, tweets, classes):\n",
    "  resultados = cross_val_predict(modelo, tweets, classes, cv=10)\n",
    "  return 'Acurácia do modelo: {}'.format(metrics.accuracy_score(classes,resultados))"
   ]
  },
  {
   "cell_type": "code",
   "execution_count": 63,
   "metadata": {
    "colab": {
     "base_uri": "https://localhost:8080/",
     "height": 34
    },
    "colab_type": "code",
    "executionInfo": {
     "elapsed": 2057,
     "status": "ok",
     "timestamp": 1566435466353,
     "user": {
      "displayName": "Rodrigo Santana Ferreira",
      "photoUrl": "https://lh3.googleusercontent.com/a-/AAuE7mDmYh9EbTthNVFuzwQSdLXKIk98sJfQinB_DD4VqA=s64",
      "userId": "14710330936720624047"
     },
     "user_tz": 180
    },
    "id": "YvChG4un0M_A",
    "outputId": "29c69762-e896-4b14-e388-8f7e774987c6"
   },
   "outputs": [
    {
     "data": {
      "text/plain": [
       "'Acurácia do modelo: 0.8716392020815265'"
      ]
     },
     "execution_count": 63,
     "metadata": {
      "tags": []
     },
     "output_type": "execute_result"
    }
   ],
   "source": [
    "# naive bayes simples\n",
    "Metricas(pipeline_simples,tweets,classes)"
   ]
  },
  {
   "cell_type": "code",
   "execution_count": 64,
   "metadata": {
    "colab": {
     "base_uri": "https://localhost:8080/",
     "height": 34
    },
    "colab_type": "code",
    "executionInfo": {
     "elapsed": 3127,
     "status": "ok",
     "timestamp": 1566435482681,
     "user": {
      "displayName": "Rodrigo Santana Ferreira",
      "photoUrl": "https://lh3.googleusercontent.com/a-/AAuE7mDmYh9EbTthNVFuzwQSdLXKIk98sJfQinB_DD4VqA=s64",
      "userId": "14710330936720624047"
     },
     "user_tz": 180
    },
    "id": "S9_-UNWP1U4A",
    "outputId": "bedb7949-b761-4afc-cc67-b107d3e705e0"
   },
   "outputs": [
    {
     "data": {
      "text/plain": [
       "'Acurácia do modelo: 0.6830875975715525'"
      ]
     },
     "execution_count": 64,
     "metadata": {
      "tags": []
     },
     "output_type": "execute_result"
    }
   ],
   "source": [
    "# naive bayes com tag de negacoes\n",
    "Metricas(pipeline_negacoes,tweets,classes)"
   ]
  },
  {
   "cell_type": "code",
   "execution_count": 65,
   "metadata": {
    "colab": {
     "base_uri": "https://localhost:8080/",
     "height": 34
    },
    "colab_type": "code",
    "executionInfo": {
     "elapsed": 18439,
     "status": "ok",
     "timestamp": 1566435528623,
     "user": {
      "displayName": "Rodrigo Santana Ferreira",
      "photoUrl": "https://lh3.googleusercontent.com/a-/AAuE7mDmYh9EbTthNVFuzwQSdLXKIk98sJfQinB_DD4VqA=s64",
      "userId": "14710330936720624047"
     },
     "user_tz": 180
    },
    "id": "_tImcLHZ1VDF",
    "outputId": "694b67a0-dd1d-41ec-d475-d5db6e995bc9"
   },
   "outputs": [
    {
     "data": {
      "text/plain": [
       "'Acurácia do modelo: 0.8945359930615785'"
      ]
     },
     "execution_count": 65,
     "metadata": {
      "tags": []
     },
     "output_type": "execute_result"
    }
   ],
   "source": [
    "# svm linear simples\n",
    "Metricas(pipeline_svm_simples,tweets,classes)"
   ]
  },
  {
   "cell_type": "code",
   "execution_count": 66,
   "metadata": {
    "colab": {
     "base_uri": "https://localhost:8080/",
     "height": 34
    },
    "colab_type": "code",
    "executionInfo": {
     "elapsed": 101958,
     "status": "ok",
     "timestamp": 1566435671766,
     "user": {
      "displayName": "Rodrigo Santana Ferreira",
      "photoUrl": "https://lh3.googleusercontent.com/a-/AAuE7mDmYh9EbTthNVFuzwQSdLXKIk98sJfQinB_DD4VqA=s64",
      "userId": "14710330936720624047"
     },
     "user_tz": 180
    },
    "id": "SOPkPKnT1xVm",
    "outputId": "3bcc4d92-131c-460d-cca6-299705765cdd"
   },
   "outputs": [
    {
     "data": {
      "text/plain": [
       "'Acurácia do modelo: 0.7694709453599307'"
      ]
     },
     "execution_count": 66,
     "metadata": {
      "tags": []
     },
     "output_type": "execute_result"
    }
   ],
   "source": [
    "# svm linear com tag de negacoes\n",
    "Metricas(pipeline_svm_negacoes,tweets,classes)"
   ]
  },
  {
   "cell_type": "markdown",
   "metadata": {
    "colab_type": "text",
    "id": "KhJiRyUmfHJK"
   },
   "source": [
    "## **Modelo com a Tag de Negações**"
   ]
  },
  {
   "cell_type": "code",
   "execution_count": null,
   "metadata": {
    "colab": {},
    "colab_type": "code",
    "id": "pb284ewqfHJM"
   },
   "outputs": [],
   "source": [
    "resultados = cross_val_predict(pipeline_negacoes, tweets, classes, cv=10)"
   ]
  },
  {
   "cell_type": "markdown",
   "metadata": {
    "colab_type": "text",
    "id": "yqD7zS18fHJO"
   },
   "source": [
    "* Medindo a acurácia média do modelo"
   ]
  },
  {
   "cell_type": "code",
   "execution_count": 68,
   "metadata": {
    "colab": {
     "base_uri": "https://localhost:8080/",
     "height": 34
    },
    "colab_type": "code",
    "executionInfo": {
     "elapsed": 679,
     "status": "ok",
     "timestamp": 1566435762374,
     "user": {
      "displayName": "Rodrigo Santana Ferreira",
      "photoUrl": "https://lh3.googleusercontent.com/a-/AAuE7mDmYh9EbTthNVFuzwQSdLXKIk98sJfQinB_DD4VqA=s64",
      "userId": "14710330936720624047"
     },
     "user_tz": 180
    },
    "id": "Ozi38FIlfHJP",
    "outputId": "a60dacca-fe06-4be7-dc8f-8ccf1d0eeb29"
   },
   "outputs": [
    {
     "data": {
      "text/plain": [
       "0.6830875975715525"
      ]
     },
     "execution_count": 68,
     "metadata": {
      "tags": []
     },
     "output_type": "execute_result"
    }
   ],
   "source": [
    "metrics.accuracy_score(classes,resultados)"
   ]
  },
  {
   "cell_type": "code",
   "execution_count": 69,
   "metadata": {
    "colab": {
     "base_uri": "https://localhost:8080/",
     "height": 192
    },
    "colab_type": "code",
    "executionInfo": {
     "elapsed": 671,
     "status": "ok",
     "timestamp": 1566435767435,
     "user": {
      "displayName": "Rodrigo Santana Ferreira",
      "photoUrl": "https://lh3.googleusercontent.com/a-/AAuE7mDmYh9EbTthNVFuzwQSdLXKIk98sJfQinB_DD4VqA=s64",
      "userId": "14710330936720624047"
     },
     "user_tz": 180
    },
    "id": "IFH-DuBofHJU",
    "outputId": "deb1bb4a-bd78-4314-af92-d7d9d7cef3b9"
   },
   "outputs": [
    {
     "name": "stdout",
     "output_type": "stream",
     "text": [
      "              precision    recall  f1-score   support\n",
      "\n",
      "    Positivo       0.69      0.89      0.78      2840\n",
      "    Negativo       0.60      0.26      0.36       951\n",
      "      Neutro       0.69      0.58      0.63      1974\n",
      "\n",
      "    accuracy                           0.68      5765\n",
      "   macro avg       0.66      0.58      0.59      5765\n",
      "weighted avg       0.67      0.68      0.66      5765\n",
      "\n"
     ]
    }
   ],
   "source": [
    "sentimento=['Positivo','Negativo','Neutro']\n",
    "print (metrics.classification_report(classes,resultados,sentimento))"
   ]
  },
  {
   "cell_type": "markdown",
   "metadata": {
    "colab_type": "text",
    "id": "jtDzIhrhfHJW"
   },
   "source": [
    "* Matriz de confusão"
   ]
  },
  {
   "cell_type": "code",
   "execution_count": 70,
   "metadata": {
    "colab": {
     "base_uri": "https://localhost:8080/",
     "height": 122
    },
    "colab_type": "code",
    "executionInfo": {
     "elapsed": 637,
     "status": "ok",
     "timestamp": 1566435771364,
     "user": {
      "displayName": "Rodrigo Santana Ferreira",
      "photoUrl": "https://lh3.googleusercontent.com/a-/AAuE7mDmYh9EbTthNVFuzwQSdLXKIk98sJfQinB_DD4VqA=s64",
      "userId": "14710330936720624047"
     },
     "user_tz": 180
    },
    "id": "KDYrF9v_fHJW",
    "outputId": "b6b32a6f-9e21-4af1-96d4-4a8149e776d9"
   },
   "outputs": [
    {
     "name": "stdout",
     "output_type": "stream",
     "text": [
      "Predito   Negativo  Neutro  Positivo   All\n",
      "Real                                      \n",
      "Negativo       247     307       397   951\n",
      "Neutro          77    1151       746  1974\n",
      "Positivo        86     214      2540  2840\n",
      "All            410    1672      3683  5765\n"
     ]
    }
   ],
   "source": [
    "print (pd.crosstab(classes, resultados, rownames=['Real'], colnames=['Predito'], margins=True))"
   ]
  },
  {
   "cell_type": "markdown",
   "metadata": {
    "colab_type": "text",
    "id": "wfLQeW6yfHJZ"
   },
   "source": [
    "## **Avaliando modelo com Bigrams**"
   ]
  },
  {
   "cell_type": "markdown",
   "metadata": {
    "colab_type": "text",
    "id": "q9bd7jK13krf"
   },
   "source": [
    "Eu gosto do Brasil -------------> **'eu gosto', 'gosto do' , 'do brasil'**"
   ]
  },
  {
   "cell_type": "code",
   "execution_count": 71,
   "metadata": {
    "colab": {
     "base_uri": "https://localhost:8080/",
     "height": 34
    },
    "colab_type": "code",
    "executionInfo": {
     "elapsed": 2056,
     "status": "ok",
     "timestamp": 1566435905901,
     "user": {
      "displayName": "Rodrigo Santana Ferreira",
      "photoUrl": "https://lh3.googleusercontent.com/a-/AAuE7mDmYh9EbTthNVFuzwQSdLXKIk98sJfQinB_DD4VqA=s64",
      "userId": "14710330936720624047"
     },
     "user_tz": 180
    },
    "id": "tqdMpvcXfHJb",
    "outputId": "5711f18f-2cc1-4012-fdaa-4b9ac8a9fdff"
   },
   "outputs": [
    {
     "data": {
      "text/plain": [
       "MultinomialNB(alpha=1.0, class_prior=None, fit_prior=True)"
      ]
     },
     "execution_count": 71,
     "metadata": {
      "tags": []
     },
     "output_type": "execute_result"
    }
   ],
   "source": [
    "# Bigrams\n",
    "vectorizer = CountVectorizer(ngram_range=(2,2))\n",
    "freq_tweets = vectorizer.fit_transform(tweets)\n",
    "modelo = MultinomialNB()\n",
    "modelo.fit(freq_tweets,classes)"
   ]
  },
  {
   "cell_type": "code",
   "execution_count": null,
   "metadata": {
    "colab": {},
    "colab_type": "code",
    "id": "D71t-pPGfHJc"
   },
   "outputs": [],
   "source": [
    "resultados = cross_val_predict(modelo, freq_tweets, classes, cv=10)"
   ]
  },
  {
   "cell_type": "code",
   "execution_count": 73,
   "metadata": {
    "colab": {
     "base_uri": "https://localhost:8080/",
     "height": 34
    },
    "colab_type": "code",
    "executionInfo": {
     "elapsed": 1091,
     "status": "ok",
     "timestamp": 1566435941728,
     "user": {
      "displayName": "Rodrigo Santana Ferreira",
      "photoUrl": "https://lh3.googleusercontent.com/a-/AAuE7mDmYh9EbTthNVFuzwQSdLXKIk98sJfQinB_DD4VqA=s64",
      "userId": "14710330936720624047"
     },
     "user_tz": 180
    },
    "id": "Eqv_fetJfHJg",
    "outputId": "85bc4253-40b9-492a-aaa1-0b764661e726"
   },
   "outputs": [
    {
     "data": {
      "text/plain": [
       "0.8412836079791848"
      ]
     },
     "execution_count": 73,
     "metadata": {
      "tags": []
     },
     "output_type": "execute_result"
    }
   ],
   "source": [
    "metrics.accuracy_score(classes,resultados)"
   ]
  },
  {
   "cell_type": "code",
   "execution_count": null,
   "metadata": {
    "colab": {},
    "colab_type": "code",
    "id": "WzoMUniTfHJi"
   },
   "outputs": [],
   "source": [
    "sentimento=['Positivo','Negativo','Neutro']\n",
    "print (metrics.classification_report(classes,resultados,sentimento))"
   ]
  },
  {
   "cell_type": "markdown",
   "metadata": {
    "colab_type": "text",
    "id": "WiC2Ns5-fHJp"
   },
   "source": [
    "## **Considerações Finais**"
   ]
  },
  {
   "cell_type": "markdown",
   "metadata": {
    "colab_type": "text",
    "id": "W_HRElekfHJq"
   },
   "source": [
    "* Considere aumentar a quantidade de dados de treino.\n",
    "\n",
    "* Pela sua simplicidade o Naive Bayes pode ser usado perfeitamente como um algoritmo de Baseline.\n",
    "\n",
    "* Considere alterar os parâmetros do algoritmo."
   ]
  }
 ],
 "metadata": {
  "colab": {
   "collapsed_sections": [],
   "name": "Live-Analise-Sentimentos.ipynb",
   "provenance": [],
   "version": "0.3.2"
  },
  "kernelspec": {
   "display_name": "Python 3 (ipykernel)",
   "language": "python",
   "name": "python3"
  },
  "language_info": {
   "codemirror_mode": {
    "name": "ipython",
    "version": 3
   },
   "file_extension": ".py",
   "mimetype": "text/x-python",
   "name": "python",
   "nbconvert_exporter": "python",
   "pygments_lexer": "ipython3",
   "version": "3.8.12"
  }
 },
 "nbformat": 4,
 "nbformat_minor": 4
}
