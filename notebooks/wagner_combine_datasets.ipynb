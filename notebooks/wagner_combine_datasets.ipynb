{
  "nbformat": 4,
  "nbformat_minor": 0,
  "metadata": {
    "colab": {
      "name": "wagner_combine_datasets.ipynb",
      "provenance": [],
      "collapsed_sections": []
    },
    "kernelspec": {
      "name": "python3",
      "display_name": "Python 3"
    },
    "language_info": {
      "name": "python"
    }
  },
  "cells": [
    {
      "cell_type": "code",
      "execution_count": 49,
      "metadata": {
        "id": "pNFqSQO_3ILf"
      },
      "outputs": [],
      "source": [
        "import os\n",
        "import glob\n",
        "import pandas as pd\n",
        "import numpy as np\n",
        "import os.path"
      ]
    },
    {
      "cell_type": "code",
      "source": [
        "df = pd.read_csv('/content/drive/MyDrive/twiitter_elections_data/pure/missing/(to:jairbolsonaro).csv')"
      ],
      "metadata": {
        "id": "OeTiNj234Dmx"
      },
      "execution_count": 25,
      "outputs": []
    },
    {
      "cell_type": "code",
      "source": [
        "pd.set_option('max_colwidth', 300)"
      ],
      "metadata": {
        "id": "zEm7xKmY4qsQ"
      },
      "execution_count": 29,
      "outputs": []
    },
    {
      "cell_type": "code",
      "source": [
        "df['profile_img'] = df['profile_img'].str.replace('_normal', '_400x400')"
      ],
      "metadata": {
        "id": "g9fU-wpt4IbR"
      },
      "execution_count": 31,
      "outputs": []
    },
    {
      "cell_type": "code",
      "source": [
        "df.to_csv('/content/drive/MyDrive/twiitter_elections_data/pure/missing/(to:jairbolsonaro).csv')"
      ],
      "metadata": {
        "id": "SvdFhIKU5GRi"
      },
      "execution_count": 33,
      "outputs": []
    },
    {
      "cell_type": "code",
      "source": [
        "!ls /content/drive/MyDrive/twiitter_elections_data/pure/missing"
      ],
      "metadata": {
        "colab": {
          "base_uri": "https://localhost:8080/"
        },
        "id": "hyX6pmmV3KbK",
        "outputId": "b096de10-f4ad-41c5-cf42-5b9bf4547478"
      },
      "execution_count": 15,
      "outputs": [
        {
          "output_type": "stream",
          "name": "stdout",
          "text": [
            " haddad   jair\t'(to:Haddad_Fernando).csv'  '(to:jairbolsonaro).csv'\n"
          ]
        }
      ]
    },
    {
      "cell_type": "code",
      "source": [
        "def split(filename, chunk_size=2000):\n",
        "    def write_chunk(part, lines):\n",
        "        with open('/content/drive/MyDrive/twiitter_elections_data/pure/missing/jair/data_part_'+ str(part) +'.csv', 'w') as f_out:\n",
        "            f_out.write(header)\n",
        "            f_out.writelines(lines)\n",
        "    with open(filename, \"r\") as f:\n",
        "        count = 0\n",
        "        header = f.readline()\n",
        "        lines = []\n",
        "        for line in f:\n",
        "            count += 1\n",
        "            lines.append(line)\n",
        "            if count % chunk_size == 0:\n",
        "                write_chunk(count // chunk_size, lines)\n",
        "                lines = []\n",
        "        # write remainder\n",
        "        if len(lines) > 0:\n",
        "            write_chunk((count // chunk_size) + 1, lines)"
      ],
      "metadata": {
        "id": "H-kIA2wP3WkY"
      },
      "execution_count": 34,
      "outputs": []
    },
    {
      "cell_type": "code",
      "source": [
        "split('/content/drive/MyDrive/twiitter_elections_data/pure/missing/(to:jairbolsonaro).csv')"
      ],
      "metadata": {
        "id": "rCLvnkAU3azA"
      },
      "execution_count": 38,
      "outputs": []
    },
    {
      "cell_type": "code",
      "source": [
        "!mv /content/drive/MyDrive/twiitter_elections_data/cnn/missing/haddaddata_*.csv /content/drive/MyDrive/twiitter_elections_data/cnn/missing/haddad"
      ],
      "metadata": {
        "id": "8Jhea_lX3EEp"
      },
      "execution_count": 23,
      "outputs": []
    },
    {
      "cell_type": "code",
      "source": [
        "!ls /content/drive/MyDrive/twiitter_elections_data/pure/missing/jair/"
      ],
      "metadata": {
        "id": "cfuRP-Es21pT"
      },
      "execution_count": 37,
      "outputs": []
    },
    {
      "cell_type": "code",
      "source": [
        "#set working directory\n",
        "os.chdir(\"/content/drive/MyDrive/twiitter_elections_data/cnn/missing/jair\")\n",
        "\n",
        "#find all csv files in the folder\n",
        "#use glob pattern matching -> extension = 'csv'\n",
        "#save result in list -> all_filenames\n",
        "extension = 'csv'\n",
        "all_filenames = [i for i in glob.glob('*.{}'.format(extension))]\n",
        "print(all_filenames)\n",
        "\n",
        "#combine all files in the list\n",
        "combined_csv = pd.concat([pd.read_csv(f) for f in all_filenames ])\n",
        "#export to csv\n",
        "combined_csv.to_csv( \"/content/drive/MyDrive/twiitter_elections_data/cnn/missing/jair/combined_csv.csv\", index=False, encoding='utf-8-sig')"
      ],
      "metadata": {
        "colab": {
          "base_uri": "https://localhost:8080/"
        },
        "id": "9ZyLmV2YlcMh",
        "outputId": "18d55ded-773c-4b6b-bc4b-710d2028537b"
      },
      "execution_count": 41,
      "outputs": [
        {
          "output_type": "stream",
          "name": "stdout",
          "text": [
            "['data_part_23.csv', 'data_part_38.csv', 'data_part_39.csv', 'data_part_40.csv', 'data_part_37.csv', 'data_part_10.csv', 'data_part_21.csv', 'data_part_27.csv', 'data_part_26.csv', 'data_part_7.csv', 'data_part_20.csv', 'data_part_6.csv', 'data_part_19.csv', 'data_part_11.csv', 'data_part_36.csv', 'data_part_13.csv', 'data_part_1.csv', 'data_part_18.csv', 'data_part_34.csv', 'data_part_2.csv', 'data_part_24.csv', 'data_part_35.csv', 'data_part_14.csv', 'data_part_25.csv', 'data_part_17.csv', 'data_part_22.csv', 'data_part_45.csv', 'data_part_30.csv', 'data_part_3.csv', 'data_part_4.csv', 'data_part_44.csv', 'data_part_43.csv', 'data_part_41.csv', 'data_part_28.csv', 'data_part_42.csv', 'data_part_29.csv', 'data_part_46.csv', 'data_part_12.csv', 'data_part_98.csv', 'data_part_5.csv', 'data_part_32.csv', 'data_part_33.csv', 'data_part_31.csv', 'data_part_95.csv', 'data_part_8.csv', 'data_part_16.csv', 'data_part_99.csv', 'data_part_9.csv', 'data_part_15.csv', 'data_part_97.csv', 'data_part_168.csv', 'data_part_90.csv', 'data_part_165.csv', 'data_part_134.csv', 'data_part_88.csv', 'data_part_56.csv', 'data_part_158.csv', 'data_part_159.csv', 'data_part_166.csv', 'data_part_156.csv', 'data_part_94.csv', 'data_part_151.csv', 'data_part_157.csv', 'data_part_93.csv', 'data_part_89.csv', 'data_part_57.csv', 'data_part_137.csv', 'data_part_135.csv', 'data_part_136.csv', 'data_part_54.csv', 'data_part_53.csv', 'data_part_78.csv', 'data_part_62.csv', 'data_part_81.csv', 'data_part_167.csv', 'data_part_91.csv', 'data_part_87.csv', 'data_part_147.csv', 'data_part_60.csv', 'data_part_79.csv', 'data_part_148.csv', 'data_part_63.csv', 'data_part_80.csv', 'data_part_162.csv', 'data_part_164.csv', 'data_part_160.csv', 'data_part_150.csv', 'data_part_92.csv', 'data_part_163.csv', 'data_part_149.csv', 'data_part_61.csv', 'data_part_161.csv', 'data_part_58.csv', 'data_part_52.csv', 'data_part_96.csv', 'data_part_146.csv', 'data_part_51.csv', 'data_part_144.csv', 'data_part_145.csv', 'data_part_143.csv', 'data_part_170.csv', 'data_part_141.csv', 'data_part_124.csv', 'data_part_127.csv', 'data_part_142.csv', 'data_part_125.csv', 'data_part_110.csv', 'data_part_102.csv', 'data_part_140.csv', 'data_part_139.csv', 'data_part_111.csv', 'data_part_126.csv', 'data_part_121.csv', 'data_part_113.csv', 'data_part_103.csv', 'data_part_112.csv', 'data_part_130.csv', 'data_part_169.csv', 'data_part_120.csv', 'data_part_68.csv', 'data_part_123.csv', 'data_part_133.csv', 'data_part_116.csv', 'data_part_104.csv', 'data_part_119.csv', 'data_part_115.csv', 'data_part_117.csv', 'data_part_84.csv', 'data_part_108.csv', 'data_part_154.csv', 'data_part_105.csv', 'data_part_131.csv', 'data_part_67.csv', 'data_part_85.csv', 'data_part_122.csv', 'data_part_107.csv', 'data_part_109.csv', 'data_part_118.csv', 'data_part_153.csv', 'data_part_132.csv', 'data_part_106.csv', 'data_part_65.csv', 'data_part_83.csv', 'data_part_66.csv', 'data_part_128.csv', 'data_part_86.csv', 'data_part_129.csv', 'data_part_77.csv', 'data_part_101.csv', 'data_part_76.csv', 'data_part_75.csv', 'data_part_74.csv', 'data_part_64.csv', 'data_part_69.csv', 'data_part_73.csv', 'data_part_49.csv', 'data_part_48.csv', 'data_part_72.csv', 'data_part_71.csv', 'data_part_70.csv', 'data_part_55.csv', 'data_part_47.csv', 'data_part_50.csv', 'data_part_114.csv', 'data_part_82.csv', 'data_part_155.csv', 'data_part_138.csv', 'data_part_100.csv', 'data_part_152.csv']\n"
          ]
        }
      ]
    },
    {
      "cell_type": "code",
      "source": [
        "df = pd.read_csv('/content/drive/MyDrive/twiitter_elections_data/cnn/Jair Bolsonaro.csv')\n",
        "df.shape"
      ],
      "metadata": {
        "colab": {
          "base_uri": "https://localhost:8080/"
        },
        "id": "zwGluSvCnNI1",
        "outputId": "98c0979e-d26a-42cd-d00d-a68b34f4ff35"
      },
      "execution_count": 42,
      "outputs": [
        {
          "output_type": "execute_result",
          "data": {
            "text/plain": [
              "(44673, 24)"
            ]
          },
          "metadata": {},
          "execution_count": 42
        }
      ]
    },
    {
      "cell_type": "code",
      "source": [
        "df = pd.read_csv('/content/drive/MyDrive/twiitter_elections_data/vader/new/query_Jair Bolsonaro.csv')\n",
        "df.shape"
      ],
      "metadata": {
        "colab": {
          "base_uri": "https://localhost:8080/"
        },
        "id": "46awZXSAnWOV",
        "outputId": "5a0ae174-272e-49e9-d0ad-366e2b461d77"
      },
      "execution_count": 46,
      "outputs": [
        {
          "output_type": "execute_result",
          "data": {
            "text/plain": [
              "(44673, 25)"
            ]
          },
          "metadata": {},
          "execution_count": 46
        }
      ]
    },
    {
      "cell_type": "code",
      "source": [
        "df = pd.read_csv('/content/drive/MyDrive/twiitter_elections_data/pure/query_Jair Bolsonaro.csv')\n",
        "df.shape"
      ],
      "metadata": {
        "colab": {
          "base_uri": "https://localhost:8080/"
        },
        "id": "PuknUgk-ngI9",
        "outputId": "e6058fd6-f029-41c0-d368-675afcf8e2b6"
      },
      "execution_count": 45,
      "outputs": [
        {
          "output_type": "execute_result",
          "data": {
            "text/plain": [
              "(44673, 21)"
            ]
          },
          "metadata": {},
          "execution_count": 45
        }
      ]
    },
    {
      "cell_type": "code",
      "source": [
        "df = pd.read_csv('/content/drive/MyDrive/twiitter_elections_data/geolocation/Jair Bolsonaro.csv')\n",
        "df.shape"
      ],
      "metadata": {
        "colab": {
          "base_uri": "https://localhost:8080/"
        },
        "id": "74XytKo3wMDm",
        "outputId": "b51998fe-9221-4be3-fc78-27635ffbc442"
      },
      "execution_count": 47,
      "outputs": [
        {
          "output_type": "execute_result",
          "data": {
            "text/plain": [
              "(44673, 24)"
            ]
          },
          "metadata": {},
          "execution_count": 47
        }
      ]
    },
    {
      "cell_type": "code",
      "source": [
        "def concate_features(filename):\n",
        "  \n",
        "  output_path = '/content/drive/MyDrive/twiitter_elections_data/all_features/'\n",
        "\n",
        "  path_pure = '/content/drive/MyDrive/twiitter_elections_data/pure/' + filename\n",
        "  path_geo = '/content/drive/MyDrive/twiitter_elections_data/geolocation/' + filename\n",
        "  path_nlp = '/content/drive/MyDrive/twiitter_elections_data/nlp/' + filename\n",
        "  path_cnn = '/content/drive/MyDrive/twiitter_elections_data/cnn/' + filename\n",
        "\n",
        "  if os.path.exists(path_geo) & os.path.exists(path_nlp) & os.path.exists(path_cnn) & os.path.exists(path_pure):\n",
        "\n",
        "    print('All files exists')\n",
        "\n",
        "    df_pure = pd.read_csv(path_pure)\n",
        "    df_geo = pd.read_csv(path_geo)[['lat', 'long']]\n",
        "    df_nlp = pd.read_csv(path_nlp)[['compound', 'sentiment']]\n",
        "    df_cnn = pd.read_csv(path_cnn)[['gender','gender_confidence_score']]\n",
        "\n",
        "    # if df_pure.shape[0] == df_geo.shape[0] & \\\n",
        "    #     df_pure.shape[0] == df_nlp.shape[0] & \\\n",
        "    #     df_pure.shape[0] == df_cnn.shape[0]:\n",
        "\n",
        "    # print('All files has same shape :)')\n",
        "\n",
        "    if not os.path.exists(output_path + filename):\n",
        "      \n",
        "\n",
        "      df_concat = pd.concat([df_pure, df_geo, df_nlp, df_cnn], axis=1)\n",
        "      #save csv file\n",
        "      df_concat.to_csv(output_path+filename)\n",
        "\n",
        "      print(f'{filename} concatenated')\n",
        "\n",
        "      # else:\n",
        "      #   print(f'file already concatenated [{filename}]')\n",
        "\n",
        "    else:\n",
        "      print(f'files shape problem [{filename}]')\n",
        "      print(df_geo.shape)\n",
        "      print(df_nlp.shape)\n",
        "      print(df_cnn.shape)\n",
        "  else:\n",
        "    print(f'files problem [{filename}]')"
      ],
      "metadata": {
        "id": "eJW7vPMjwgUt"
      },
      "execution_count": 79,
      "outputs": []
    },
    {
      "cell_type": "code",
      "source": [
        "def concate_files(filename, files_to_concat):\n",
        "  files_path = '/content/drive/MyDrive/twiitter_elections_data/all_features/'\n",
        "  output_path = '/content/drive/MyDrive/twiitter_elections_data/concated/'\n",
        "\n",
        "\n",
        "  df_from_each_file = (pd.read_csv(files_path +f) for f in files_to_concat)\n",
        "  df_concat = pd.concat(df_from_each_file, ignore_index=True)\n",
        "\n",
        "  df_concat.to_csv(output_path+filename)\n",
        "\n",
        "  print(f'{filename} combinado e salvo')"
      ],
      "metadata": {
        "id": "U0Tmc1Yb_wZY"
      },
      "execution_count": 99,
      "outputs": []
    },
    {
      "cell_type": "code",
      "source": [
        "#set working directory\n",
        "os.chdir(\"/content/drive/MyDrive/twiitter_elections_data/pure/\")\n",
        "\n",
        "extension = 'csv'\n",
        "all_filenames = [i for i in glob.glob('*.{}'.format(extension))]\n",
        "\n",
        "# concate_features('(to:jairbolsonaro).csv')\n",
        "# concate_features('(to:Haddad_Fernando).csv')\n",
        "# for file in all_filenames:\n",
        "#   concate_features(file)"
      ],
      "metadata": {
        "id": "y0Y4x0Uh63h0"
      },
      "execution_count": 88,
      "outputs": []
    },
    {
      "cell_type": "code",
      "source": [
        "# filename = 'haddad.csv'\n",
        "# files_to_concat = ['Fernando Haddad.csv', '(from:Haddad_Fernando).csv', '#haddad.csv', '(to:Haddad_Fernando).csv']\n",
        "\n",
        "# filename = 'aecio.csv'\n",
        "# files_to_concat = ['Aécio Neves.csv', '#aecio.csv', '(from:AecioNeves).csv', '(to:AecioNeves).csv']\n",
        "\n",
        "# filename = 'bolsonaro.csv'\n",
        "# files_to_concat = ['#bolsonaro.csv', '(from:jairbolsonaro).csv', 'Jair Bolsonaro.csv', '(to:jairbolsonaro).csv']\n",
        "\n",
        "# filename = 'dilma.csv'\n",
        "# files_to_concat = ['#dilma.csv', 'Dilma Rousseff.csv', '(from:dilmabr).csv', '(to:dilmabr).csv']\n",
        "\n",
        "filename = 'lula.csv'\n",
        "files_to_concat = ['(from:LulaOficial).csv', 'Luis Inácio Lula Da Silva.csv', '#lula.csv', '(to:LulaOficial).csv']\n",
        "\n",
        "concate_files(filename, files_to_concat)"
      ],
      "metadata": {
        "colab": {
          "base_uri": "https://localhost:8080/"
        },
        "id": "XWE19m8bBK0G",
        "outputId": "05ff0fb6-5f49-40a4-a94e-37e98398c68d"
      },
      "execution_count": 104,
      "outputs": [
        {
          "output_type": "stream",
          "name": "stdout",
          "text": [
            "lula.csv combinado e salvo\n"
          ]
        }
      ]
    },
    {
      "cell_type": "code",
      "source": [
        "!ls /content/drive/MyDrive/twiitter_elections_data/all_features/"
      ],
      "metadata": {
        "colab": {
          "base_uri": "https://localhost:8080/"
        },
        "id": "OKgCyzKyCOp-",
        "outputId": "9ab7a218-63ea-4fa6-f6b8-3e40df5abb69"
      },
      "execution_count": 89,
      "outputs": [
        {
          "output_type": "stream",
          "name": "stdout",
          "text": [
            "'#aecio.csv'\t\t      '(from:LulaOficial).csv'\n",
            "'Aécio Neves.csv'\t      '#haddad.csv'\n",
            "'#bolsonaro.csv'\t      'Jair Bolsonaro.csv'\n",
            "'#dilma.csv'\t\t      'Luis Inácio Lula Da Silva.csv'\n",
            "'Dilma Rousseff.csv'\t      '#lula.csv'\n",
            "'Fernando Haddad.csv'\t      '(to:AecioNeves).csv'\n",
            "'(from:AecioNeves).csv'       '(to:dilmabr).csv'\n",
            "'(from:dilmabr).csv'\t      '(to:Haddad_Fernando).csv'\n",
            "'(from:Haddad_Fernando).csv'  '(to:jairbolsonaro).csv'\n",
            "'(from:jairbolsonaro).csv'    '(to:LulaOficial).csv'\n"
          ]
        }
      ]
    },
    {
      "cell_type": "code",
      "source": [
        "!zip /content/drive/MyDrive/twiitter_elections_data/datasets_concated.zip /content/drive/MyDrive/twiitter_elections_data/concated/*"
      ],
      "metadata": {
        "colab": {
          "base_uri": "https://localhost:8080/"
        },
        "id": "VH8qpUjoEnH0",
        "outputId": "d6e1d62b-e2d1-4350-d492-e7113987a610"
      },
      "execution_count": 105,
      "outputs": [
        {
          "output_type": "stream",
          "name": "stdout",
          "text": [
            "  adding: content/drive/MyDrive/twiitter_elections_data/concated/aecio.csv (deflated 69%)\n",
            "  adding: content/drive/MyDrive/twiitter_elections_data/concated/bolsonaro.csv (deflated 67%)\n",
            "  adding: content/drive/MyDrive/twiitter_elections_data/concated/dilma.csv (deflated 70%)\n",
            "  adding: content/drive/MyDrive/twiitter_elections_data/concated/haddad.csv (deflated 67%)\n",
            "  adding: content/drive/MyDrive/twiitter_elections_data/concated/lula.csv (deflated 67%)\n"
          ]
        }
      ]
    },
    {
      "cell_type": "markdown",
      "source": [
        ""
      ],
      "metadata": {
        "id": "S2DLc5bpnM7f"
      }
    }
  ]
}