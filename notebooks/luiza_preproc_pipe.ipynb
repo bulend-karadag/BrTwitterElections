{
 "cells": [
  {
   "cell_type": "code",
   "execution_count": 1,
   "id": "42989a87",
   "metadata": {},
   "outputs": [],
   "source": [
    "%load_ext autoreload\n",
    "%autoreload 2\n",
    "\n",
    "\n",
    "import nltk\n",
    "import pandas as pd\n"
   ]
  },
  {
   "cell_type": "code",
   "execution_count": 9,
   "id": "8089f17a",
   "metadata": {
    "scrolled": true
   },
   "outputs": [
    {
     "name": "stderr",
     "output_type": "stream",
     "text": [
      "/tmp/ipykernel_13507/4067438867.py:1: DtypeWarning: Columns (1,2,5,6,7,8,9,10,11,12,13,14,15,16,17,18) have mixed types. Specify dtype option on import or set low_memory=False.\n",
      "  df = pd.read_csv('../raw_data/dilma.csv')\n"
     ]
    }
   ],
   "source": [
    "df = pd.read_csv('../raw_data/dilma.csv')\n"
   ]
  },
  {
   "cell_type": "code",
   "execution_count": 27,
   "id": "eb58c5a9",
   "metadata": {},
   "outputs": [
    {
     "data": {
      "text/plain": [
       "array(['pt', 'es', 'cy', 'en', 'et', 'und', 'fi', 'tr', 'tl', 'it', 'ht',\n",
       "       'in', 'sl', 'hi', 'fr', nan, 'Luiz Claudio Sampaio', 'ca', 'nl',\n",
       "       'zh', 'de', 'ja', 'no', 'lt', 'ro', 'hu', 'sv', 'Junior Pereira',\n",
       "       'cs', 'eliane bezerra', 'lv', 'desativado', 'Jess', 'Medeiros',\n",
       "       'MARÌ  #Promisse', 'Angela M Gonçalves', 'pl',\n",
       "       '@mynameisstrangerthing', 'eu', 'ar', 'bg', 'Clara Falcão',\n",
       "       'Michel Martins', 'da', 'Pink Misteriosa™', 'Regi Olitos 🎧',\n",
       "       'Stephanie Lourenço', 'Richardson Azevedo', 'xu', 'batore7sacana',\n",
       "       'Molinaro', 'LuiZ', 'Victor Freire', '@leluimga', 'Suélen Alves',\n",
       "       'Eliezer Martins', 'Gleidson', 'Carlos Luiz Inácio F',\n",
       "       'paula Monteiro', 'Camila Alvarenga', 'Mih Styles',\n",
       "       'Pedro Zaraza 7.5K', 'Lovatic', 'cansada', 'Felipe', 'marcelo',\n",
       "       'Adriana Santos', 'is', 'Vic', 'tallysson saoko da silva', 'sla',\n",
       "       'boz', 'igor (out of context)', 'Alexandre Gromzynski',\n",
       "       'Karim BenzeMarcio'], dtype=object)"
      ]
     },
     "execution_count": 27,
     "metadata": {},
     "output_type": "execute_result"
    }
   ],
   "source": [
    "df['lang'].unique()"
   ]
  },
  {
   "cell_type": "code",
   "execution_count": 20,
   "id": "ddbfbaae",
   "metadata": {},
   "outputs": [],
   "source": [
    "filtro = df['lang'] == 'pt'\n",
    "df2 = df[filtro]"
   ]
  },
  {
   "cell_type": "code",
   "execution_count": 28,
   "id": "c19e9366",
   "metadata": {},
   "outputs": [
    {
     "data": {
      "text/plain": [
       "array(['pt'], dtype=object)"
      ]
     },
     "execution_count": 28,
     "metadata": {},
     "output_type": "execute_result"
    }
   ],
   "source": [
    "df2['lang'].unique()"
   ]
  },
  {
   "cell_type": "code",
   "execution_count": null,
   "id": "56cf46b1",
   "metadata": {},
   "outputs": [],
   "source": []
  },
  {
   "cell_type": "code",
   "execution_count": null,
   "id": "4b9ee224",
   "metadata": {},
   "outputs": [],
   "source": []
  },
  {
   "cell_type": "code",
   "execution_count": null,
   "id": "1eb2dedd",
   "metadata": {},
   "outputs": [],
   "source": []
  },
  {
   "cell_type": "code",
   "execution_count": null,
   "id": "116d545b",
   "metadata": {},
   "outputs": [],
   "source": []
  },
  {
   "cell_type": "code",
   "execution_count": null,
   "id": "79ab073b",
   "metadata": {},
   "outputs": [],
   "source": []
  },
  {
   "cell_type": "code",
   "execution_count": null,
   "id": "4d933016",
   "metadata": {},
   "outputs": [],
   "source": []
  }
 ],
 "metadata": {
  "kernelspec": {
   "display_name": "Python 3 (ipykernel)",
   "language": "python",
   "name": "python3"
  },
  "language_info": {
   "codemirror_mode": {
    "name": "ipython",
    "version": 3
   },
   "file_extension": ".py",
   "mimetype": "text/x-python",
   "name": "python",
   "nbconvert_exporter": "python",
   "pygments_lexer": "ipython3",
   "version": "3.8.12"
  },
  "toc": {
   "base_numbering": 1,
   "nav_menu": {},
   "number_sections": true,
   "sideBar": true,
   "skip_h1_title": false,
   "title_cell": "Table of Contents",
   "title_sidebar": "Contents",
   "toc_cell": false,
   "toc_position": {},
   "toc_section_display": true,
   "toc_window_display": false
  }
 },
 "nbformat": 4,
 "nbformat_minor": 5
}
