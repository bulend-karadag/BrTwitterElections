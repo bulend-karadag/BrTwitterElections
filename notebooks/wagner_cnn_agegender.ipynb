{
 "cells": [
  {
   "cell_type": "code",
   "execution_count": 1,
   "id": "3b8c5b3c-1bc3-4c06-811a-3865f41cfda9",
   "metadata": {},
   "outputs": [
    {
     "ename": "ModuleNotFoundError",
     "evalue": "No module named 'caffe'",
     "output_type": "error",
     "traceback": [
      "\u001b[0;31m---------------------------------------------------------------------------\u001b[0m",
      "\u001b[0;31mModuleNotFoundError\u001b[0m                       Traceback (most recent call last)",
      "Input \u001b[0;32mIn [1]\u001b[0m, in \u001b[0;36m<cell line: 10>\u001b[0;34m()\u001b[0m\n\u001b[1;32m      8\u001b[0m \u001b[38;5;28;01mimport\u001b[39;00m \u001b[38;5;21;01msys\u001b[39;00m\n\u001b[1;32m      9\u001b[0m sys\u001b[38;5;241m.\u001b[39mpath\u001b[38;5;241m.\u001b[39minsert(\u001b[38;5;241m0\u001b[39m, caffe_root \u001b[38;5;241m+\u001b[39m \u001b[38;5;124m'\u001b[39m\u001b[38;5;124mpython\u001b[39m\u001b[38;5;124m'\u001b[39m)\n\u001b[0;32m---> 10\u001b[0m \u001b[38;5;28;01mimport\u001b[39;00m \u001b[38;5;21;01mcaffe\u001b[39;00m\n\u001b[1;32m     12\u001b[0m plt\u001b[38;5;241m.\u001b[39mrcParams[\u001b[38;5;124m'\u001b[39m\u001b[38;5;124mfigure.figsize\u001b[39m\u001b[38;5;124m'\u001b[39m] \u001b[38;5;241m=\u001b[39m (\u001b[38;5;241m10\u001b[39m, \u001b[38;5;241m10\u001b[39m)\n\u001b[1;32m     13\u001b[0m plt\u001b[38;5;241m.\u001b[39mrcParams[\u001b[38;5;124m'\u001b[39m\u001b[38;5;124mimage.interpolation\u001b[39m\u001b[38;5;124m'\u001b[39m] \u001b[38;5;241m=\u001b[39m \u001b[38;5;124m'\u001b[39m\u001b[38;5;124mnearest\u001b[39m\u001b[38;5;124m'\u001b[39m\n",
      "\u001b[0;31mModuleNotFoundError\u001b[0m: No module named 'caffe'"
     ]
    }
   ],
   "source": [
    "import os\n",
    "import numpy as np\n",
    "import matplotlib.pyplot as plt\n",
    "%matplotlib inline\n",
    "\n",
    "\n",
    "caffe_root = './caffe/' \n",
    "import sys\n",
    "sys.path.insert(0, caffe_root + 'python')\n",
    "import caffe\n",
    "\n",
    "plt.rcParams['figure.figsize'] = (10, 10)\n",
    "plt.rcParams['image.interpolation'] = 'nearest'\n",
    "plt.rcParams['image.cmap'] = 'gray'"
   ]
  },
  {
   "cell_type": "code",
   "execution_count": null,
   "id": "e2d2523d-2def-4243-8036-eca5d622b5b5",
   "metadata": {},
   "outputs": [],
   "source": [
    "#Loading the mean image\n",
    "mean_filename='./mean.binaryproto'\n",
    "proto_data = open(mean_filename, \"rb\").read()\n",
    "a = caffe.io.caffe_pb2.BlobProto.FromString(proto_data)\n",
    "mean  = caffe.io.blobproto_to_array(a)[0]"
   ]
  },
  {
   "cell_type": "code",
   "execution_count": null,
   "id": "618c8101-935b-452d-ac98-84e7ef051eb7",
   "metadata": {},
   "outputs": [],
   "source": [
    "#Loading the age network\n",
    "age_net_pretrained='./age_net.caffemodel'\n",
    "age_net_model_file='./deploy_age.prototxt'\n",
    "age_net = caffe.Classifier(age_net_model_file, age_net_pretrained,\n",
    "                       mean=mean,\n",
    "                       channel_swap=(2,1,0),\n",
    "                       raw_scale=255,\n",
    "                       image_dims=(256, 256))"
   ]
  },
  {
   "cell_type": "code",
   "execution_count": null,
   "id": "9b0f700d-a02e-4cf1-b5b3-78e471005e2c",
   "metadata": {},
   "outputs": [],
   "source": [
    "#Loading the gender network\n",
    "gender_net_pretrained='./gender_net.caffemodel'\n",
    "gender_net_model_file='./deploy_gender.prototxt'\n",
    "gender_net = caffe.Classifier(gender_net_model_file, gender_net_pretrained,\n",
    "                       mean=mean,\n",
    "                       channel_swap=(2,1,0),\n",
    "                       raw_scale=255,\n",
    "                       image_dims=(256, 256))"
   ]
  },
  {
   "cell_type": "code",
   "execution_count": null,
   "id": "0edbb54b-99a9-4f11-9e67-89bd65ce181b",
   "metadata": {},
   "outputs": [],
   "source": [
    "#labels\n",
    "age_list=['(0, 2)','(4, 6)','(8, 12)','(15, 20)','(25, 32)','(38, 43)','(48, 53)','(60, 100)']\n",
    "gender_list=['Male','Female']"
   ]
  },
  {
   "cell_type": "code",
   "execution_count": null,
   "id": "f71b78e2-b29c-4028-827d-16c1531a4445",
   "metadata": {},
   "outputs": [],
   "source": [
    "#Reading and plotting the input image\n",
    "example_image = './example_image.jpg'\n",
    "input_image = caffe.io.load_image(example_image)\n",
    "_ = plt.imshow(input_image)"
   ]
  },
  {
   "cell_type": "code",
   "execution_count": null,
   "id": "d4284c30-697d-429c-8120-6294fdcea8a7",
   "metadata": {},
   "outputs": [],
   "source": [
    "#Age prediction\n",
    "prediction = age_net.predict([input_image]) \n",
    "\n",
    "print 'predicted age:', age_list[prediction[0].argmax()]"
   ]
  },
  {
   "cell_type": "code",
   "execution_count": null,
   "id": "037951ff-5d9c-40ad-9aa2-37740b5249ba",
   "metadata": {},
   "outputs": [],
   "source": [
    "#Gender prediction\n",
    "prediction = gender_net.predict([input_image]) \n",
    "\n",
    "print 'predicted gender:', gender_list[prediction[0].argmax()]"
   ]
  }
 ],
 "metadata": {
  "kernelspec": {
   "display_name": "Python 3 (ipykernel)",
   "language": "python",
   "name": "python3"
  },
  "language_info": {
   "codemirror_mode": {
    "name": "ipython",
    "version": 3
   },
   "file_extension": ".py",
   "mimetype": "text/x-python",
   "name": "python",
   "nbconvert_exporter": "python",
   "pygments_lexer": "ipython3",
   "version": "3.8.12"
  }
 },
 "nbformat": 4,
 "nbformat_minor": 5
}
