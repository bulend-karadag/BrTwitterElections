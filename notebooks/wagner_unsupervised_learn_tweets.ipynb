{
 "cells": [
  {
   "cell_type": "markdown",
   "id": "e9d6c396-9b69-455f-806b-d7f78fd06edc",
   "metadata": {},
   "source": [
    "### Imports"
   ]
  },
  {
   "cell_type": "code",
   "execution_count": 2,
   "id": "6c6fecc5-1956-465b-8208-4ab87cf9f094",
   "metadata": {},
   "outputs": [],
   "source": [
    "# import the necessary libraries\n",
    "import pandas as pd\n",
    "import numpy as np\n",
    "import matplotlib.pyplot as plt\n",
    "import multiprocessing\n",
    "\n",
    "#gensim\n",
    "from gensim.models.phrases import Phrases, Phraser\n",
    "from gensim.models import Word2Vec\n",
    "\n",
    "#model\n",
    "from sklearn.cluster import KMeans"
   ]
  },
  {
   "cell_type": "markdown",
   "id": "ce062ba3-b7b4-46f9-ae37-42405edacb63",
   "metadata": {},
   "source": [
    "#### Jupyter Configuration"
   ]
  },
  {
   "cell_type": "code",
   "execution_count": 3,
   "id": "8b9db837-bf0b-4755-a565-01e96d87e8e5",
   "metadata": {},
   "outputs": [],
   "source": [
    "pd.options.display.max_colwidth = 100"
   ]
  },
  {
   "cell_type": "markdown",
   "id": "8a570f83-a5d0-491a-ba53-71f76d581f6a",
   "metadata": {},
   "source": [
    "### Analysing data"
   ]
  },
  {
   "cell_type": "markdown",
   "id": "f9d2979d-05bb-4945-8a5a-bb7e97df8cf3",
   "metadata": {
    "tags": []
   },
   "source": [
    "#### Loading CSV"
   ]
  },
  {
   "cell_type": "code",
   "execution_count": 47,
   "id": "c1f135a4-febd-4afb-be1d-aa1b7c9ccef7",
   "metadata": {},
   "outputs": [],
   "source": [
    "#df = pd.read_csv('../raw_data/Tweets_Mg.csv', encoding='utf-8')\n",
    "df = pd.read_csv('../raw_data/data/2014/DILMA_ROUSSEFF/#dilma/total_tweets.csv', encoding='utf-8')"
   ]
  },
  {
   "cell_type": "code",
   "execution_count": 143,
   "id": "b3caf998-8a9f-4a6f-b8e0-1b8f83b576fb",
   "metadata": {},
   "outputs": [
    {
     "name": "stdout",
     "output_type": "stream",
     "text": [
      "<class 'pandas.core.frame.DataFrame'>\n",
      "RangeIndex: 37157 entries, 0 to 37156\n",
      "Data columns (total 21 columns):\n",
      " #   Column           Non-Null Count  Dtype \n",
      "---  ------           --------------  ----- \n",
      " 0   url              37157 non-null  object\n",
      " 1   date             37157 non-null  object\n",
      " 2   content          37157 non-null  object\n",
      " 3   id               37157 non-null  int64 \n",
      " 4   reply_count      37157 non-null  int64 \n",
      " 5   retweet_count    37157 non-null  int64 \n",
      " 6   like_count       37157 non-null  int64 \n",
      " 7   quote_count      37157 non-null  int64 \n",
      " 8   lang             37157 non-null  object\n",
      " 9   username         37157 non-null  object\n",
      " 10  displayname      37155 non-null  object\n",
      " 11  description      27664 non-null  object\n",
      " 12  verified         37157 non-null  bool  \n",
      " 13  created          37157 non-null  object\n",
      " 14  followers_count  37157 non-null  int64 \n",
      " 15  friends_count    37157 non-null  int64 \n",
      " 16  location         24131 non-null  object\n",
      " 17  protected        37157 non-null  bool  \n",
      " 18  profile_img      37156 non-null  object\n",
      " 19  query            37157 non-null  object\n",
      " 20  crawled_date     37157 non-null  object\n",
      "dtypes: bool(2), int64(7), object(12)\n",
      "memory usage: 5.5+ MB\n"
     ]
    }
   ],
   "source": [
    "df.info()"
   ]
  },
  {
   "cell_type": "markdown",
   "id": "722aef72-373a-493e-b195-5167c2cce768",
   "metadata": {
    "tags": []
   },
   "source": [
    "#### Cheking type of data and missing values"
   ]
  },
  {
   "cell_type": "code",
   "execution_count": 6,
   "id": "26445e60-3bf6-4b54-85b2-960ba6d2ffcd",
   "metadata": {},
   "outputs": [
    {
     "name": "stdout",
     "output_type": "stream",
     "text": [
      "<class 'pandas.core.frame.DataFrame'>\n",
      "RangeIndex: 559591 entries, 0 to 559590\n",
      "Data columns (total 21 columns):\n",
      " #   Column           Non-Null Count   Dtype \n",
      "---  ------           --------------   ----- \n",
      " 0   url              559591 non-null  object\n",
      " 1   date             559591 non-null  object\n",
      " 2   content          559591 non-null  object\n",
      " 3   id               559591 non-null  int64 \n",
      " 4   reply_count      559591 non-null  int64 \n",
      " 5   retweet_count    559591 non-null  int64 \n",
      " 6   like_count       559591 non-null  int64 \n",
      " 7   quote_count      559591 non-null  int64 \n",
      " 8   lang             559591 non-null  object\n",
      " 9   username         559591 non-null  object\n",
      " 10  displayname      559386 non-null  object\n",
      " 11  description      450439 non-null  object\n",
      " 12  verified         559591 non-null  bool  \n",
      " 13  created          559591 non-null  object\n",
      " 14  followers_count  559591 non-null  int64 \n",
      " 15  friends_count    559591 non-null  int64 \n",
      " 16  location         413345 non-null  object\n",
      " 17  protected        559591 non-null  bool  \n",
      " 18  profile_img      559409 non-null  object\n",
      " 19  query            559591 non-null  object\n",
      " 20  crawled_date     559591 non-null  object\n",
      "dtypes: bool(2), int64(7), object(12)\n",
      "memory usage: 82.2+ MB\n"
     ]
    }
   ],
   "source": [
    "df.info()"
   ]
  },
  {
   "cell_type": "markdown",
   "id": "e1118288-6948-4bda-bebc-14ae15b47cbb",
   "metadata": {
    "tags": []
   },
   "source": [
    "#### Dataset considerations"
   ]
  },
  {
   "cell_type": "markdown",
   "id": "cf8ab450-fddc-4cc2-b406-1e5502be107b",
   "metadata": {},
   "source": [
    "- Most of the content has NaN values\n",
    "- 26 columns in total. 7 columns are object type, 2 columns are int type, 17 columns are float type\n",
    "- 15 columns are complety empty, latitude and longitude only has 1% of values filled, the user location is present in 67% of the total rows"
   ]
  },
  {
   "cell_type": "markdown",
   "id": "a7280f2d-05d6-485c-bbdd-23d188624c8e",
   "metadata": {
    "tags": []
   },
   "source": [
    "#### Check for unique values"
   ]
  },
  {
   "cell_type": "code",
   "execution_count": 7,
   "id": "a8cc7914-d29b-4aeb-8e4e-3d3d6d554c60",
   "metadata": {},
   "outputs": [
    {
     "data": {
      "text/plain": [
       "url                559591\n",
       "date               540875\n",
       "content            554047\n",
       "id                 559591\n",
       "reply_count           203\n",
       "retweet_count         549\n",
       "like_count           1075\n",
       "quote_count           157\n",
       "lang                   29\n",
       "username           277959\n",
       "displayname        222336\n",
       "description        205779\n",
       "verified                2\n",
       "created            277744\n",
       "followers_count     14264\n",
       "friends_count        8267\n",
       "location            55518\n",
       "protected               1\n",
       "profile_img        273092\n",
       "query                   1\n",
       "crawled_date            1\n",
       "dtype: int64"
      ]
     },
     "execution_count": 7,
     "metadata": {},
     "output_type": "execute_result"
    }
   ],
   "source": [
    "df.nunique()"
   ]
  },
  {
   "cell_type": "code",
   "execution_count": 8,
   "id": "f29b01d8-2507-4c93-81a2-bf9cb737a25c",
   "metadata": {},
   "outputs": [
    {
     "data": {
      "text/plain": [
       "Brasil                          28186\n",
       "Rio de Janeiro, Brasil          18079\n",
       "São Paulo, Brasil               16599\n",
       "Rio de Janeiro                   6764\n",
       "Belo Horizonte, Brasil           6604\n",
       "                                ...  \n",
       "Serra Dourada 1                     1\n",
       "feira de satanás                    1\n",
       "República De Curitiba               1\n",
       "Praia do Canto - Vitória -ES        1\n",
       "‏زكواد                              1\n",
       "Name: location, Length: 55518, dtype: int64"
      ]
     },
     "execution_count": 8,
     "metadata": {},
     "output_type": "execute_result"
    }
   ],
   "source": [
    "df['location'].value_counts()"
   ]
  },
  {
   "cell_type": "markdown",
   "id": "38393b73-bc4c-4738-91f7-f575ecb31840",
   "metadata": {
    "tags": []
   },
   "source": [
    "#### Observations"
   ]
  },
  {
   "cell_type": "markdown",
   "id": "1f53a847-4eda-47dc-9bf6-a654af3820f2",
   "metadata": {},
   "source": [
    "- There's 277959 unique users 49% of the total number of tweets observed\n",
    "- The most common regions of the tweets are Brasil, Rio de Janeiro, São Paulo, Belo Horizonte respectively\n",
    "- There's 29 different langs"
   ]
  },
  {
   "cell_type": "markdown",
   "id": "e63e050e-6d41-4a0f-83f1-fc4025bc46e3",
   "metadata": {
    "tags": []
   },
   "source": [
    "### Data Cleaning"
   ]
  },
  {
   "cell_type": "markdown",
   "id": "b388744f-4259-46f0-95cd-7c7dc78f354a",
   "metadata": {},
   "source": [
    "dropping all columns that:\n",
    "\n",
    "- all null records\n",
    "- less than 40% data\n",
    "- all unique records such as id's"
   ]
  },
  {
   "cell_type": "code",
   "execution_count": 10,
   "id": "e6e9115c-bd1f-4f28-96d7-4cbcf37f2f60",
   "metadata": {},
   "outputs": [],
   "source": [
    "df = df[['date', 'content', 'location', 'username', 'retweet_count', 'lang']]"
   ]
  },
  {
   "cell_type": "markdown",
   "id": "ff7feb6a-2ada-4250-92e1-10e394421b19",
   "metadata": {
    "tags": []
   },
   "source": [
    "#### Removing duplicates based on Text"
   ]
  },
  {
   "cell_type": "code",
   "execution_count": 11,
   "id": "24496424-f5a6-47b9-a05e-4639d0db5d83",
   "metadata": {},
   "outputs": [],
   "source": [
    "df = df.drop_duplicates(subset=['content'], keep='first')"
   ]
  },
  {
   "cell_type": "code",
   "execution_count": 12,
   "id": "db22c21f-0ae8-4dd0-bc71-cde0ed91b6e3",
   "metadata": {},
   "outputs": [
    {
     "data": {
      "text/plain": [
       "(554047, 6)"
      ]
     },
     "execution_count": 12,
     "metadata": {},
     "output_type": "execute_result"
    }
   ],
   "source": [
    "df.shape"
   ]
  },
  {
   "cell_type": "markdown",
   "id": "475ddd2c-46e1-4875-aee7-88ea63a170c2",
   "metadata": {
    "tags": []
   },
   "source": [
    "#### Defining a clean encoder"
   ]
  },
  {
   "cell_type": "code",
   "execution_count": 75,
   "id": "bef6d720-b66e-4575-a4dc-183b4c96fe86",
   "metadata": {},
   "outputs": [],
   "source": [
    "import re\n",
    "import string\n",
    "\n",
    "from sklearn.pipeline import make_pipeline\n",
    "from sklearn.base import BaseEstimator, TransformerMixin\n",
    "from sklearn.compose import  make_column_transformer\n",
    "from nltk.tokenize import TweetTokenizer\n",
    "from nltk.corpus import stopwords \n",
    "\n",
    "\n",
    "class CleaningEncoder(BaseEstimator, TransformerMixin):\n",
    "    '''\n",
    "    Receives raw text data from the tweets and returns clean, ready to process data:\n",
    "    turns all into lower case;\n",
    "    removes punctuation;\n",
    "    removes stopwords;\n",
    "    removes numbers;\n",
    "    removes users' handles\n",
    "    \n",
    "    '''\n",
    "    def __init__(self):\n",
    "        pass\n",
    "                        \n",
    "        \n",
    "    def fit(self, X, y=None):\n",
    "        return self\n",
    "    \n",
    "    def transform(self, X, y=None):\n",
    "        #assert isinstance(X, pd.DataFrame)\n",
    "        X_ = X.copy()      \n",
    "        \n",
    "        #removin NaN values\n",
    "        X_ = X_.fillna('nenhuma descrição')\n",
    "        \n",
    "        #removing links\n",
    "        X_ = X_.apply(lambda x: re.sub(r\"http\\S+\", \"\", x))\n",
    "        X_ = X_.apply(lambda x: re.sub(r\"www.\\S+\", \"\", x))\n",
    "                \n",
    "        #removing punctuation from each tweet\n",
    "        new_punc = list(string.punctuation)\n",
    "        del new_punc[2]\n",
    "        del new_punc[-11]\n",
    "        for punctuation in new_punc:\n",
    "            X_ = X_.str.replace(punctuation, '')\n",
    "            \n",
    "        #removing numbers\n",
    "        X_ = X_.str.replace('\\d+', '')\n",
    "        \n",
    "        #tokenizing - removes handles, applies lowercase, keeps #, shortens letter repetitions to three\n",
    "        #ex: kkkkk, kkkkkk, kkkkkkkkk = kkk\n",
    "        tkn = TweetTokenizer(preserve_case=False, reduce_len=True, strip_handles=True)\n",
    "        X_ = X_.apply(lambda x: tkn.tokenize(x))\n",
    "        \n",
    "        #removing stopwords\n",
    "        stop_words = stopwords.words('portuguese')\n",
    "        stop_words.remove('não')\n",
    "        addicional = [\n",
    "            'd', 'ta', 'q', 'tah', 'tao', 'eh', 'vc', 'voce',\n",
    "            'pq', 'quedê', 'mto', 'mt', 'bj', 'bjs','vcs','bb',\n",
    "            'b', 'sao', 'axo', 'mano', 'ae', 'neh', 'aí', '...', 'rt',\n",
    "            'kkk', 'porque', 'né', 'no', 'iai', 'tbm', 'msm', 'jah']\n",
    "        stop_words.extend(addicional)\n",
    "        \n",
    "        #X_ = X_.apply(lambda x: [word for word in x if len(word) > 1])\n",
    "        X_ = X_.apply(lambda x: [word for word in x if word not in (stop_words)])\n",
    "        #X_ = X_.apply(lambda x: ' '.join(word for word in x if word not in (stop_words)))\n",
    "        \n",
    "        return X_"
   ]
  },
  {
   "cell_type": "markdown",
   "id": "1fa90daf-a35b-405b-8927-1b8057680761",
   "metadata": {
    "tags": []
   },
   "source": [
    "#### Execute cleaning process on text column"
   ]
  },
  {
   "cell_type": "code",
   "execution_count": 76,
   "id": "e570c330-e4dc-4079-b4cc-94c6b78a0511",
   "metadata": {},
   "outputs": [
    {
     "name": "stderr",
     "output_type": "stream",
     "text": [
      "/tmp/ipykernel_17899/344343821.py:44: FutureWarning: The default value of regex will change from True to False in a future version. In addition, single character regular expressions will *not* be treated as literal strings when regex=True.\n",
      "  X_ = X_.str.replace(punctuation, '')\n",
      "/tmp/ipykernel_17899/344343821.py:44: FutureWarning: The default value of regex will change from True to False in a future version. In addition, single character regular expressions will *not* be treated as literal strings when regex=True.\n",
      "  X_ = X_.str.replace(punctuation, '')\n",
      "/tmp/ipykernel_17899/344343821.py:44: FutureWarning: The default value of regex will change from True to False in a future version. In addition, single character regular expressions will *not* be treated as literal strings when regex=True.\n",
      "  X_ = X_.str.replace(punctuation, '')\n",
      "/tmp/ipykernel_17899/344343821.py:44: FutureWarning: The default value of regex will change from True to False in a future version. In addition, single character regular expressions will *not* be treated as literal strings when regex=True.\n",
      "  X_ = X_.str.replace(punctuation, '')\n",
      "/tmp/ipykernel_17899/344343821.py:44: FutureWarning: The default value of regex will change from True to False in a future version. In addition, single character regular expressions will *not* be treated as literal strings when regex=True.\n",
      "  X_ = X_.str.replace(punctuation, '')\n",
      "/tmp/ipykernel_17899/344343821.py:44: FutureWarning: The default value of regex will change from True to False in a future version. In addition, single character regular expressions will *not* be treated as literal strings when regex=True.\n",
      "  X_ = X_.str.replace(punctuation, '')\n",
      "/tmp/ipykernel_17899/344343821.py:44: FutureWarning: The default value of regex will change from True to False in a future version. In addition, single character regular expressions will *not* be treated as literal strings when regex=True.\n",
      "  X_ = X_.str.replace(punctuation, '')\n",
      "/tmp/ipykernel_17899/344343821.py:44: FutureWarning: The default value of regex will change from True to False in a future version. In addition, single character regular expressions will *not* be treated as literal strings when regex=True.\n",
      "  X_ = X_.str.replace(punctuation, '')\n",
      "/tmp/ipykernel_17899/344343821.py:44: FutureWarning: The default value of regex will change from True to False in a future version. In addition, single character regular expressions will *not* be treated as literal strings when regex=True.\n",
      "  X_ = X_.str.replace(punctuation, '')\n",
      "/tmp/ipykernel_17899/344343821.py:44: FutureWarning: The default value of regex will change from True to False in a future version. In addition, single character regular expressions will *not* be treated as literal strings when regex=True.\n",
      "  X_ = X_.str.replace(punctuation, '')\n",
      "/tmp/ipykernel_17899/344343821.py:44: FutureWarning: The default value of regex will change from True to False in a future version. In addition, single character regular expressions will *not* be treated as literal strings when regex=True.\n",
      "  X_ = X_.str.replace(punctuation, '')\n",
      "/tmp/ipykernel_17899/344343821.py:44: FutureWarning: The default value of regex will change from True to False in a future version. In addition, single character regular expressions will *not* be treated as literal strings when regex=True.\n",
      "  X_ = X_.str.replace(punctuation, '')\n",
      "/tmp/ipykernel_17899/344343821.py:44: FutureWarning: The default value of regex will change from True to False in a future version. In addition, single character regular expressions will *not* be treated as literal strings when regex=True.\n",
      "  X_ = X_.str.replace(punctuation, '')\n",
      "/tmp/ipykernel_17899/344343821.py:44: FutureWarning: The default value of regex will change from True to False in a future version. In addition, single character regular expressions will *not* be treated as literal strings when regex=True.\n",
      "  X_ = X_.str.replace(punctuation, '')\n",
      "/tmp/ipykernel_17899/344343821.py:47: FutureWarning: The default value of regex will change from True to False in a future version.\n",
      "  X_ = X_.str.replace('\\d+', '')\n"
     ]
    }
   ],
   "source": [
    "clean = CleaningEncoder()\n",
    "\n",
    "df['content_clean'] = clean.fit_transform(df['content'])"
   ]
  },
  {
   "cell_type": "code",
   "execution_count": 77,
   "id": "923460a9-5b56-48b2-b18c-4d2d3db34de2",
   "metadata": {},
   "outputs": [
    {
     "data": {
      "text/plain": [
       "0         [lbe, liga, brasileira, epilepsia, saliva, eliminada, durante, convulsão, pode, transmitir, epil...\n",
       "1                       [gostei, vídeo, freeza, juntos, maior, mito, torneio, react, ep, dragon, ball, super]\n",
       "2                                                                                   [mito, cria, lixo, copia]\n",
       "3                                                                                       [fábio, mito, santos]\n",
       "4         [suspiro, morte, hc, aceito, ser, examinado, julgado, improcedente, aceitou, hc, exame, não, nec...\n",
       "                                                         ...                                                 \n",
       "559583                                                                        [vai, toma, cu, ale, mito, dms]\n",
       "559584                                                                          [cadê, mito, anthony, bennet]\n",
       "559585    [la, casa, papel, não, tão, bom, bolsonaro, não, mito, felipe, neto, bom, youtuber, ss, chato, c...\n",
       "559586                                                                                  [gente, louca, amiga]\n",
       "559589    [vim, jogar, futebol, não, ser, modelo, di, marinho, chegou, dando, tapa, cara, vacilão, hahahah...\n",
       "Name: content_clean, Length: 455733, dtype: object"
      ]
     },
     "execution_count": 77,
     "metadata": {},
     "output_type": "execute_result"
    }
   ],
   "source": [
    "df['content_clean']"
   ]
  },
  {
   "cell_type": "markdown",
   "id": "6ae5cd1c-c5d0-4504-a167-fd092f439ea4",
   "metadata": {},
   "source": [
    "#### Removing duplicates again on cleaned data"
   ]
  },
  {
   "cell_type": "code",
   "execution_count": 17,
   "id": "03025083-98d6-4cf6-abfc-d5aed75194ed",
   "metadata": {},
   "outputs": [],
   "source": [
    "df = df.drop_duplicates(subset=['content_clean'], keep='first')"
   ]
  },
  {
   "cell_type": "code",
   "execution_count": 18,
   "id": "4ea33eca-d075-4186-bde4-afa68ac98d38",
   "metadata": {},
   "outputs": [
    {
     "data": {
      "text/plain": [
       "(455733, 7)"
      ]
     },
     "execution_count": 18,
     "metadata": {},
     "output_type": "execute_result"
    }
   ],
   "source": [
    "df.shape"
   ]
  },
  {
   "cell_type": "markdown",
   "id": "1e5c01b1-aaa6-4a3d-97ae-4f70228f1fb8",
   "metadata": {},
   "source": [
    "#### Converting Date column to DateTime Object and creating two new columns:month and year"
   ]
  },
  {
   "cell_type": "code",
   "execution_count": 20,
   "id": "c181a872-4511-4344-aab1-684009862edd",
   "metadata": {},
   "outputs": [
    {
     "name": "stderr",
     "output_type": "stream",
     "text": [
      "/tmp/ipykernel_17899/3000405607.py:1: SettingWithCopyWarning: \n",
      "A value is trying to be set on a copy of a slice from a DataFrame.\n",
      "Try using .loc[row_indexer,col_indexer] = value instead\n",
      "\n",
      "See the caveats in the documentation: https://pandas.pydata.org/pandas-docs/stable/user_guide/indexing.html#returning-a-view-versus-a-copy\n",
      "  df['date'] = pd.to_datetime(df['date'])\n",
      "/tmp/ipykernel_17899/3000405607.py:2: SettingWithCopyWarning: \n",
      "A value is trying to be set on a copy of a slice from a DataFrame.\n",
      "Try using .loc[row_indexer,col_indexer] = value instead\n",
      "\n",
      "See the caveats in the documentation: https://pandas.pydata.org/pandas-docs/stable/user_guide/indexing.html#returning-a-view-versus-a-copy\n",
      "  df['month'] = df['date'].dt.month\n",
      "/tmp/ipykernel_17899/3000405607.py:3: SettingWithCopyWarning: \n",
      "A value is trying to be set on a copy of a slice from a DataFrame.\n",
      "Try using .loc[row_indexer,col_indexer] = value instead\n",
      "\n",
      "See the caveats in the documentation: https://pandas.pydata.org/pandas-docs/stable/user_guide/indexing.html#returning-a-view-versus-a-copy\n",
      "  df['year'] = df['date'].dt.year\n"
     ]
    }
   ],
   "source": [
    "df['date'] = pd.to_datetime(df['date'])\n",
    "df['month'] = df['date'].dt.month\n",
    "df['year'] = df['date'].dt.year"
   ]
  },
  {
   "cell_type": "code",
   "execution_count": 21,
   "id": "628f667f-ca07-49e5-9d1b-a7d73d33e288",
   "metadata": {},
   "outputs": [
    {
     "data": {
      "text/html": [
       "<div>\n",
       "<style scoped>\n",
       "    .dataframe tbody tr th:only-of-type {\n",
       "        vertical-align: middle;\n",
       "    }\n",
       "\n",
       "    .dataframe tbody tr th {\n",
       "        vertical-align: top;\n",
       "    }\n",
       "\n",
       "    .dataframe thead th {\n",
       "        text-align: right;\n",
       "    }\n",
       "</style>\n",
       "<table border=\"1\" class=\"dataframe\">\n",
       "  <thead>\n",
       "    <tr style=\"text-align: right;\">\n",
       "      <th></th>\n",
       "      <th>date</th>\n",
       "      <th>content</th>\n",
       "      <th>location</th>\n",
       "      <th>username</th>\n",
       "      <th>retweet_count</th>\n",
       "      <th>lang</th>\n",
       "      <th>content_clean</th>\n",
       "      <th>month</th>\n",
       "      <th>year</th>\n",
       "    </tr>\n",
       "  </thead>\n",
       "  <tbody>\n",
       "    <tr>\n",
       "      <th>0</th>\n",
       "      <td>2018-03-25 23:59:56</td>\n",
       "      <td>LBE - Liga Brasileira de Epilepsia  - A SALIVA ELIMINADA DURANTE UMA CONVULSÃO PODE TRANSMITIR E...</td>\n",
       "      <td>NaN</td>\n",
       "      <td>lesbraga</td>\n",
       "      <td>0</td>\n",
       "      <td>pt</td>\n",
       "      <td>lbe liga brasileira epilepsia saliva eliminada durante convulsão pode transmitir epilepsia mito ...</td>\n",
       "      <td>3</td>\n",
       "      <td>2018</td>\n",
       "    </tr>\n",
       "    <tr>\n",
       "      <th>1</th>\n",
       "      <td>2018-03-25 23:59:52</td>\n",
       "      <td>Gostei de um vídeo @YouTube https://t.co/B0lmQnr5jz E FREEZA JUNTOS, 17 O MAIOR MITO DO TORNEIO!...</td>\n",
       "      <td>Manaus, Amazonas</td>\n",
       "      <td>carloseduardofx</td>\n",
       "      <td>0</td>\n",
       "      <td>pt</td>\n",
       "      <td>gostei vídeo freeza juntos maior mito torneio react ep dragon ball super</td>\n",
       "      <td>3</td>\n",
       "      <td>2018</td>\n",
       "    </tr>\n",
       "    <tr>\n",
       "      <th>2</th>\n",
       "      <td>2018-03-25 23:59:19</td>\n",
       "      <td>\"O mito cria o lixo copia\" @SuarezAdryan https://t.co/yrdEuo37jC</td>\n",
       "      <td>en la panaderia</td>\n",
       "      <td>DanieIaTorress</td>\n",
       "      <td>0</td>\n",
       "      <td>pt</td>\n",
       "      <td>mito cria lixo copia</td>\n",
       "      <td>3</td>\n",
       "      <td>2018</td>\n",
       "    </tr>\n",
       "    <tr>\n",
       "      <th>3</th>\n",
       "      <td>2018-03-25 23:59:14</td>\n",
       "      <td>@espora13 @atletico Fábio Mito Santos</td>\n",
       "      <td>Joaquim Felício, Brasil</td>\n",
       "      <td>w_martins1207</td>\n",
       "      <td>0</td>\n",
       "      <td>pt</td>\n",
       "      <td>fábio mito santos</td>\n",
       "      <td>3</td>\n",
       "      <td>2018</td>\n",
       "    </tr>\n",
       "    <tr>\n",
       "      <th>4</th>\n",
       "      <td>2018-03-25 23:58:24</td>\n",
       "      <td>@RevistaISTOE Foi o suspiro da morte, o HC foi aceito para ser examinado, mas será julgado impro...</td>\n",
       "      <td>São Paulo - Brasil</td>\n",
       "      <td>DrJorgeSouza</td>\n",
       "      <td>0</td>\n",
       "      <td>pt</td>\n",
       "      <td>suspiro morte hc aceito ser examinado julgado improcedente aceitou hc exame não necessariamente ...</td>\n",
       "      <td>3</td>\n",
       "      <td>2018</td>\n",
       "    </tr>\n",
       "  </tbody>\n",
       "</table>\n",
       "</div>"
      ],
      "text/plain": [
       "                 date  \\\n",
       "0 2018-03-25 23:59:56   \n",
       "1 2018-03-25 23:59:52   \n",
       "2 2018-03-25 23:59:19   \n",
       "3 2018-03-25 23:59:14   \n",
       "4 2018-03-25 23:58:24   \n",
       "\n",
       "                                                                                               content  \\\n",
       "0  LBE - Liga Brasileira de Epilepsia  - A SALIVA ELIMINADA DURANTE UMA CONVULSÃO PODE TRANSMITIR E...   \n",
       "1  Gostei de um vídeo @YouTube https://t.co/B0lmQnr5jz E FREEZA JUNTOS, 17 O MAIOR MITO DO TORNEIO!...   \n",
       "2                                     \"O mito cria o lixo copia\" @SuarezAdryan https://t.co/yrdEuo37jC   \n",
       "3                                                                @espora13 @atletico Fábio Mito Santos   \n",
       "4  @RevistaISTOE Foi o suspiro da morte, o HC foi aceito para ser examinado, mas será julgado impro...   \n",
       "\n",
       "                  location         username  retweet_count lang  \\\n",
       "0                      NaN         lesbraga              0   pt   \n",
       "1         Manaus, Amazonas  carloseduardofx              0   pt   \n",
       "2         en la panaderia    DanieIaTorress              0   pt   \n",
       "3  Joaquim Felício, Brasil    w_martins1207              0   pt   \n",
       "4       São Paulo - Brasil     DrJorgeSouza              0   pt   \n",
       "\n",
       "                                                                                         content_clean  \\\n",
       "0  lbe liga brasileira epilepsia saliva eliminada durante convulsão pode transmitir epilepsia mito ...   \n",
       "1                             gostei vídeo freeza juntos maior mito torneio react ep dragon ball super   \n",
       "2                                                                                 mito cria lixo copia   \n",
       "3                                                                                    fábio mito santos   \n",
       "4  suspiro morte hc aceito ser examinado julgado improcedente aceitou hc exame não necessariamente ...   \n",
       "\n",
       "   month  year  \n",
       "0      3  2018  \n",
       "1      3  2018  \n",
       "2      3  2018  \n",
       "3      3  2018  \n",
       "4      3  2018  "
      ]
     },
     "execution_count": 21,
     "metadata": {},
     "output_type": "execute_result"
    }
   ],
   "source": [
    "df.head()"
   ]
  },
  {
   "cell_type": "markdown",
   "id": "e1b66d66-0df9-4a44-81ce-e2dbfeef72e3",
   "metadata": {
    "jp-MarkdownHeadingCollapsed": true,
    "tags": []
   },
   "source": [
    "#### Storing column 'Classificacao' as our y_pred"
   ]
  },
  {
   "cell_type": "code",
   "execution_count": 94,
   "id": "188941b8-a3cc-432a-b514-25badc846a26",
   "metadata": {},
   "outputs": [
    {
     "ename": "KeyError",
     "evalue": "'Classificacao'",
     "output_type": "error",
     "traceback": [
      "\u001b[0;31m---------------------------------------------------------------------------\u001b[0m",
      "\u001b[0;31mKeyError\u001b[0m                                  Traceback (most recent call last)",
      "File \u001b[0;32m~/.pyenv/versions/3.8.12/envs/twitterelectionbr/lib/python3.8/site-packages/pandas/core/indexes/base.py:3621\u001b[0m, in \u001b[0;36mIndex.get_loc\u001b[0;34m(self, key, method, tolerance)\u001b[0m\n\u001b[1;32m   3620\u001b[0m \u001b[38;5;28;01mtry\u001b[39;00m:\n\u001b[0;32m-> 3621\u001b[0m     \u001b[38;5;28;01mreturn\u001b[39;00m \u001b[38;5;28;43mself\u001b[39;49m\u001b[38;5;241;43m.\u001b[39;49m\u001b[43m_engine\u001b[49m\u001b[38;5;241;43m.\u001b[39;49m\u001b[43mget_loc\u001b[49m\u001b[43m(\u001b[49m\u001b[43mcasted_key\u001b[49m\u001b[43m)\u001b[49m\n\u001b[1;32m   3622\u001b[0m \u001b[38;5;28;01mexcept\u001b[39;00m \u001b[38;5;167;01mKeyError\u001b[39;00m \u001b[38;5;28;01mas\u001b[39;00m err:\n",
      "File \u001b[0;32m~/.pyenv/versions/3.8.12/envs/twitterelectionbr/lib/python3.8/site-packages/pandas/_libs/index.pyx:136\u001b[0m, in \u001b[0;36mpandas._libs.index.IndexEngine.get_loc\u001b[0;34m()\u001b[0m\n",
      "File \u001b[0;32m~/.pyenv/versions/3.8.12/envs/twitterelectionbr/lib/python3.8/site-packages/pandas/_libs/index.pyx:163\u001b[0m, in \u001b[0;36mpandas._libs.index.IndexEngine.get_loc\u001b[0;34m()\u001b[0m\n",
      "File \u001b[0;32mpandas/_libs/hashtable_class_helper.pxi:5198\u001b[0m, in \u001b[0;36mpandas._libs.hashtable.PyObjectHashTable.get_item\u001b[0;34m()\u001b[0m\n",
      "File \u001b[0;32mpandas/_libs/hashtable_class_helper.pxi:5206\u001b[0m, in \u001b[0;36mpandas._libs.hashtable.PyObjectHashTable.get_item\u001b[0;34m()\u001b[0m\n",
      "\u001b[0;31mKeyError\u001b[0m: 'Classificacao'",
      "\nThe above exception was the direct cause of the following exception:\n",
      "\u001b[0;31mKeyError\u001b[0m                                  Traceback (most recent call last)",
      "Input \u001b[0;32mIn [94]\u001b[0m, in \u001b[0;36m<cell line: 1>\u001b[0;34m()\u001b[0m\n\u001b[0;32m----> 1\u001b[0m y_pred \u001b[38;5;241m=\u001b[39m \u001b[43mdf\u001b[49m\u001b[43m[\u001b[49m\u001b[38;5;124;43m'\u001b[39;49m\u001b[38;5;124;43mClassificacao\u001b[39;49m\u001b[38;5;124;43m'\u001b[39;49m\u001b[43m]\u001b[49m\n\u001b[1;32m      2\u001b[0m df\u001b[38;5;241m.\u001b[39mdrop(columns\u001b[38;5;241m=\u001b[39m[\u001b[38;5;124m'\u001b[39m\u001b[38;5;124mClassificacao\u001b[39m\u001b[38;5;124m'\u001b[39m], inplace\u001b[38;5;241m=\u001b[39m\u001b[38;5;28;01mTrue\u001b[39;00m)\n",
      "File \u001b[0;32m~/.pyenv/versions/3.8.12/envs/twitterelectionbr/lib/python3.8/site-packages/pandas/core/frame.py:3505\u001b[0m, in \u001b[0;36mDataFrame.__getitem__\u001b[0;34m(self, key)\u001b[0m\n\u001b[1;32m   3503\u001b[0m \u001b[38;5;28;01mif\u001b[39;00m \u001b[38;5;28mself\u001b[39m\u001b[38;5;241m.\u001b[39mcolumns\u001b[38;5;241m.\u001b[39mnlevels \u001b[38;5;241m>\u001b[39m \u001b[38;5;241m1\u001b[39m:\n\u001b[1;32m   3504\u001b[0m     \u001b[38;5;28;01mreturn\u001b[39;00m \u001b[38;5;28mself\u001b[39m\u001b[38;5;241m.\u001b[39m_getitem_multilevel(key)\n\u001b[0;32m-> 3505\u001b[0m indexer \u001b[38;5;241m=\u001b[39m \u001b[38;5;28;43mself\u001b[39;49m\u001b[38;5;241;43m.\u001b[39;49m\u001b[43mcolumns\u001b[49m\u001b[38;5;241;43m.\u001b[39;49m\u001b[43mget_loc\u001b[49m\u001b[43m(\u001b[49m\u001b[43mkey\u001b[49m\u001b[43m)\u001b[49m\n\u001b[1;32m   3506\u001b[0m \u001b[38;5;28;01mif\u001b[39;00m is_integer(indexer):\n\u001b[1;32m   3507\u001b[0m     indexer \u001b[38;5;241m=\u001b[39m [indexer]\n",
      "File \u001b[0;32m~/.pyenv/versions/3.8.12/envs/twitterelectionbr/lib/python3.8/site-packages/pandas/core/indexes/base.py:3623\u001b[0m, in \u001b[0;36mIndex.get_loc\u001b[0;34m(self, key, method, tolerance)\u001b[0m\n\u001b[1;32m   3621\u001b[0m     \u001b[38;5;28;01mreturn\u001b[39;00m \u001b[38;5;28mself\u001b[39m\u001b[38;5;241m.\u001b[39m_engine\u001b[38;5;241m.\u001b[39mget_loc(casted_key)\n\u001b[1;32m   3622\u001b[0m \u001b[38;5;28;01mexcept\u001b[39;00m \u001b[38;5;167;01mKeyError\u001b[39;00m \u001b[38;5;28;01mas\u001b[39;00m err:\n\u001b[0;32m-> 3623\u001b[0m     \u001b[38;5;28;01mraise\u001b[39;00m \u001b[38;5;167;01mKeyError\u001b[39;00m(key) \u001b[38;5;28;01mfrom\u001b[39;00m \u001b[38;5;21;01merr\u001b[39;00m\n\u001b[1;32m   3624\u001b[0m \u001b[38;5;28;01mexcept\u001b[39;00m \u001b[38;5;167;01mTypeError\u001b[39;00m:\n\u001b[1;32m   3625\u001b[0m     \u001b[38;5;66;03m# If we have a listlike key, _check_indexing_error will raise\u001b[39;00m\n\u001b[1;32m   3626\u001b[0m     \u001b[38;5;66;03m#  InvalidIndexError. Otherwise we fall through and re-raise\u001b[39;00m\n\u001b[1;32m   3627\u001b[0m     \u001b[38;5;66;03m#  the TypeError.\u001b[39;00m\n\u001b[1;32m   3628\u001b[0m     \u001b[38;5;28mself\u001b[39m\u001b[38;5;241m.\u001b[39m_check_indexing_error(key)\n",
      "\u001b[0;31mKeyError\u001b[0m: 'Classificacao'"
     ]
    }
   ],
   "source": [
    "y_pred = df['Classificacao']\n",
    "df.drop(columns=['Classificacao'], inplace=True)"
   ]
  },
  {
   "cell_type": "markdown",
   "id": "0c867149-5192-4cea-9f70-d146edf51c87",
   "metadata": {},
   "source": [
    "### Feature Engineering"
   ]
  },
  {
   "cell_type": "markdown",
   "id": "90390650-da70-44cb-ba66-120cc6ce5ec4",
   "metadata": {},
   "source": [
    "#### Converting the \"text_clean\" column in the format supported by embeddings."
   ]
  },
  {
   "cell_type": "code",
   "execution_count": 25,
   "id": "c10e8eb3-3170-42b2-a5bf-9a90cc8ca63c",
   "metadata": {},
   "outputs": [],
   "source": [
    "sent = [row for row in df[\"content_clean\"]]\n",
    "#use Gensim Phrases package to automatically detect common phrases (bigrams) from a list of sentences.\n",
    "# phrases = Phrases(sent, min_count=1, progress_per=50000)\n",
    "# bigram = Phraser(phrases)\n",
    "# sentences = bigram[sent]\n",
    "\n",
    "sentences = []\n",
    "for i in range(0, len(sent)):\n",
    "    sentences.append(sent[i].split(' '))\n",
    "\n",
    "#sentences"
   ]
  },
  {
   "cell_type": "code",
   "execution_count": 26,
   "id": "3ab84a5b-206a-42b1-95fb-ba31b6260f18",
   "metadata": {},
   "outputs": [],
   "source": [
    "#Initializing the word2vec model\n",
    "w2v_model = Word2Vec(min_count=4,\n",
    "                     window=5,\n",
    "                     vector_size = 300,\n",
    "                     sample=1e-5, \n",
    "                     alpha=0.03, \n",
    "                     min_alpha=0.0007, \n",
    "                     negative=20,\n",
    "                     seed= 42,\n",
    "                     workers=multiprocessing.cpu_count()-1)\n",
    "\n",
    "\n",
    "#building vocab of the word2vec model from the custom data\n",
    "w2v_model.build_vocab(sentences, progress_per=50000)\n",
    "\n",
    "# https://towardsdatascience.com/unsupervised-sentiment-analysis-a38bf1906483"
   ]
  },
  {
   "cell_type": "code",
   "execution_count": 27,
   "id": "ab4c949c-ef89-4b15-b419-f4714902105b",
   "metadata": {},
   "outputs": [
    {
     "data": {
      "text/plain": [
       "(50239794, 144268260)"
      ]
     },
     "execution_count": 27,
     "metadata": {},
     "output_type": "execute_result"
    }
   ],
   "source": [
    "#training the word2vec model\n",
    "w2v_model.train(sentences, total_examples=w2v_model.corpus_count, epochs=30, report_delay=1)"
   ]
  },
  {
   "cell_type": "code",
   "execution_count": 29,
   "id": "7232dbc4-5e9f-4bc7-b9d1-0061dcc564d1",
   "metadata": {},
   "outputs": [
    {
     "data": {
      "text/plain": [
       "[('poste', 0.7230837941169739),\n",
       " ('ciro', 0.6891016960144043),\n",
       " ('alckmin', 0.6444920301437378),\n",
       " ('pt', 0.642784833908081),\n",
       " ('alkimim', 0.6359413862228394),\n",
       " ('migrar', 0.6330007910728455),\n",
       " ('fantoche', 0.6314475536346436),\n",
       " ('falsiddad', 0.6226711869239807),\n",
       " ('hadadd', 0.6170825958251953),\n",
       " ('alckimin', 0.6161002516746521)]"
      ]
     },
     "execution_count": 29,
     "metadata": {},
     "output_type": "execute_result"
    }
   ],
   "source": [
    "# checking similar words in the corpus\n",
    "w2v_model.wv.most_similar(positive=[\"haddad\"])"
   ]
  },
  {
   "cell_type": "code",
   "execution_count": 30,
   "id": "dc2ece2e-ac2e-48fd-8a39-10b983121ee2",
   "metadata": {},
   "outputs": [],
   "source": [
    "#saving the word2vec model\n",
    "w2v_model.save(\"../raw_data/word2vec_mito.model\")"
   ]
  },
  {
   "cell_type": "code",
   "execution_count": 31,
   "id": "18ae5e2b-4034-426e-983b-02e58b7a75eb",
   "metadata": {},
   "outputs": [],
   "source": [
    "#Loading the word2vec model\n",
    "word_vectors = Word2Vec.load(\"../raw_data/word2vec_mito.model\").wv"
   ]
  },
  {
   "cell_type": "code",
   "execution_count": 32,
   "id": "72130930-2dcc-470f-9586-42aab402471d",
   "metadata": {},
   "outputs": [],
   "source": [
    "#Feeding the embeddings to a KMeans model to cluster words into positive, negative, and neutral clusters\n",
    "model = KMeans(n_clusters=3, max_iter=1000, random_state=42, n_init=50).fit(X=word_vectors.vectors.astype('double'))"
   ]
  },
  {
   "cell_type": "code",
   "execution_count": 39,
   "id": "79606856-fcc9-4e43-8c59-129181e6cb3b",
   "metadata": {},
   "outputs": [
    {
     "data": {
      "text/plain": [
       "[('driblado', 0.8367975950241089),\n",
       " ('kimmich', 0.8314777612686157),\n",
       " ('mikel', 0.8310962319374084),\n",
       " ('robgol', 0.8291711211204529),\n",
       " ('#toques', 0.8277086615562439),\n",
       " ('dortmund', 0.827426552772522),\n",
       " ('nainggolan', 0.8251321911811829),\n",
       " ('hummels', 0.821873128414154),\n",
       " ('gooolaço', 0.8216712474822998),\n",
       " ('lingard', 0.8203548192977905),\n",
       " ('#chapecoense', 0.8190000057220459),\n",
       " ('lateralesquerda', 0.8156614899635315),\n",
       " ('dagol', 0.8150851726531982),\n",
       " ('latera', 0.8135048747062683),\n",
       " ('elber', 0.8111499547958374),\n",
       " ('#voltadedé', 0.8090506792068481),\n",
       " ('rashford', 0.8084550499916077),\n",
       " ('elano', 0.8069788813591003),\n",
       " ('#chelsea', 0.806922435760498),\n",
       " ('luverdense', 0.8052404522895813),\n",
       " ('#copadarussia', 0.8050856590270996),\n",
       " ('pirlo', 0.8047767877578735),\n",
       " ('alvez', 0.8047056198120117),\n",
       " ('favre', 0.804589033126831),\n",
       " ('#internacional', 0.8037655353546143),\n",
       " ('magistral', 0.8032668828964233),\n",
       " ('#europaleaguefoxsports', 0.8028940558433533),\n",
       " ('#vamoschape', 0.8025880455970764),\n",
       " ('#ynwa', 0.8018417954444885),\n",
       " ('assist', 0.8006680607795715),\n",
       " ('barbecue', 0.8006019592285156),\n",
       " ('glory', 0.8004328608512878),\n",
       " ('gattuso', 0.7999194264411926),\n",
       " ('bakayoko', 0.7993040084838867),\n",
       " ('olhuogolll', 0.7985731959342957),\n",
       " ('gool', 0.7975801825523376),\n",
       " ('canhotinha', 0.796920120716095),\n",
       " ('atl', 0.7968744039535522),\n",
       " ('kenaldinho', 0.7961645126342773),\n",
       " ('desequilibrou', 0.7954690456390381),\n",
       " ('#conexaoei', 0.7949039340019226),\n",
       " ('#tanaarea', 0.7948651313781738),\n",
       " ('trapo', 0.7948076725006104),\n",
       " ('mosntro', 0.7947341203689575),\n",
       " ('mena', 0.7939696907997131),\n",
       " ('cska', 0.7935850024223328),\n",
       " ('monstroo', 0.7933952212333679),\n",
       " ('smalling', 0.7925642132759094),\n",
       " ('alcino', 0.7924000024795532),\n",
       " ('tricampeão', 0.7921907901763916)]"
      ]
     },
     "execution_count": 39,
     "metadata": {},
     "output_type": "execute_result"
    }
   ],
   "source": [
    "# check what we have in each cluster to label the clusters\n",
    "word_vectors.similar_by_vector(model.cluster_centers_[0], topn=50, restrict_vocab=None)"
   ]
  },
  {
   "cell_type": "code",
   "execution_count": 40,
   "id": "895416b0-d869-457b-9c99-4e945e8f1cd1",
   "metadata": {},
   "outputs": [],
   "source": [
    "# Labelling the clusters based on the type of words they carry\n",
    "positive_cluster_center = model.cluster_centers_[2]\n",
    "negative_cluster_center = model.cluster_centers_[1]\n",
    "neutral_cluster_center= model.cluster_centers_[0]"
   ]
  },
  {
   "cell_type": "code",
   "execution_count": 45,
   "id": "743ab947-986c-4017-8669-996e182a545e",
   "metadata": {},
   "outputs": [],
   "source": [
    "#Creating a DataFrame of words with their embeddings and cluster values\n",
    "words = pd.DataFrame(word_vectors.index_to_key)\n",
    "words.columns = ['words']\n",
    "words['vectors'] = words.words.apply(lambda x: word_vectors[f'{x}'])\n",
    "words['cluster'] = words.vectors.apply(lambda x: model.predict([np.array(x)])[0])\n",
    "#words.cluster = words.cluster.apply(lambda x: x[0])\n",
    "\n",
    "# https://towardsdatascience.com/unsupervised-sentiment-analysis-a38bf1906483"
   ]
  },
  {
   "cell_type": "code",
   "execution_count": 46,
   "id": "ef10eeee-efb9-4d4c-9d18-dcc236c137b1",
   "metadata": {},
   "outputs": [],
   "source": [
    "#Assigning 1 to positive values, 0 to neutral and -1 for negative values\n",
    "words['cluster_value'] = [1 if i==2 else 0 if i==0 else -1 for i in words.cluster]\n",
    "words['closeness_score'] = words.apply(lambda x: 1/(model.transform([x.vectors]).min()), axis=1)"
   ]
  },
  {
   "cell_type": "code",
   "execution_count": 47,
   "id": "293d9a95-24fc-4901-870c-d721e095fcff",
   "metadata": {},
   "outputs": [
    {
     "data": {
      "text/html": [
       "<div>\n",
       "<style scoped>\n",
       "    .dataframe tbody tr th:only-of-type {\n",
       "        vertical-align: middle;\n",
       "    }\n",
       "\n",
       "    .dataframe tbody tr th {\n",
       "        vertical-align: top;\n",
       "    }\n",
       "\n",
       "    .dataframe thead th {\n",
       "        text-align: right;\n",
       "    }\n",
       "</style>\n",
       "<table border=\"1\" class=\"dataframe\">\n",
       "  <thead>\n",
       "    <tr style=\"text-align: right;\">\n",
       "      <th></th>\n",
       "      <th>words</th>\n",
       "      <th>vectors</th>\n",
       "      <th>cluster</th>\n",
       "      <th>cluster_value</th>\n",
       "      <th>closeness_score</th>\n",
       "    </tr>\n",
       "  </thead>\n",
       "  <tbody>\n",
       "    <tr>\n",
       "      <th>4435</th>\n",
       "      <td>macedo</td>\n",
       "      <td>[-0.9511838, 0.17088418, 1.1510068, -0.32683194, 0.70824647, 0.39735875, -1.0071918, 0.8269708, ...</td>\n",
       "      <td>1</td>\n",
       "      <td>-1</td>\n",
       "      <td>0.061144</td>\n",
       "    </tr>\n",
       "    <tr>\n",
       "      <th>3478</th>\n",
       "      <td>➡</td>\n",
       "      <td>[0.3078026, 1.1495196, -0.75883025, -2.341329, -0.922239, 0.43600276, 0.37474012, 0.4766863, 0.3...</td>\n",
       "      <td>1</td>\n",
       "      <td>-1</td>\n",
       "      <td>0.061352</td>\n",
       "    </tr>\n",
       "    <tr>\n",
       "      <th>4551</th>\n",
       "      <td>alfa</td>\n",
       "      <td>[0.75527865, -0.8635013, -1.1809188, -1.2716343, -0.05506493, -0.8157928, -0.8137018, -1.1012603...</td>\n",
       "      <td>1</td>\n",
       "      <td>-1</td>\n",
       "      <td>0.061966</td>\n",
       "    </tr>\n",
       "    <tr>\n",
       "      <th>4514</th>\n",
       "      <td>❌</td>\n",
       "      <td>[0.83721507, 0.6425181, -0.68736196, -0.008306345, 0.0049287067, 1.2814461, -0.6801033, 1.003745...</td>\n",
       "      <td>1</td>\n",
       "      <td>-1</td>\n",
       "      <td>0.063043</td>\n",
       "    </tr>\n",
       "    <tr>\n",
       "      <th>4322</th>\n",
       "      <td>pink</td>\n",
       "      <td>[1.2337377, -0.46909922, -0.3673563, -0.13863601, 1.8599161, 0.22272739, -1.2119559, 0.054690212...</td>\n",
       "      <td>1</td>\n",
       "      <td>-1</td>\n",
       "      <td>0.064667</td>\n",
       "    </tr>\n",
       "    <tr>\n",
       "      <th>...</th>\n",
       "      <td>...</td>\n",
       "      <td>...</td>\n",
       "      <td>...</td>\n",
       "      <td>...</td>\n",
       "      <td>...</td>\n",
       "    </tr>\n",
       "    <tr>\n",
       "      <th>40024</th>\n",
       "      <td>nhaque</td>\n",
       "      <td>[-0.037673008, 0.17514025, 0.03704484, 0.13963115, -0.17413656, -0.08245814, -0.10898298, 0.0520...</td>\n",
       "      <td>1</td>\n",
       "      <td>-1</td>\n",
       "      <td>2.182020</td>\n",
       "    </tr>\n",
       "    <tr>\n",
       "      <th>39467</th>\n",
       "      <td>vitinhomito</td>\n",
       "      <td>[-0.021505695, 0.096253894, -0.0022764655, 0.087105386, -0.12680092, -0.082807496, -0.06263944, ...</td>\n",
       "      <td>1</td>\n",
       "      <td>-1</td>\n",
       "      <td>2.200795</td>\n",
       "    </tr>\n",
       "    <tr>\n",
       "      <th>36711</th>\n",
       "      <td>jotão</td>\n",
       "      <td>[-0.03741928, 0.1604902, 0.0053357678, 0.105259955, -0.16930123, -0.107252166, -0.07869707, 0.04...</td>\n",
       "      <td>1</td>\n",
       "      <td>-1</td>\n",
       "      <td>2.254195</td>\n",
       "    </tr>\n",
       "    <tr>\n",
       "      <th>39900</th>\n",
       "      <td>boltao</td>\n",
       "      <td>[-0.009817167, 0.13616337, -0.0034777739, 0.10908388, -0.15441588, -0.08677978, -0.07621147, 0.0...</td>\n",
       "      <td>1</td>\n",
       "      <td>-1</td>\n",
       "      <td>2.467461</td>\n",
       "    </tr>\n",
       "    <tr>\n",
       "      <th>45435</th>\n",
       "      <td>ganhaganha</td>\n",
       "      <td>[-0.0041281395, 0.17692982, -0.0109732635, 0.12320187, -0.17301711, -0.11922526, -0.09306171, 0....</td>\n",
       "      <td>1</td>\n",
       "      <td>-1</td>\n",
       "      <td>2.615129</td>\n",
       "    </tr>\n",
       "  </tbody>\n",
       "</table>\n",
       "<p>30880 rows × 5 columns</p>\n",
       "</div>"
      ],
      "text/plain": [
       "             words  \\\n",
       "4435        macedo   \n",
       "3478             ➡   \n",
       "4551          alfa   \n",
       "4514             ❌   \n",
       "4322          pink   \n",
       "...            ...   \n",
       "40024       nhaque   \n",
       "39467  vitinhomito   \n",
       "36711        jotão   \n",
       "39900       boltao   \n",
       "45435   ganhaganha   \n",
       "\n",
       "                                                                                                   vectors  \\\n",
       "4435   [-0.9511838, 0.17088418, 1.1510068, -0.32683194, 0.70824647, 0.39735875, -1.0071918, 0.8269708, ...   \n",
       "3478   [0.3078026, 1.1495196, -0.75883025, -2.341329, -0.922239, 0.43600276, 0.37474012, 0.4766863, 0.3...   \n",
       "4551   [0.75527865, -0.8635013, -1.1809188, -1.2716343, -0.05506493, -0.8157928, -0.8137018, -1.1012603...   \n",
       "4514   [0.83721507, 0.6425181, -0.68736196, -0.008306345, 0.0049287067, 1.2814461, -0.6801033, 1.003745...   \n",
       "4322   [1.2337377, -0.46909922, -0.3673563, -0.13863601, 1.8599161, 0.22272739, -1.2119559, 0.054690212...   \n",
       "...                                                                                                    ...   \n",
       "40024  [-0.037673008, 0.17514025, 0.03704484, 0.13963115, -0.17413656, -0.08245814, -0.10898298, 0.0520...   \n",
       "39467  [-0.021505695, 0.096253894, -0.0022764655, 0.087105386, -0.12680092, -0.082807496, -0.06263944, ...   \n",
       "36711  [-0.03741928, 0.1604902, 0.0053357678, 0.105259955, -0.16930123, -0.107252166, -0.07869707, 0.04...   \n",
       "39900  [-0.009817167, 0.13616337, -0.0034777739, 0.10908388, -0.15441588, -0.08677978, -0.07621147, 0.0...   \n",
       "45435  [-0.0041281395, 0.17692982, -0.0109732635, 0.12320187, -0.17301711, -0.11922526, -0.09306171, 0....   \n",
       "\n",
       "       cluster  cluster_value  closeness_score  \n",
       "4435         1             -1         0.061144  \n",
       "3478         1             -1         0.061352  \n",
       "4551         1             -1         0.061966  \n",
       "4514         1             -1         0.063043  \n",
       "4322         1             -1         0.064667  \n",
       "...        ...            ...              ...  \n",
       "40024        1             -1         2.182020  \n",
       "39467        1             -1         2.200795  \n",
       "36711        1             -1         2.254195  \n",
       "39900        1             -1         2.467461  \n",
       "45435        1             -1         2.615129  \n",
       "\n",
       "[30880 rows x 5 columns]"
      ]
     },
     "execution_count": 47,
     "metadata": {},
     "output_type": "execute_result"
    }
   ],
   "source": [
    "words[words[\"cluster_value\"]==-1].sort_values(\"closeness_score\")"
   ]
  },
  {
   "cell_type": "code",
   "execution_count": 57,
   "id": "a96c89ca-8adb-453b-9a3d-1d71740006c8",
   "metadata": {},
   "outputs": [],
   "source": [
    "positive = ['bom','limpo','caminhar','comunidade','ajudar',\"saude\",\"obter\",\"leve\",\"excelente\",\n",
    "            \"surpreender\", \"brilhante\", \"incrivel\", \"ganhar\", \"melhor\"]\n",
    "neutral = ['pode','vai','vai','tem','clima','em','deve',\"ele\",\"acontece\",\"mercearia\",\"pessoa\",'espaco','realmente',\"tempo\"]\n",
    "negative= ['patetico','estupido','louco','idiota','insano','triste','durao','irritante']\n",
    "for i in positive:\n",
    "    words.loc[words[\"words\"]==i,\"cluster_value\"]=-1\n",
    "    \n",
    "for i in neutral:\n",
    "    words.loc[words[\"words\"]==i,\"cluster_value\"]=0\n",
    "    \n",
    "for i in negative:\n",
    "    words.loc[words[\"words\"]==i,\"cluster_value\"]=1"
   ]
  },
  {
   "cell_type": "code",
   "execution_count": 58,
   "id": "43ec455c-53a5-4283-bd44-f46c5444fa38",
   "metadata": {},
   "outputs": [
    {
     "data": {
      "text/html": [
       "<div>\n",
       "<style scoped>\n",
       "    .dataframe tbody tr th:only-of-type {\n",
       "        vertical-align: middle;\n",
       "    }\n",
       "\n",
       "    .dataframe tbody tr th {\n",
       "        vertical-align: top;\n",
       "    }\n",
       "\n",
       "    .dataframe thead th {\n",
       "        text-align: right;\n",
       "    }\n",
       "</style>\n",
       "<table border=\"1\" class=\"dataframe\">\n",
       "  <thead>\n",
       "    <tr style=\"text-align: right;\">\n",
       "      <th></th>\n",
       "      <th>words</th>\n",
       "      <th>vectors</th>\n",
       "      <th>cluster</th>\n",
       "      <th>cluster_value</th>\n",
       "      <th>closeness_score</th>\n",
       "      <th>sentiments</th>\n",
       "    </tr>\n",
       "  </thead>\n",
       "  <tbody>\n",
       "    <tr>\n",
       "      <th>6148</th>\n",
       "      <td>insano</td>\n",
       "      <td>[0.98187673, 0.57192445, 0.4287594, 0.65314126, 0.26426032, 0.92124045, -0.5305455, 0.29282057, ...</td>\n",
       "      <td>1</td>\n",
       "      <td>1</td>\n",
       "      <td>0.127825</td>\n",
       "      <td>negative</td>\n",
       "    </tr>\n",
       "  </tbody>\n",
       "</table>\n",
       "</div>"
      ],
      "text/plain": [
       "       words  \\\n",
       "6148  insano   \n",
       "\n",
       "                                                                                                  vectors  \\\n",
       "6148  [0.98187673, 0.57192445, 0.4287594, 0.65314126, 0.26426032, 0.92124045, -0.5305455, 0.29282057, ...   \n",
       "\n",
       "      cluster  cluster_value  closeness_score sentiments  \n",
       "6148        1              1         0.127825   negative  "
      ]
     },
     "execution_count": 58,
     "metadata": {},
     "output_type": "execute_result"
    }
   ],
   "source": [
    "words[words[\"words\"]==\"insano\"]"
   ]
  },
  {
   "cell_type": "code",
   "execution_count": 59,
   "id": "061f6b20-8cc3-4033-b9e2-194541278bf0",
   "metadata": {},
   "outputs": [
    {
     "data": {
      "image/png": "[encoded data removed]",
      "text/plain": [
       "<Figure size 504x504 with 1 Axes>"
      ]
     },
     "metadata": {},
     "output_type": "display_data"
    },
    {
     "data": {
      "text/html": [
       "<div>\n",
       "<style scoped>\n",
       "    .dataframe tbody tr th:only-of-type {\n",
       "        vertical-align: middle;\n",
       "    }\n",
       "\n",
       "    .dataframe tbody tr th {\n",
       "        vertical-align: top;\n",
       "    }\n",
       "\n",
       "    .dataframe thead th {\n",
       "        text-align: right;\n",
       "    }\n",
       "</style>\n",
       "<table border=\"1\" class=\"dataframe\">\n",
       "  <thead>\n",
       "    <tr style=\"text-align: right;\">\n",
       "      <th></th>\n",
       "      <th>index</th>\n",
       "      <th>sentiments</th>\n",
       "    </tr>\n",
       "  </thead>\n",
       "  <tbody>\n",
       "    <tr>\n",
       "      <th>0</th>\n",
       "      <td>positive</td>\n",
       "      <td>30882</td>\n",
       "    </tr>\n",
       "    <tr>\n",
       "      <th>1</th>\n",
       "      <td>negative</td>\n",
       "      <td>10395</td>\n",
       "    </tr>\n",
       "    <tr>\n",
       "      <th>2</th>\n",
       "      <td>neutral</td>\n",
       "      <td>4366</td>\n",
       "    </tr>\n",
       "  </tbody>\n",
       "</table>\n",
       "</div>"
      ],
      "text/plain": [
       "      index  sentiments\n",
       "0  positive       30882\n",
       "1  negative       10395\n",
       "2   neutral        4366"
      ]
     },
     "execution_count": 59,
     "metadata": {},
     "output_type": "execute_result"
    }
   ],
   "source": [
    "# Plotting pie chart of Sentiment Distribution of words\n",
    "emotion = {0: \"neutral\",\n",
    "           -1: \"positive\",\n",
    "           1: \"negative\"}\n",
    "\n",
    "words[\"sentiments\"]=words[\"cluster_value\"].map(emotion)\n",
    "\n",
    "\n",
    "fig = plt.gcf()\n",
    "fig.set_size_inches(7,7)\n",
    "colors = [\"cyan\",\"pink\",\"yellow\"]\n",
    "df_pie=words[\"sentiments\"].value_counts().reset_index()\n",
    "plt.pie(df_pie[\"sentiments\"],labels=df_pie[\"index\"],radius=2,colors=colors,autopct=\"%1.1f%%\")\n",
    "plt.axis('equal')\n",
    "plt.title(\"Sentiment Distribution of Words \", fontsize=20)\n",
    "plt.show()\n",
    "df_pie"
   ]
  },
  {
   "cell_type": "code",
   "execution_count": 69,
   "id": "c2ddd852-5a0e-47d1-bae2-53bac93a4069",
   "metadata": {},
   "outputs": [],
   "source": [
    "# define a function to get the sentiment for the entire tweet\n",
    "def get_sentiments(x,sent_dict):\n",
    "    '''\n",
    "    x:         List\n",
    "               Input data: Row of a DataFrame\n",
    "    sent_dict: Dictionary\n",
    "               Input: Dictionary of Words: Sentiments\n",
    "    sentiment: String\n",
    "               Output: Sentiment of the whole sentence\n",
    "    \n",
    "    Function: Getting sentiments of the entire sentence by averaging out the sentiments of individual words\n",
    "    '''\n",
    "    total=0\n",
    "    count=0\n",
    "    avg = 0\n",
    "    test=x[\"content_clean\"]\n",
    "    for t in test:\n",
    "        if words_dict.get(t):\n",
    "            total+=int(sent_dict.get(t))\n",
    "        count+=1 \n",
    "    if total > 0:\n",
    "        avg=total/count\n",
    "    sentiment=1 if avg<-0.15 else -1 if avg >0.15 else 0\n",
    "    return sentiment"
   ]
  },
  {
   "cell_type": "code",
   "execution_count": 70,
   "id": "e1cf9690-d397-4ece-b17e-cc9f34fbac0a",
   "metadata": {},
   "outputs": [],
   "source": [
    "# creating a dictionary of the word and its cluster value\n",
    "words_dict = dict(zip(words.words, words.cluster_value))\n",
    "\n",
    "#words_dict"
   ]
  },
  {
   "cell_type": "code",
   "execution_count": 73,
   "id": "00ee7493-bb20-4224-a556-ce97e7245086",
   "metadata": {},
   "outputs": [],
   "source": [
    "# adding sentiment column\n",
    "df[\"sentiment\"]=df.apply(get_sentiments,args=(words_dict,),axis=1)"
   ]
  },
  {
   "cell_type": "code",
   "execution_count": 72,
   "id": "6a79363b-f4e5-44f2-85ee-5f2926d26203",
   "metadata": {},
   "outputs": [
    {
     "data": {
      "text/plain": [
       " 0    455660\n",
       "-1        73\n",
       "Name: sentiment, dtype: int64"
      ]
     },
     "execution_count": 72,
     "metadata": {},
     "output_type": "execute_result"
    }
   ],
   "source": [
    "df[\"sentiment\"].value_counts()"
   ]
  },
  {
   "cell_type": "code",
   "execution_count": 74,
   "id": "0a20d62b-1010-4624-b1ed-951d76a1059f",
   "metadata": {},
   "outputs": [
    {
     "data": {
      "text/html": [
       "<div>\n",
       "<style scoped>\n",
       "    .dataframe tbody tr th:only-of-type {\n",
       "        vertical-align: middle;\n",
       "    }\n",
       "\n",
       "    .dataframe tbody tr th {\n",
       "        vertical-align: top;\n",
       "    }\n",
       "\n",
       "    .dataframe thead th {\n",
       "        text-align: right;\n",
       "    }\n",
       "</style>\n",
       "<table border=\"1\" class=\"dataframe\">\n",
       "  <thead>\n",
       "    <tr style=\"text-align: right;\">\n",
       "      <th></th>\n",
       "      <th>date</th>\n",
       "      <th>content</th>\n",
       "      <th>location</th>\n",
       "      <th>username</th>\n",
       "      <th>retweet_count</th>\n",
       "      <th>lang</th>\n",
       "      <th>content_clean</th>\n",
       "      <th>month</th>\n",
       "      <th>year</th>\n",
       "      <th>sentiment</th>\n",
       "    </tr>\n",
       "  </thead>\n",
       "  <tbody>\n",
       "    <tr>\n",
       "      <th>0</th>\n",
       "      <td>2018-03-25 23:59:56</td>\n",
       "      <td>LBE - Liga Brasileira de Epilepsia  - A SALIVA ELIMINADA DURANTE UMA CONVULSÃO PODE TRANSMITIR E...</td>\n",
       "      <td>NaN</td>\n",
       "      <td>lesbraga</td>\n",
       "      <td>0</td>\n",
       "      <td>pt</td>\n",
       "      <td>lbe liga brasileira epilepsia saliva eliminada durante convulsão pode transmitir epilepsia mito ...</td>\n",
       "      <td>3</td>\n",
       "      <td>2018</td>\n",
       "      <td>0</td>\n",
       "    </tr>\n",
       "    <tr>\n",
       "      <th>1</th>\n",
       "      <td>2018-03-25 23:59:52</td>\n",
       "      <td>Gostei de um vídeo @YouTube https://t.co/B0lmQnr5jz E FREEZA JUNTOS, 17 O MAIOR MITO DO TORNEIO!...</td>\n",
       "      <td>Manaus, Amazonas</td>\n",
       "      <td>carloseduardofx</td>\n",
       "      <td>0</td>\n",
       "      <td>pt</td>\n",
       "      <td>gostei vídeo freeza juntos maior mito torneio react ep dragon ball super</td>\n",
       "      <td>3</td>\n",
       "      <td>2018</td>\n",
       "      <td>0</td>\n",
       "    </tr>\n",
       "    <tr>\n",
       "      <th>2</th>\n",
       "      <td>2018-03-25 23:59:19</td>\n",
       "      <td>\"O mito cria o lixo copia\" @SuarezAdryan https://t.co/yrdEuo37jC</td>\n",
       "      <td>en la panaderia</td>\n",
       "      <td>DanieIaTorress</td>\n",
       "      <td>0</td>\n",
       "      <td>pt</td>\n",
       "      <td>mito cria lixo copia</td>\n",
       "      <td>3</td>\n",
       "      <td>2018</td>\n",
       "      <td>0</td>\n",
       "    </tr>\n",
       "    <tr>\n",
       "      <th>3</th>\n",
       "      <td>2018-03-25 23:59:14</td>\n",
       "      <td>@espora13 @atletico Fábio Mito Santos</td>\n",
       "      <td>Joaquim Felício, Brasil</td>\n",
       "      <td>w_martins1207</td>\n",
       "      <td>0</td>\n",
       "      <td>pt</td>\n",
       "      <td>fábio mito santos</td>\n",
       "      <td>3</td>\n",
       "      <td>2018</td>\n",
       "      <td>0</td>\n",
       "    </tr>\n",
       "    <tr>\n",
       "      <th>4</th>\n",
       "      <td>2018-03-25 23:58:24</td>\n",
       "      <td>@RevistaISTOE Foi o suspiro da morte, o HC foi aceito para ser examinado, mas será julgado impro...</td>\n",
       "      <td>São Paulo - Brasil</td>\n",
       "      <td>DrJorgeSouza</td>\n",
       "      <td>0</td>\n",
       "      <td>pt</td>\n",
       "      <td>suspiro morte hc aceito ser examinado julgado improcedente aceitou hc exame não necessariamente ...</td>\n",
       "      <td>3</td>\n",
       "      <td>2018</td>\n",
       "      <td>0</td>\n",
       "    </tr>\n",
       "  </tbody>\n",
       "</table>\n",
       "</div>"
      ],
      "text/plain": [
       "                 date  \\\n",
       "0 2018-03-25 23:59:56   \n",
       "1 2018-03-25 23:59:52   \n",
       "2 2018-03-25 23:59:19   \n",
       "3 2018-03-25 23:59:14   \n",
       "4 2018-03-25 23:58:24   \n",
       "\n",
       "                                                                           content  \\\n",
       "0  LBE - Liga Brasileira de Epilepsia  - A SALIVA ELIMINADA DURANTE UMA CONVULS...   \n",
       "1  Gostei de um vídeo @YouTube https://t.co/B0lmQnr5jz E FREEZA JUNTOS, 17 O MA...   \n",
       "2                 \"O mito cria o lixo copia\" @SuarezAdryan https://t.co/yrdEuo37jC   \n",
       "3                                            @espora13 @atletico Fábio Mito Santos   \n",
       "4  @RevistaISTOE Foi o suspiro da morte, o HC foi aceito para ser examinado, ma...   \n",
       "\n",
       "                  location         username  retweet_count lang  \\\n",
       "0                      NaN         lesbraga              0   pt   \n",
       "1         Manaus, Amazonas  carloseduardofx              0   pt   \n",
       "2         en la panaderia    DanieIaTorress              0   pt   \n",
       "3  Joaquim Felício, Brasil    w_martins1207              0   pt   \n",
       "4       São Paulo - Brasil     DrJorgeSouza              0   pt   \n",
       "\n",
       "                                                                     content_clean  \\\n",
       "0  lbe liga brasileira epilepsia saliva eliminada durante convulsão pode transm...   \n",
       "1         gostei vídeo freeza juntos maior mito torneio react ep dragon ball super   \n",
       "2                                                             mito cria lixo copia   \n",
       "3                                                                fábio mito santos   \n",
       "4  suspiro morte hc aceito ser examinado julgado improcedente aceitou hc exame ...   \n",
       "\n",
       "   month  year  sentiment  \n",
       "0      3  2018          0  \n",
       "1      3  2018          0  \n",
       "2      3  2018          0  \n",
       "3      3  2018          0  \n",
       "4      3  2018          0  "
      ]
     },
     "execution_count": 74,
     "metadata": {},
     "output_type": "execute_result"
    }
   ],
   "source": [
    "df.head()"
   ]
  }
 ],
 "metadata": {
  "kernelspec": {
   "display_name": "Python 3 (ipykernel)",
   "language": "python",
   "name": "python3"
  },
  "language_info": {
   "codemirror_mode": {
    "name": "ipython",
    "version": 3
   },
   "file_extension": ".py",
   "mimetype": "text/x-python",
   "name": "python",
   "nbconvert_exporter": "python",
   "pygments_lexer": "ipython3",
   "version": "3.8.12"
  },
  "toc-autonumbering": false
 },
 "nbformat": 4,
 "nbformat_minor": 5
}
