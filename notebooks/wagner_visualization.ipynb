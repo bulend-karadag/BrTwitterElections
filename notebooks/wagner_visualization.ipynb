{
 "cells": [
  {
   "cell_type": "code",
   "execution_count": 14,
   "id": "55c7eab0-a759-4c55-95b6-b5e916a67c16",
   "metadata": {},
   "outputs": [],
   "source": [
    "import pandas as pd\n",
    "\n",
    "from sklearn.compose import ColumnTransformer, make_column_transformer, make_column_selector\n",
    "from sklearn.impute import SimpleImputer\n",
    "from sklearn.linear_model import Ridge\n",
    "from sklearn.model_selection import cross_val_score, GridSearchCV\n",
    "from sklearn.pipeline import Pipeline, FeatureUnion, make_pipeline, make_union\n",
    "from sklearn.preprocessing import StandardScaler, OneHotEncoder, FunctionTransformer"
   ]
  },
  {
   "cell_type": "code",
   "execution_count": 3,
   "id": "5932b286-5ac1-4b18-9dc9-7bcc210a7362",
   "metadata": {},
   "outputs": [
    {
     "name": "stdout",
     "output_type": "stream",
     "text": [
      " aecio.csv   bolsonaro\t'Fernando Haddad'   jair\t      mito\n",
      " biroliro    dilma.csv\t haddad\t\t   'Jair Bolsonaro'\n"
     ]
    }
   ],
   "source": [
    "!ls ../raw_data/"
   ]
  },
  {
   "cell_type": "code",
   "execution_count": 21,
   "id": "ab206297-63d9-4fa2-b539-719ddc15311e",
   "metadata": {},
   "outputs": [],
   "source": [
    "# df = pd.read_csv('../raw_data/biroliro/biroliro_total_tweets.csv')\n",
    "df = pd.read_csv('../raw_data/mito/mito_total_tweets.csv')"
   ]
  },
  {
   "cell_type": "code",
   "execution_count": 22,
   "id": "540d266a-93f3-4623-9235-125f4e188da2",
   "metadata": {},
   "outputs": [
    {
     "data": {
      "text/plain": [
       "(559591, 21)"
      ]
     },
     "execution_count": 22,
     "metadata": {},
     "output_type": "execute_result"
    }
   ],
   "source": [
    "#size\n",
    "df.shape"
   ]
  },
  {
   "cell_type": "code",
   "execution_count": 23,
   "id": "718a75f0-bdd5-40af-9c42-5278388d2f32",
   "metadata": {
    "tags": []
   },
   "outputs": [
    {
     "data": {
      "text/plain": [
       "146246"
      ]
     },
     "execution_count": 23,
     "metadata": {},
     "output_type": "execute_result"
    }
   ],
   "source": [
    "df['location'].isna().sum()"
   ]
  },
  {
   "cell_type": "code",
   "execution_count": 24,
   "id": "79dd2ba2-a32c-4b80-b377-5775ab17efad",
   "metadata": {},
   "outputs": [
    {
     "data": {
      "text/plain": [
       "pt     544813\n",
       "es       5697\n",
       "it       5004\n",
       "tl       3055\n",
       "fr        400\n",
       "en        147\n",
       "in         70\n",
       "de         50\n",
       "ht         49\n",
       "eu         47\n",
       "vi         34\n",
       "ca         32\n",
       "et         31\n",
       "tr         29\n",
       "lv         28\n",
       "lt         25\n",
       "und        21\n",
       "is          9\n",
       "da          9\n",
       "hu          9\n",
       "cs          7\n",
       "pl          6\n",
       "nl          6\n",
       "no          4\n",
       "ro          3\n",
       "cy          2\n",
       "sl          2\n",
       "sv          1\n",
       "hi          1\n",
       "Name: lang, dtype: int64"
      ]
     },
     "execution_count": 24,
     "metadata": {},
     "output_type": "execute_result"
    }
   ],
   "source": [
    "#languange distibuition \n",
    "df['lang'].value_counts()"
   ]
  },
  {
   "cell_type": "code",
   "execution_count": 25,
   "id": "0072b191-1c69-4981-8175-34570523aabb",
   "metadata": {},
   "outputs": [
    {
     "name": "stdout",
     "output_type": "stream",
     "text": [
      "<class 'pandas.core.frame.DataFrame'>\n",
      "RangeIndex: 559591 entries, 0 to 559590\n",
      "Data columns (total 21 columns):\n",
      " #   Column           Non-Null Count   Dtype \n",
      "---  ------           --------------   ----- \n",
      " 0   url              559591 non-null  object\n",
      " 1   date             559591 non-null  object\n",
      " 2   content          559591 non-null  object\n",
      " 3   id               559591 non-null  int64 \n",
      " 4   reply_count      559591 non-null  int64 \n",
      " 5   retweet_count    559591 non-null  int64 \n",
      " 6   like_count       559591 non-null  int64 \n",
      " 7   quote_count      559591 non-null  int64 \n",
      " 8   lang             559591 non-null  object\n",
      " 9   username         559591 non-null  object\n",
      " 10  displayname      559386 non-null  object\n",
      " 11  description      450439 non-null  object\n",
      " 12  verified         559591 non-null  bool  \n",
      " 13  created          559591 non-null  object\n",
      " 14  followers_count  559591 non-null  int64 \n",
      " 15  friends_count    559591 non-null  int64 \n",
      " 16  location         413345 non-null  object\n",
      " 17  protected        559591 non-null  bool  \n",
      " 18  profile_img      559409 non-null  object\n",
      " 19  query            559591 non-null  object\n",
      " 20  crawled_date     559591 non-null  object\n",
      "dtypes: bool(2), int64(7), object(12)\n",
      "memory usage: 82.2+ MB\n"
     ]
    }
   ],
   "source": [
    "df.info()"
   ]
  },
  {
   "cell_type": "markdown",
   "id": "258f7a14-8afc-4312-a5a1-f6bd8f288944",
   "metadata": {},
   "source": [
    "### Checking most common tweet size"
   ]
  },
  {
   "cell_type": "code",
   "execution_count": 27,
   "id": "b123a9ad-7c7d-4255-aaf0-ea3d79011c8b",
   "metadata": {},
   "outputs": [],
   "source": [
    "df['content_length'] = df.content.apply(len)"
   ]
  },
  {
   "cell_type": "code",
   "execution_count": 29,
   "id": "0aab2910-3844-451d-b46c-1502d27801f3",
   "metadata": {},
   "outputs": [
    {
     "data": {
      "text/plain": [
       "<AxesSubplot:>"
      ]
     },
     "execution_count": 29,
     "metadata": {},
     "output_type": "execute_result"
    },
    {
     "data": {
      "image/png": "[encoded data removed]",
      "text/plain": [
       "<Figure size 432x288 with 1 Axes>"
      ]
     },
     "metadata": {
      "needs_background": "light"
     },
     "output_type": "display_data"
    }
   ],
   "source": [
    "df['content_length'].hist(bins=50)"
   ]
  },
  {
   "cell_type": "markdown",
   "id": "2cf799d5-eda7-4a90-94ae-507c94c81753",
   "metadata": {},
   "source": [
    "#### removing tweets with more than 200 characters"
   ]
  },
  {
   "cell_type": "code",
   "execution_count": 30,
   "id": "4ada2fb6-a2e9-4254-ba88-ca462dac8eb6",
   "metadata": {},
   "outputs": [],
   "source": [
    "\n",
    "df = df.drop(df[df.content_length > 200].index)"
   ]
  },
  {
   "cell_type": "code",
   "execution_count": 31,
   "id": "209e483a-e244-403e-938c-9c850be1e5b6",
   "metadata": {},
   "outputs": [
    {
     "data": {
      "text/plain": [
       "(484038, 22)"
      ]
     },
     "execution_count": 31,
     "metadata": {},
     "output_type": "execute_result"
    }
   ],
   "source": [
    "df.shape"
   ]
  },
  {
   "cell_type": "code",
   "execution_count": 32,
   "id": "dbe6ee95-f8ac-4fc3-bd63-27e1f855f0eb",
   "metadata": {},
   "outputs": [
    {
     "data": {
      "text/plain": [
       "<AxesSubplot:>"
      ]
     },
     "execution_count": 32,
     "metadata": {},
     "output_type": "execute_result"
    },
    {
     "data": {
      "image/png": "[encoded data removed]",
      "text/plain": [
       "<Figure size 432x288 with 1 Axes>"
      ]
     },
     "metadata": {
      "needs_background": "light"
     },
     "output_type": "display_data"
    }
   ],
   "source": [
    "df['content_length'].hist(bins=50)"
   ]
  },
  {
   "cell_type": "code",
   "execution_count": 48,
   "id": "8913ae00-10e6-442d-bc74-72d02305b98b",
   "metadata": {},
   "outputs": [],
   "source": [
    "from sklearn.feature_extraction.text import CountVectorizer\n",
    "import nltk\n",
    "from nltk.corpus import stopwords\n",
    "import matplotlib.pyplot as plt\n"
   ]
  },
  {
   "cell_type": "code",
   "execution_count": null,
   "id": "d0948137-06ce-4a2d-9e4a-724d061920da",
   "metadata": {},
   "outputs": [],
   "source": [
    "nltk.download('stopwords')"
   ]
  },
  {
   "cell_type": "code",
   "execution_count": 49,
   "id": "ce627311-2265-4c5a-a94c-24f9f54b77e0",
   "metadata": {},
   "outputs": [
    {
     "data": {
      "text/plain": [
       "Text(0.5, 1.0, 'Most Frequently Occuring Words - Top 30')"
      ]
     },
     "execution_count": 49,
     "metadata": {},
     "output_type": "execute_result"
    },
    {
     "data": {
      "image/png": "[encoded data removed]",
      "text/plain": [
       "<Figure size 1080x504 with 1 Axes>"
      ]
     },
     "metadata": {
      "needs_background": "light"
     },
     "output_type": "display_data"
    }
   ],
   "source": [
    "stop_words = stopwords.words('portuguese')\n",
    "cv = CountVectorizer(stop_words = stop_words)\n",
    "words = cv.fit_transform(df.content)\n",
    "\n",
    "sum_words = words.sum(axis=0)\n",
    "\n",
    "words_freq = [(word, sum_words[0, i]) for word, i in cv.vocabulary_.items()]\n",
    "words_freq = sorted(words_freq, key = lambda x: x[1], reverse = True)\n",
    "\n",
    "frequency = pd.DataFrame(words_freq, columns=['word', 'freq'])\n",
    "\n",
    "frequency.head(30).plot(x='word', y='freq', kind='bar', figsize=(15, 7), color = 'blue')\n",
    "plt.title(\"Most Frequently Occuring Words - Top 30\")"
   ]
  },
  {
   "cell_type": "code",
   "execution_count": 1,
   "id": "2b9ee4f2-e856-4262-a6eb-7a5bf2725e22",
   "metadata": {},
   "outputs": [
    {
     "ename": "NameError",
     "evalue": "name 'words_freq' is not defined",
     "output_type": "error",
     "traceback": [
      "\u001b[0;31m---------------------------------------------------------------------------\u001b[0m",
      "\u001b[0;31mNameError\u001b[0m                                 Traceback (most recent call last)",
      "\u001b[0;32m/tmp/ipykernel_125041/1736820191.py\u001b[0m in \u001b[0;36m<module>\u001b[0;34m\u001b[0m\n\u001b[1;32m      1\u001b[0m \u001b[0;32mfrom\u001b[0m \u001b[0mwordcloud\u001b[0m \u001b[0;32mimport\u001b[0m \u001b[0mWordCloud\u001b[0m\u001b[0;34m,\u001b[0m \u001b[0mSTOPWORDS\u001b[0m\u001b[0;34m,\u001b[0m \u001b[0mImageColorGenerator\u001b[0m\u001b[0;34m\u001b[0m\u001b[0;34m\u001b[0m\u001b[0m\n\u001b[0;32m----> 2\u001b[0;31m \u001b[0mwordcloud\u001b[0m \u001b[0;34m=\u001b[0m \u001b[0mWordCloud\u001b[0m\u001b[0;34m(\u001b[0m\u001b[0mbackground_color\u001b[0m \u001b[0;34m=\u001b[0m \u001b[0;34m'white'\u001b[0m\u001b[0;34m,\u001b[0m \u001b[0mwidth\u001b[0m \u001b[0;34m=\u001b[0m \u001b[0;36m1000\u001b[0m\u001b[0;34m,\u001b[0m \u001b[0mheight\u001b[0m \u001b[0;34m=\u001b[0m \u001b[0;36m1000\u001b[0m\u001b[0;34m)\u001b[0m\u001b[0;34m.\u001b[0m\u001b[0mgenerate_from_frequencies\u001b[0m\u001b[0;34m(\u001b[0m\u001b[0mdict\u001b[0m\u001b[0;34m(\u001b[0m\u001b[0mwords_freq\u001b[0m\u001b[0;34m)\u001b[0m\u001b[0;34m)\u001b[0m\u001b[0;34m\u001b[0m\u001b[0;34m\u001b[0m\u001b[0m\n\u001b[0m\u001b[1;32m      3\u001b[0m \u001b[0;34m\u001b[0m\u001b[0m\n\u001b[1;32m      4\u001b[0m \u001b[0mplt\u001b[0m\u001b[0;34m.\u001b[0m\u001b[0mfigure\u001b[0m\u001b[0;34m(\u001b[0m\u001b[0mfigsize\u001b[0m\u001b[0;34m=\u001b[0m\u001b[0;34m(\u001b[0m\u001b[0;36m10\u001b[0m\u001b[0;34m,\u001b[0m\u001b[0;36m8\u001b[0m\u001b[0;34m)\u001b[0m\u001b[0;34m)\u001b[0m\u001b[0;34m\u001b[0m\u001b[0;34m\u001b[0m\u001b[0m\n\u001b[1;32m      5\u001b[0m \u001b[0mplt\u001b[0m\u001b[0;34m.\u001b[0m\u001b[0mimshow\u001b[0m\u001b[0;34m(\u001b[0m\u001b[0mwordcloud\u001b[0m\u001b[0;34m)\u001b[0m\u001b[0;34m\u001b[0m\u001b[0;34m\u001b[0m\u001b[0m\n",
      "\u001b[0;31mNameError\u001b[0m: name 'words_freq' is not defined"
     ]
    }
   ],
   "source": [
    "\n",
    "wordcloud = WordCloud(background_color = 'white', width = 1000, height = 1000).generate_from_frequencies(dict(words_freq))\n",
    "\n",
    "plt.figure(figsize=(10,8))\n",
    "plt.imshow(wordcloud)\n",
    "plt.title(\"WordCloud - Vocabulary from Reviews\", fontsize = 22)"
   ]
  },
  {
   "cell_type": "code",
   "execution_count": 53,
   "id": "4f01f061-1e41-44fe-b2ff-9b6c31ef2f97",
   "metadata": {},
   "outputs": [
    {
     "data": {
      "text/plain": [
       "(484038, 22)"
      ]
     },
     "execution_count": 53,
     "metadata": {},
     "output_type": "execute_result"
    }
   ],
   "source": [
    "df.shape"
   ]
  },
  {
   "cell_type": "code",
   "execution_count": 68,
   "id": "8868f0f3-2ca6-4874-9fa9-d945430df920",
   "metadata": {},
   "outputs": [
    {
     "data": {
      "text/plain": [
       "['#asdasdasd', '#asdasd', '#asdasdasd', '#asdasdasd', '#asdasdas']"
      ]
     },
     "execution_count": 68,
     "metadata": {},
     "output_type": "execute_result"
    }
   ],
   "source": [
    "import re\n",
    "\n",
    "regex = r\"#[^ !@#$%^&*(),.?\\\":{}|<>]*\\b\"\n",
    "\n",
    "test_str = (\"#asdasdasd asdasd #asdasd \\n\"\n",
    "\t\"asdasd#asdasdasd #asdasdasd #asdasdas\\n\")\n",
    "\n",
    "p = re.compile(regex)\n",
    "p.findall(test_str)"
   ]
  },
  {
   "cell_type": "code",
   "execution_count": 66,
   "id": "aad7c9b3-9171-4f8c-8993-1c6d2a1be7b5",
   "metadata": {},
   "outputs": [],
   "source": [
    "p.findall(test_str)"
   ]
  },
  {
   "cell_type": "code",
   "execution_count": 67,
   "id": "fff26e12-58ec-4b45-90d6-97a106072c82",
   "metadata": {},
   "outputs": [
    {
     "data": {
      "text/plain": [
       "['#asdasdasd', '#asdasd', '#asdasdasd', '#asdasdasd', '#asdasdas']"
      ]
     },
     "execution_count": 67,
     "metadata": {},
     "output_type": "execute_result"
    }
   ],
   "source": []
  },
  {
   "cell_type": "code",
   "execution_count": null,
   "id": "d1b63951-69ff-420d-ade7-aa8d65e0418f",
   "metadata": {},
   "outputs": [],
   "source": []
  }
 ],
 "metadata": {
  "kernelspec": {
   "display_name": "Python 3 (ipykernel)",
   "language": "python",
   "name": "python3"
  },
  "language_info": {
   "codemirror_mode": {
    "name": "ipython",
    "version": 3
   },
   "file_extension": ".py",
   "mimetype": "text/x-python",
   "name": "python",
   "nbconvert_exporter": "python",
   "pygments_lexer": "ipython3",
   "version": "3.8.12"
  },
  "toc": {
   "base_numbering": 1,
   "nav_menu": {},
   "number_sections": true,
   "sideBar": true,
   "skip_h1_title": false,
   "title_cell": "Table of Contents",
   "title_sidebar": "Contents",
   "toc_cell": false,
   "toc_position": {},
   "toc_section_display": true,
   "toc_window_display": false
  }
 },
 "nbformat": 4,
 "nbformat_minor": 5
}
