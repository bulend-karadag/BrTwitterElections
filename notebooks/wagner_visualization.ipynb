{
 "cells": [
  {
   "cell_type": "code",
   "execution_count": 1,
   "id": "55c7eab0-a759-4c55-95b6-b5e916a67c16",
   "metadata": {},
   "outputs": [],
   "source": [
    "import pandas as pd"
   ]
  },
  {
   "cell_type": "code",
   "execution_count": 6,
   "id": "5932b286-5ac1-4b18-9dc9-7bcc210a7362",
   "metadata": {},
   "outputs": [
    {
     "name": "stdout",
     "output_type": "stream",
     "text": [
      "aecio.csv  dilma.csv\n"
     ]
    }
   ],
   "source": [
    "!ls ../raw_data"
   ]
  },
  {
   "cell_type": "code",
   "execution_count": 61,
   "id": "ab206297-63d9-4fa2-b539-719ddc15311e",
   "metadata": {},
   "outputs": [
    {
     "ename": "ParserError",
     "evalue": "Error tokenizing data. C error: Expected 19 fields in line 12720, saw 22\n",
     "output_type": "error",
     "traceback": [
      "\u001b[0;31m---------------------------------------------------------------------------\u001b[0m",
      "\u001b[0;31mParserError\u001b[0m                               Traceback (most recent call last)",
      "Input \u001b[0;32mIn [62]\u001b[0m, in \u001b[0;36m<cell line: 1>\u001b[0;34m()\u001b[0m\n\u001b[0;32m----> 1\u001b[0m df \u001b[38;5;241m=\u001b[39m \u001b[43mpd\u001b[49m\u001b[38;5;241;43m.\u001b[39;49m\u001b[43mread_csv\u001b[49m\u001b[43m(\u001b[49m\u001b[38;5;124;43m'\u001b[39;49m\u001b[38;5;124;43m../raw_data/dilma.csv\u001b[39;49m\u001b[38;5;124;43m'\u001b[39;49m\u001b[43m,\u001b[49m\u001b[43m \u001b[49m\u001b[43mescapechar\u001b[49m\u001b[38;5;241;43m=\u001b[39;49m\u001b[38;5;124;43m'\u001b[39;49m\u001b[38;5;130;43;01m\\\\\u001b[39;49;00m\u001b[38;5;124;43m'\u001b[39;49m\u001b[43m)\u001b[49m\n",
      "File \u001b[0;32m~/.pyenv/versions/3.8.12/envs/twitterelectionbr/lib/python3.8/site-packages/pandas/util/_decorators.py:311\u001b[0m, in \u001b[0;36mdeprecate_nonkeyword_arguments.<locals>.decorate.<locals>.wrapper\u001b[0;34m(*args, **kwargs)\u001b[0m\n\u001b[1;32m    305\u001b[0m \u001b[38;5;28;01mif\u001b[39;00m \u001b[38;5;28mlen\u001b[39m(args) \u001b[38;5;241m>\u001b[39m num_allow_args:\n\u001b[1;32m    306\u001b[0m     warnings\u001b[38;5;241m.\u001b[39mwarn(\n\u001b[1;32m    307\u001b[0m         msg\u001b[38;5;241m.\u001b[39mformat(arguments\u001b[38;5;241m=\u001b[39marguments),\n\u001b[1;32m    308\u001b[0m         \u001b[38;5;167;01mFutureWarning\u001b[39;00m,\n\u001b[1;32m    309\u001b[0m         stacklevel\u001b[38;5;241m=\u001b[39mstacklevel,\n\u001b[1;32m    310\u001b[0m     )\n\u001b[0;32m--> 311\u001b[0m \u001b[38;5;28;01mreturn\u001b[39;00m \u001b[43mfunc\u001b[49m\u001b[43m(\u001b[49m\u001b[38;5;241;43m*\u001b[39;49m\u001b[43margs\u001b[49m\u001b[43m,\u001b[49m\u001b[43m \u001b[49m\u001b[38;5;241;43m*\u001b[39;49m\u001b[38;5;241;43m*\u001b[39;49m\u001b[43mkwargs\u001b[49m\u001b[43m)\u001b[49m\n",
      "File \u001b[0;32m~/.pyenv/versions/3.8.12/envs/twitterelectionbr/lib/python3.8/site-packages/pandas/io/parsers/readers.py:680\u001b[0m, in \u001b[0;36mread_csv\u001b[0;34m(filepath_or_buffer, sep, delimiter, header, names, index_col, usecols, squeeze, prefix, mangle_dupe_cols, dtype, engine, converters, true_values, false_values, skipinitialspace, skiprows, skipfooter, nrows, na_values, keep_default_na, na_filter, verbose, skip_blank_lines, parse_dates, infer_datetime_format, keep_date_col, date_parser, dayfirst, cache_dates, iterator, chunksize, compression, thousands, decimal, lineterminator, quotechar, quoting, doublequote, escapechar, comment, encoding, encoding_errors, dialect, error_bad_lines, warn_bad_lines, on_bad_lines, delim_whitespace, low_memory, memory_map, float_precision, storage_options)\u001b[0m\n\u001b[1;32m    665\u001b[0m kwds_defaults \u001b[38;5;241m=\u001b[39m _refine_defaults_read(\n\u001b[1;32m    666\u001b[0m     dialect,\n\u001b[1;32m    667\u001b[0m     delimiter,\n\u001b[0;32m   (...)\u001b[0m\n\u001b[1;32m    676\u001b[0m     defaults\u001b[38;5;241m=\u001b[39m{\u001b[38;5;124m\"\u001b[39m\u001b[38;5;124mdelimiter\u001b[39m\u001b[38;5;124m\"\u001b[39m: \u001b[38;5;124m\"\u001b[39m\u001b[38;5;124m,\u001b[39m\u001b[38;5;124m\"\u001b[39m},\n\u001b[1;32m    677\u001b[0m )\n\u001b[1;32m    678\u001b[0m kwds\u001b[38;5;241m.\u001b[39mupdate(kwds_defaults)\n\u001b[0;32m--> 680\u001b[0m \u001b[38;5;28;01mreturn\u001b[39;00m \u001b[43m_read\u001b[49m\u001b[43m(\u001b[49m\u001b[43mfilepath_or_buffer\u001b[49m\u001b[43m,\u001b[49m\u001b[43m \u001b[49m\u001b[43mkwds\u001b[49m\u001b[43m)\u001b[49m\n",
      "File \u001b[0;32m~/.pyenv/versions/3.8.12/envs/twitterelectionbr/lib/python3.8/site-packages/pandas/io/parsers/readers.py:581\u001b[0m, in \u001b[0;36m_read\u001b[0;34m(filepath_or_buffer, kwds)\u001b[0m\n\u001b[1;32m    578\u001b[0m     \u001b[38;5;28;01mreturn\u001b[39;00m parser\n\u001b[1;32m    580\u001b[0m \u001b[38;5;28;01mwith\u001b[39;00m parser:\n\u001b[0;32m--> 581\u001b[0m     \u001b[38;5;28;01mreturn\u001b[39;00m \u001b[43mparser\u001b[49m\u001b[38;5;241;43m.\u001b[39;49m\u001b[43mread\u001b[49m\u001b[43m(\u001b[49m\u001b[43mnrows\u001b[49m\u001b[43m)\u001b[49m\n",
      "File \u001b[0;32m~/.pyenv/versions/3.8.12/envs/twitterelectionbr/lib/python3.8/site-packages/pandas/io/parsers/readers.py:1254\u001b[0m, in \u001b[0;36mTextFileReader.read\u001b[0;34m(self, nrows)\u001b[0m\n\u001b[1;32m   1252\u001b[0m nrows \u001b[38;5;241m=\u001b[39m validate_integer(\u001b[38;5;124m\"\u001b[39m\u001b[38;5;124mnrows\u001b[39m\u001b[38;5;124m\"\u001b[39m, nrows)\n\u001b[1;32m   1253\u001b[0m \u001b[38;5;28;01mtry\u001b[39;00m:\n\u001b[0;32m-> 1254\u001b[0m     index, columns, col_dict \u001b[38;5;241m=\u001b[39m \u001b[38;5;28;43mself\u001b[39;49m\u001b[38;5;241;43m.\u001b[39;49m\u001b[43m_engine\u001b[49m\u001b[38;5;241;43m.\u001b[39;49m\u001b[43mread\u001b[49m\u001b[43m(\u001b[49m\u001b[43mnrows\u001b[49m\u001b[43m)\u001b[49m\n\u001b[1;32m   1255\u001b[0m \u001b[38;5;28;01mexcept\u001b[39;00m \u001b[38;5;167;01mException\u001b[39;00m:\n\u001b[1;32m   1256\u001b[0m     \u001b[38;5;28mself\u001b[39m\u001b[38;5;241m.\u001b[39mclose()\n",
      "File \u001b[0;32m~/.pyenv/versions/3.8.12/envs/twitterelectionbr/lib/python3.8/site-packages/pandas/io/parsers/c_parser_wrapper.py:225\u001b[0m, in \u001b[0;36mCParserWrapper.read\u001b[0;34m(self, nrows)\u001b[0m\n\u001b[1;32m    223\u001b[0m \u001b[38;5;28;01mtry\u001b[39;00m:\n\u001b[1;32m    224\u001b[0m     \u001b[38;5;28;01mif\u001b[39;00m \u001b[38;5;28mself\u001b[39m\u001b[38;5;241m.\u001b[39mlow_memory:\n\u001b[0;32m--> 225\u001b[0m         chunks \u001b[38;5;241m=\u001b[39m \u001b[38;5;28;43mself\u001b[39;49m\u001b[38;5;241;43m.\u001b[39;49m\u001b[43m_reader\u001b[49m\u001b[38;5;241;43m.\u001b[39;49m\u001b[43mread_low_memory\u001b[49m\u001b[43m(\u001b[49m\u001b[43mnrows\u001b[49m\u001b[43m)\u001b[49m\n\u001b[1;32m    226\u001b[0m         \u001b[38;5;66;03m# destructive to chunks\u001b[39;00m\n\u001b[1;32m    227\u001b[0m         data \u001b[38;5;241m=\u001b[39m _concatenate_chunks(chunks)\n",
      "File \u001b[0;32m~/.pyenv/versions/3.8.12/envs/twitterelectionbr/lib/python3.8/site-packages/pandas/_libs/parsers.pyx:805\u001b[0m, in \u001b[0;36mpandas._libs.parsers.TextReader.read_low_memory\u001b[0;34m()\u001b[0m\n",
      "File \u001b[0;32m~/.pyenv/versions/3.8.12/envs/twitterelectionbr/lib/python3.8/site-packages/pandas/_libs/parsers.pyx:861\u001b[0m, in \u001b[0;36mpandas._libs.parsers.TextReader._read_rows\u001b[0;34m()\u001b[0m\n",
      "File \u001b[0;32m~/.pyenv/versions/3.8.12/envs/twitterelectionbr/lib/python3.8/site-packages/pandas/_libs/parsers.pyx:847\u001b[0m, in \u001b[0;36mpandas._libs.parsers.TextReader._tokenize_rows\u001b[0;34m()\u001b[0m\n",
      "File \u001b[0;32m~/.pyenv/versions/3.8.12/envs/twitterelectionbr/lib/python3.8/site-packages/pandas/_libs/parsers.pyx:1960\u001b[0m, in \u001b[0;36mpandas._libs.parsers.raise_parser_error\u001b[0;34m()\u001b[0m\n",
      "\u001b[0;31mParserError\u001b[0m: Error tokenizing data. C error: Expected 19 fields in line 12720, saw 22\n"
     ]
    }
   ],
   "source": [
    "df = pd.read_csv('../raw_data/dilma.csv', sep=',', escapechar='\\\\')"
   ]
  },
  {
   "cell_type": "code",
   "execution_count": 58,
   "id": "718a75f0-bdd5-40af-9c42-5278388d2f32",
   "metadata": {
    "tags": []
   },
   "outputs": [
    {
     "data": {
      "text/plain": [
       "0.7901869913497076"
      ]
     },
     "execution_count": 58,
     "metadata": {},
     "output_type": "execute_result"
    }
   ],
   "source": [
    "df['location'].isna().sum() / df.shape[0]"
   ]
  },
  {
   "cell_type": "code",
   "execution_count": 59,
   "id": "79dd2ba2-a32c-4b80-b377-5775ab17efad",
   "metadata": {},
   "outputs": [
    {
     "data": {
      "text/plain": [
       "pt                   162936\n",
       "es                    39311\n",
       "@leluimga             26093\n",
       "und                    7893\n",
       "en                     2060\n",
       "                      ...  \n",
       "batore7sacana             1\n",
       "Molinaro                  1\n",
       "LuiZ                      1\n",
       "Junior Pereira            1\n",
       "Karim BenzeMarcio         1\n",
       "Name: lang, Length: 74, dtype: int64"
      ]
     },
     "execution_count": 59,
     "metadata": {},
     "output_type": "execute_result"
    }
   ],
   "source": [
    "df['lang'].value_counts()"
   ]
  },
  {
   "cell_type": "code",
   "execution_count": 23,
   "id": "25347cab-c992-4fd9-a9f0-b972b455b58d",
   "metadata": {},
   "outputs": [
    {
     "data": {
      "text/plain": [
       "Brasil                     3699\n",
       "São Paulo, Brasil          2105\n",
       "Rio de Janeiro, Brasil     1520\n",
       "Rio de Janeiro             1272\n",
       "São Paulo                  1209\n",
       "                           ... \n",
       "Islamabad                     1\n",
       "CABA, BsAs. Arg.              1\n",
       "CAEN                          1\n",
       "beberibe, Ceara, Brasil       1\n",
       "Parobé / RS                   1\n",
       "Name: location, Length: 18996, dtype: int64"
      ]
     },
     "execution_count": 23,
     "metadata": {},
     "output_type": "execute_result"
    }
   ],
   "source": [
    "df['location'].value_counts()"
   ]
  },
  {
   "cell_type": "code",
   "execution_count": 38,
   "id": "1d11cddc-799a-485b-86a3-3f37168c0d63",
   "metadata": {},
   "outputs": [
    {
     "data": {
      "text/plain": [
       "url                https://twitter.com/guilhermmefelix/status/526...\n",
       "date                                       2014-10-26 23:59:59+00:00\n",
       "content            Dilma falando foi igual os meus professores fa...\n",
       "id                                              526523670140055552.0\n",
       "reply_count                                                      0.0\n",
       "retweet_count                                                    0.0\n",
       "like_count                                                         0\n",
       "quote_count                                                        0\n",
       "lang                                                              pt\n",
       "username                                             guilhermmefelix\n",
       "displayname                                                guilherme\n",
       "description                  If u r reading this it's too late | | ⁶\n",
       "verified                                                       False\n",
       "created                                    2010-06-14 16:41:14+00:00\n",
       "followers_count                                                  487\n",
       "friends_count                                                    327\n",
       "location                                                        RIO \n",
       "protected                                                      False\n",
       "profile_img        https://pbs.twimg.com/profile_images/150458572...\n",
       "Name: 1, dtype: object"
      ]
     },
     "execution_count": 38,
     "metadata": {},
     "output_type": "execute_result"
    }
   ],
   "source": [
    "df.loc[1]"
   ]
  },
  {
   "cell_type": "code",
   "execution_count": 42,
   "id": "88c831ec-0d69-40fe-9c46-3a8a2ea9b921",
   "metadata": {},
   "outputs": [
    {
     "data": {
      "text/plain": [
       "url                https://twitter.com/higorportillo/status/52652...\n",
       "date                                       2014-10-26 23:59:22+00:00\n",
       "content            Alguém da uma tapa na cara da dilma  pra ela...\n",
       "id                                              526523512589414400.0\n",
       "reply_count                                                      0.0\n",
       "retweet_count                                                    0.0\n",
       "like_count                                                         0\n",
       "quote_count                                                        0\n",
       "lang                                                              pt\n",
       "username                                               higorportillo\n",
       "displayname                                               Igor brito\n",
       "description            sagitariano ♐  Radiologia ✇  Belém - pa   🎶🎧❤\n",
       "verified                                                       False\n",
       "created                                    2011-07-23 14:57:46+00:00\n",
       "followers_count                                                  513\n",
       "friends_count                                                    588\n",
       "location                                                    Belém-pa\n",
       "protected                                                      False\n",
       "profile_img        https://pbs.twimg.com/profile_images/115239185...\n",
       "Name: 1000, dtype: object"
      ]
     },
     "execution_count": 42,
     "metadata": {},
     "output_type": "execute_result"
    }
   ],
   "source": [
    "df.loc[1000]"
   ]
  },
  {
   "cell_type": "code",
   "execution_count": 52,
   "id": "86575bee-ad1a-4704-a710-022e3dedd3e0",
   "metadata": {},
   "outputs": [
    {
     "data": {
      "text/plain": [
       "(328197, 19)"
      ]
     },
     "execution_count": 52,
     "metadata": {},
     "output_type": "execute_result"
    }
   ],
   "source": [
    "df.shape"
   ]
  },
  {
   "cell_type": "code",
   "execution_count": 45,
   "id": "70898b83-02c0-4784-8075-d969c366b325",
   "metadata": {},
   "outputs": [
    {
     "data": {
      "text/plain": [
       "(26093, 19)"
      ]
     },
     "execution_count": 45,
     "metadata": {},
     "output_type": "execute_result"
    }
   ],
   "source": [
    "df[df['lang'] == '@leluimga'].shape"
   ]
  },
  {
   "cell_type": "code",
   "execution_count": 53,
   "id": "991ecfd3-f047-456d-9ffd-f61fff2672bc",
   "metadata": {},
   "outputs": [],
   "source": [
    "df2 = df[df['lang'] == '@leluimga'].drop_duplicates()"
   ]
  },
  {
   "cell_type": "code",
   "execution_count": 54,
   "id": "fe659f69-1b81-4fde-b3dc-b348a612fc20",
   "metadata": {},
   "outputs": [
    {
     "data": {
      "text/html": [
       "<div>\n",
       "<style scoped>\n",
       "    .dataframe tbody tr th:only-of-type {\n",
       "        vertical-align: middle;\n",
       "    }\n",
       "\n",
       "    .dataframe tbody tr th {\n",
       "        vertical-align: top;\n",
       "    }\n",
       "\n",
       "    .dataframe thead th {\n",
       "        text-align: right;\n",
       "    }\n",
       "</style>\n",
       "<table border=\"1\" class=\"dataframe\">\n",
       "  <thead>\n",
       "    <tr style=\"text-align: right;\">\n",
       "      <th></th>\n",
       "      <th>url</th>\n",
       "      <th>date</th>\n",
       "      <th>content</th>\n",
       "      <th>id</th>\n",
       "      <th>reply_count</th>\n",
       "      <th>retweet_count</th>\n",
       "      <th>like_count</th>\n",
       "      <th>quote_count</th>\n",
       "      <th>lang</th>\n",
       "      <th>username</th>\n",
       "      <th>displayname</th>\n",
       "      <th>description</th>\n",
       "      <th>verified</th>\n",
       "      <th>created</th>\n",
       "      <th>followers_count</th>\n",
       "      <th>friends_count</th>\n",
       "      <th>location</th>\n",
       "      <th>protected</th>\n",
       "      <th>profile_img</th>\n",
       "    </tr>\n",
       "  </thead>\n",
       "  <tbody>\n",
       "    <tr>\n",
       "      <th>72211</th>\n",
       "      <td>Xupa!\"</td>\n",
       "      <td>526512421763309568</td>\n",
       "      <td>0</td>\n",
       "      <td>0.0</td>\n",
       "      <td>0.0</td>\n",
       "      <td>0.0</td>\n",
       "      <td>pt</td>\n",
       "      <td>leluimga</td>\n",
       "      <td>@leluimga</td>\n",
       "      <td>Dennys Vianna</td>\n",
       "      <td>NaN</td>\n",
       "      <td>NaN</td>\n",
       "      <td>NaN</td>\n",
       "      <td>NaN</td>\n",
       "      <td>NaN</td>\n",
       "      <td>NaN</td>\n",
       "      <td>NaN</td>\n",
       "      <td>NaN</td>\n",
       "      <td>NaN</td>\n",
       "    </tr>\n",
       "  </tbody>\n",
       "</table>\n",
       "</div>"
      ],
      "text/plain": [
       "          url                date content   id  reply_count retweet_count  \\\n",
       "72211  Xupa!\"  526512421763309568       0  0.0          0.0           0.0   \n",
       "\n",
       "      like_count quote_count       lang       username displayname  \\\n",
       "72211         pt    leluimga  @leluimga  Dennys Vianna         NaN   \n",
       "\n",
       "      description verified created followers_count friends_count location  \\\n",
       "72211         NaN      NaN     NaN             NaN           NaN      NaN   \n",
       "\n",
       "      protected profile_img  \n",
       "72211       NaN         NaN  "
      ]
     },
     "execution_count": 54,
     "metadata": {},
     "output_type": "execute_result"
    }
   ],
   "source": [
    "df2"
   ]
  },
  {
   "cell_type": "code",
   "execution_count": 26,
   "id": "0072b191-1c69-4981-8175-34570523aabb",
   "metadata": {},
   "outputs": [
    {
     "data": {
      "text/plain": [
       "328192    2014-10-26 22:50:09+00:00\n",
       "328193    2014-10-26 22:50:09+00:00\n",
       "328194    2014-10-26 22:50:09+00:00\n",
       "328195    2014-10-26 22:50:09+00:00\n",
       "328196    2014-10-26 22:50:09+00:00\n",
       "Name: date, dtype: object"
      ]
     },
     "execution_count": 26,
     "metadata": {},
     "output_type": "execute_result"
    }
   ],
   "source": [
    "df.tail()['date']"
   ]
  },
  {
   "cell_type": "code",
   "execution_count": 15,
   "id": "31f28201-d5a5-484d-81e0-3cd948731419",
   "metadata": {},
   "outputs": [
    {
     "data": {
      "text/plain": [
       "18997"
      ]
     },
     "execution_count": 15,
     "metadata": {},
     "output_type": "execute_result"
    }
   ],
   "source": [
    "len(df['location'].unique())"
   ]
  },
  {
   "cell_type": "code",
   "execution_count": 16,
   "id": "725dfb37-4594-4031-bf5f-e05e9411ce3d",
   "metadata": {},
   "outputs": [
    {
     "data": {
      "text/plain": [
       "(328197, 19)"
      ]
     },
     "execution_count": 16,
     "metadata": {},
     "output_type": "execute_result"
    }
   ],
   "source": [
    "df.shape"
   ]
  },
  {
   "cell_type": "code",
   "execution_count": 18,
   "id": "b123a9ad-7c7d-4255-aaf0-ea3d79011c8b",
   "metadata": {},
   "outputs": [
    {
     "data": {
      "text/plain": [
       "0    @matheus_cal meu, te juro q o q ta me irritand...\n",
       "1    Dilma falando foi igual os meus professores fa...\n",
       "2    Eu não acredito que no lugar do pânico estão c...\n",
       "3    DILMA NÃO VOTEI EM VC. MAS SE ACABAR COM REELE...\n",
       "4    \"Brasil essa filha é tua e não fugirá da luta\"...\n",
       "Name: content, dtype: object"
      ]
     },
     "execution_count": 18,
     "metadata": {},
     "output_type": "execute_result"
    }
   ],
   "source": [
    "df.head()['content']"
   ]
  }
 ],
 "metadata": {
  "kernelspec": {
   "display_name": "Python 3 (ipykernel)",
   "language": "python",
   "name": "python3"
  },
  "language_info": {
   "codemirror_mode": {
    "name": "ipython",
    "version": 3
   },
   "file_extension": ".py",
   "mimetype": "text/x-python",
   "name": "python",
   "nbconvert_exporter": "python",
   "pygments_lexer": "ipython3",
   "version": "3.8.12"
  }
 },
 "nbformat": 4,
 "nbformat_minor": 5
}
