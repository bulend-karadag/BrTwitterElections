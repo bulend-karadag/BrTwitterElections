{
 "cells": [
  {
   "cell_type": "code",
   "execution_count": 1,
   "id": "55c7eab0-a759-4c55-95b6-b5e916a67c16",
   "metadata": {},
   "outputs": [],
   "source": [
    "import pandas as pd"
   ]
  },
  {
   "cell_type": "code",
   "execution_count": 3,
   "id": "5932b286-5ac1-4b18-9dc9-7bcc210a7362",
   "metadata": {},
   "outputs": [
    {
     "name": "stdout",
     "output_type": "stream",
     "text": [
      " aecio.csv   bolsonaro\t'Fernando Haddad'   jair\t      mito\n",
      " biroliro    dilma.csv\t haddad\t\t   'Jair Bolsonaro'\n"
     ]
    }
   ],
   "source": [
    "!ls ../raw_data/"
   ]
  },
  {
   "cell_type": "code",
   "execution_count": 4,
   "id": "ab206297-63d9-4fa2-b539-719ddc15311e",
   "metadata": {},
   "outputs": [],
   "source": [
    "df = pd.read_csv('../raw_data/biroliro/biroliro_total_tweets.csv')"
   ]
  },
  {
   "cell_type": "code",
   "execution_count": 7,
   "id": "540d266a-93f3-4623-9235-125f4e188da2",
   "metadata": {},
   "outputs": [
    {
     "data": {
      "text/plain": [
       "(3535, 19)"
      ]
     },
     "execution_count": 7,
     "metadata": {},
     "output_type": "execute_result"
    }
   ],
   "source": [
    "#size\n",
    "df.shape"
   ]
  },
  {
   "cell_type": "code",
   "execution_count": 8,
   "id": "718a75f0-bdd5-40af-9c42-5278388d2f32",
   "metadata": {
    "tags": []
   },
   "outputs": [
    {
     "data": {
      "text/plain": [
       "984"
      ]
     },
     "execution_count": 8,
     "metadata": {},
     "output_type": "execute_result"
    }
   ],
   "source": [
    "df['location'].isna().sum()"
   ]
  },
  {
   "cell_type": "code",
   "execution_count": 6,
   "id": "79dd2ba2-a32c-4b80-b377-5775ab17efad",
   "metadata": {},
   "outputs": [
    {
     "data": {
      "text/plain": [
       "pt    3467\n",
       "eu      48\n",
       "es       9\n",
       "tl       6\n",
       "it       4\n",
       "sv       1\n",
       "Name: lang, dtype: int64"
      ]
     },
     "execution_count": 6,
     "metadata": {},
     "output_type": "execute_result"
    }
   ],
   "source": [
    "#languange distibuition \n",
    "df['lang'].value_counts()"
   ]
  },
  {
   "cell_type": "code",
   "execution_count": 52,
   "id": "86575bee-ad1a-4704-a710-022e3dedd3e0",
   "metadata": {},
   "outputs": [
    {
     "data": {
      "text/plain": [
       "(328197, 19)"
      ]
     },
     "execution_count": 52,
     "metadata": {},
     "output_type": "execute_result"
    }
   ],
   "source": [
    "df.shape"
   ]
  },
  {
   "cell_type": "code",
   "execution_count": 11,
   "id": "0072b191-1c69-4981-8175-34570523aabb",
   "metadata": {},
   "outputs": [
    {
     "data": {
      "text/plain": [
       "3530    2018-09-27 16:29:53\n",
       "3531    2018-09-27 15:44:17\n",
       "3532    2018-09-27 13:50:18\n",
       "3533    2018-09-27 10:41:43\n",
       "3534    2018-09-27 00:45:49\n",
       "Name: date, dtype: object"
      ]
     },
     "execution_count": 11,
     "metadata": {},
     "output_type": "execute_result"
    }
   ],
   "source": [
    "df.tail()['date']"
   ]
  },
  {
   "cell_type": "code",
   "execution_count": 13,
   "id": "b123a9ad-7c7d-4255-aaf0-ea3d79011c8b",
   "metadata": {},
   "outputs": [
    {
     "data": {
      "text/plain": [
       "0         @hallskkk O que vai acontecer com o biroliro\n",
       "1    passei 15 min no metrô cercada de macho babaca...\n",
       "2    tô adotando a postura do ciro, a pessoa vem te...\n",
       "3    @_elidanobrega Mais facil pro eleitor indeciso...\n",
       "4    Rompendo laços familiares por causa do birolir...\n",
       "Name: content, dtype: object"
      ]
     },
     "execution_count": 13,
     "metadata": {},
     "output_type": "execute_result"
    }
   ],
   "source": [
    "df.head()['content']"
   ]
  }
 ],
 "metadata": {
  "kernelspec": {
   "display_name": "Python 3 (ipykernel)",
   "language": "python",
   "name": "python3"
  },
  "language_info": {
   "codemirror_mode": {
    "name": "ipython",
    "version": 3
   },
   "file_extension": ".py",
   "mimetype": "text/x-python",
   "name": "python",
   "nbconvert_exporter": "python",
   "pygments_lexer": "ipython3",
   "version": "3.8.12"
  }
 },
 "nbformat": 4,
 "nbformat_minor": 5
}
