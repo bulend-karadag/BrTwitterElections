{
 "cells": [
  {
   "cell_type": "code",
   "execution_count": 14,
   "id": "55c7eab0-a759-4c55-95b6-b5e916a67c16",
   "metadata": {},
   "outputs": [],
   "source": [
    "import pandas as pd\n",
    "\n",
    "from sklearn.compose import ColumnTransformer, make_column_transformer, make_column_selector\n",
    "from sklearn.impute import SimpleImputer\n",
    "from sklearn.linear_model import Ridge\n",
    "from sklearn.model_selection import cross_val_score, GridSearchCV\n",
    "from sklearn.pipeline import Pipeline, FeatureUnion, make_pipeline, make_union\n",
    "from sklearn.preprocessing import StandardScaler, OneHotEncoder, FunctionTransformer"
   ]
  },
  {
   "cell_type": "code",
   "execution_count": 3,
   "id": "5932b286-5ac1-4b18-9dc9-7bcc210a7362",
   "metadata": {},
   "outputs": [
    {
     "name": "stdout",
     "output_type": "stream",
     "text": [
      " aecio.csv   bolsonaro\t'Fernando Haddad'   jair\t      mito\n",
      " biroliro    dilma.csv\t haddad\t\t   'Jair Bolsonaro'\n"
     ]
    }
   ],
   "source": [
    "!ls ../raw_data/"
   ]
  },
  {
   "cell_type": "code",
   "execution_count": 21,
   "id": "ab206297-63d9-4fa2-b539-719ddc15311e",
   "metadata": {},
   "outputs": [],
   "source": [
    "# df = pd.read_csv('../raw_data/biroliro/biroliro_total_tweets.csv')\n",
    "df = pd.read_csv('../raw_data/mito/mito_total_tweets.csv')"
   ]
  },
  {
   "cell_type": "code",
   "execution_count": 22,
   "id": "540d266a-93f3-4623-9235-125f4e188da2",
   "metadata": {},
   "outputs": [
    {
     "data": {
      "text/plain": [
       "(559591, 21)"
      ]
     },
     "execution_count": 22,
     "metadata": {},
     "output_type": "execute_result"
    }
   ],
   "source": [
    "#size\n",
    "df.shape"
   ]
  },
  {
   "cell_type": "code",
   "execution_count": 23,
   "id": "718a75f0-bdd5-40af-9c42-5278388d2f32",
   "metadata": {
    "tags": []
   },
   "outputs": [
    {
     "data": {
      "text/plain": [
       "146246"
      ]
     },
     "execution_count": 23,
     "metadata": {},
     "output_type": "execute_result"
    }
   ],
   "source": [
    "df['location'].isna().sum()"
   ]
  },
  {
   "cell_type": "code",
   "execution_count": 24,
   "id": "79dd2ba2-a32c-4b80-b377-5775ab17efad",
   "metadata": {},
   "outputs": [
    {
     "data": {
      "text/plain": [
       "pt     544813\n",
       "es       5697\n",
       "it       5004\n",
       "tl       3055\n",
       "fr        400\n",
       "en        147\n",
       "in         70\n",
       "de         50\n",
       "ht         49\n",
       "eu         47\n",
       "vi         34\n",
       "ca         32\n",
       "et         31\n",
       "tr         29\n",
       "lv         28\n",
       "lt         25\n",
       "und        21\n",
       "is          9\n",
       "da          9\n",
       "hu          9\n",
       "cs          7\n",
       "pl          6\n",
       "nl          6\n",
       "no          4\n",
       "ro          3\n",
       "cy          2\n",
       "sl          2\n",
       "sv          1\n",
       "hi          1\n",
       "Name: lang, dtype: int64"
      ]
     },
     "execution_count": 24,
     "metadata": {},
     "output_type": "execute_result"
    }
   ],
   "source": [
    "#languange distibuition \n",
    "df['lang'].value_counts()"
   ]
  },
  {
   "cell_type": "code",
   "execution_count": 25,
   "id": "0072b191-1c69-4981-8175-34570523aabb",
   "metadata": {},
   "outputs": [
    {
     "name": "stdout",
     "output_type": "stream",
     "text": [
      "<class 'pandas.core.frame.DataFrame'>\n",
      "RangeIndex: 559591 entries, 0 to 559590\n",
      "Data columns (total 21 columns):\n",
      " #   Column           Non-Null Count   Dtype \n",
      "---  ------           --------------   ----- \n",
      " 0   url              559591 non-null  object\n",
      " 1   date             559591 non-null  object\n",
      " 2   content          559591 non-null  object\n",
      " 3   id               559591 non-null  int64 \n",
      " 4   reply_count      559591 non-null  int64 \n",
      " 5   retweet_count    559591 non-null  int64 \n",
      " 6   like_count       559591 non-null  int64 \n",
      " 7   quote_count      559591 non-null  int64 \n",
      " 8   lang             559591 non-null  object\n",
      " 9   username         559591 non-null  object\n",
      " 10  displayname      559386 non-null  object\n",
      " 11  description      450439 non-null  object\n",
      " 12  verified         559591 non-null  bool  \n",
      " 13  created          559591 non-null  object\n",
      " 14  followers_count  559591 non-null  int64 \n",
      " 15  friends_count    559591 non-null  int64 \n",
      " 16  location         413345 non-null  object\n",
      " 17  protected        559591 non-null  bool  \n",
      " 18  profile_img      559409 non-null  object\n",
      " 19  query            559591 non-null  object\n",
      " 20  crawled_date     559591 non-null  object\n",
      "dtypes: bool(2), int64(7), object(12)\n",
      "memory usage: 82.2+ MB\n"
     ]
    }
   ],
   "source": [
    "df.info()"
   ]
  },
  {
   "cell_type": "markdown",
   "id": "258f7a14-8afc-4312-a5a1-f6bd8f288944",
   "metadata": {},
   "source": [
    "### Checking most common tweet size"
   ]
  },
  {
   "cell_type": "code",
   "execution_count": 27,
   "id": "b123a9ad-7c7d-4255-aaf0-ea3d79011c8b",
   "metadata": {},
   "outputs": [],
   "source": [
    "df['content_length'] = df.content.apply(len)"
   ]
  },
  {
   "cell_type": "code",
   "execution_count": 29,
   "id": "0aab2910-3844-451d-b46c-1502d27801f3",
   "metadata": {},
   "outputs": [
    {
     "data": {
      "text/plain": [
       "<AxesSubplot:>"
      ]
     },
     "execution_count": 29,
     "metadata": {},
     "output_type": "execute_result"
    },
    {
     "data": {
      "image/png": "[encoded data removed]",
      "text/plain": [
       "<Figure size 432x288 with 1 Axes>"
      ]
     },
     "metadata": {
      "needs_background": "light"
     },
     "output_type": "display_data"
    }
   ],
   "source": [
    "df['content_length'].hist(bins=50)"
   ]
  },
  {
   "cell_type": "markdown",
   "id": "2cf799d5-eda7-4a90-94ae-507c94c81753",
   "metadata": {},
   "source": [
    "#### removing tweets with more than 200 characters"
   ]
  },
  {
   "cell_type": "code",
   "execution_count": 30,
   "id": "4ada2fb6-a2e9-4254-ba88-ca462dac8eb6",
   "metadata": {},
   "outputs": [],
   "source": [
    "\n",
    "df = df.drop(df[df.content_length > 200].index)"
   ]
  },
  {
   "cell_type": "code",
   "execution_count": 31,
   "id": "209e483a-e244-403e-938c-9c850be1e5b6",
   "metadata": {},
   "outputs": [
    {
     "data": {
      "text/plain": [
       "(484038, 22)"
      ]
     },
     "execution_count": 31,
     "metadata": {},
     "output_type": "execute_result"
    }
   ],
   "source": [
    "df.shape"
   ]
  },
  {
   "cell_type": "code",
   "execution_count": 32,
   "id": "dbe6ee95-f8ac-4fc3-bd63-27e1f855f0eb",
   "metadata": {},
   "outputs": [
    {
     "data": {
      "text/plain": [
       "<AxesSubplot:>"
      ]
     },
     "execution_count": 32,
     "metadata": {},
     "output_type": "execute_result"
    },
    {
     "data": {
      "image/png": "[encoded data removed]",
      "text/plain": [
       "<Figure size 432x288 with 1 Axes>"
      ]
     },
     "metadata": {
      "needs_background": "light"
     },
     "output_type": "display_data"
    }
   ],
   "source": [
    "df['content_length'].hist(bins=50)"
   ]
  },
  {
   "cell_type": "code",
   "execution_count": null,
   "id": "2b9ee4f2-e856-4262-a6eb-7a5bf2725e22",
   "metadata": {},
   "outputs": [
    {
     "data": {
      "text/plain": [
       "()"
      ]
     },
     "execution_count": 33,
     "metadata": {},
     "output_type": "execute_result"
    }
   ],
   "source": [
    "# wordcloud = WordCloud(stopwords=STOPWORDS).generate(str(text))\n",
    "# plt.imshow(wordcloud)\n",
    "# plt.axis(\"off\")\n",
    "# plt.show()"
   ]
  }
 ],
 "metadata": {
  "kernelspec": {
   "display_name": "Python 3 (ipykernel)",
   "language": "python",
   "name": "python3"
  },
  "language_info": {
   "codemirror_mode": {
    "name": "ipython",
    "version": 3
   },
   "file_extension": ".py",
   "mimetype": "text/x-python",
   "name": "python",
   "nbconvert_exporter": "python",
   "pygments_lexer": "ipython3",
   "version": "3.8.12"
  }
 },
 "nbformat": 4,
 "nbformat_minor": 5
}
