{
 "cells": [
  {
   "cell_type": "code",
   "execution_count": 1,
   "id": "da3456fa-93e0-460e-ab57-1b8fd7bf1646",
   "metadata": {},
   "outputs": [],
   "source": [
    "%load_ext autoreload\n",
    "%autoreload 2\n",
    "\n",
    "\n",
    "import nltk\n",
    "import pandas as pd\n",
    "import string\n",
    "from nltk.corpus import stopwords \n",
    "from nltk.tokenize import TweetTokenizer\n",
    "from geopy.geocoders import Nominatim\n",
    "import numpy as np"
   ]
  },
  {
   "cell_type": "code",
   "execution_count": 2,
   "id": "24cab263-2b4d-4771-895e-42425b22bc2c",
   "metadata": {},
   "outputs": [],
   "source": [
    "data = pd.read_csv('../raw_data/data/2014/AECIO_NEVES/#aecio/total_tweets.csv')"
   ]
  },
  {
   "cell_type": "code",
   "execution_count": 4,
   "id": "5e518ad9-413b-49cf-bdc4-641b7b30af15",
   "metadata": {},
   "outputs": [],
   "source": [
    "data.drop_duplicates(subset=['username'], inplace=True)"
   ]
  },
  {
   "cell_type": "code",
   "execution_count": 5,
   "id": "8ab9cead-8453-4b39-bd43-6776ce02c745",
   "metadata": {},
   "outputs": [
    {
     "name": "stdout",
     "output_type": "stream",
     "text": [
      "<class 'pandas.core.frame.DataFrame'>\n",
      "Int64Index: 9738 entries, 0 to 35792\n",
      "Data columns (total 21 columns):\n",
      " #   Column           Non-Null Count  Dtype \n",
      "---  ------           --------------  ----- \n",
      " 0   url              9738 non-null   object\n",
      " 1   date             9738 non-null   object\n",
      " 2   content          9738 non-null   object\n",
      " 3   id               9738 non-null   int64 \n",
      " 4   reply_count      9738 non-null   int64 \n",
      " 5   retweet_count    9738 non-null   int64 \n",
      " 6   like_count       9738 non-null   int64 \n",
      " 7   quote_count      9738 non-null   int64 \n",
      " 8   lang             9738 non-null   object\n",
      " 9   username         9738 non-null   object\n",
      " 10  displayname      9738 non-null   object\n",
      " 11  description      7707 non-null   object\n",
      " 12  verified         9738 non-null   bool  \n",
      " 13  created          9738 non-null   object\n",
      " 14  followers_count  9738 non-null   int64 \n",
      " 15  friends_count    9738 non-null   int64 \n",
      " 16  location         7424 non-null   object\n",
      " 17  protected        9738 non-null   bool  \n",
      " 18  profile_img      9738 non-null   object\n",
      " 19  query            9738 non-null   object\n",
      " 20  crawled_date     9738 non-null   object\n",
      "dtypes: bool(2), int64(7), object(12)\n",
      "memory usage: 1.5+ MB\n"
     ]
    }
   ],
   "source": [
    "data.info()"
   ]
  }
 ],
 "metadata": {
  "kernelspec": {
   "display_name": "Python 3 (ipykernel)",
   "language": "python",
   "name": "python3"
  },
  "language_info": {
   "codemirror_mode": {
    "name": "ipython",
    "version": 3
   },
   "file_extension": ".py",
   "mimetype": "text/x-python",
   "name": "python",
   "nbconvert_exporter": "python",
   "pygments_lexer": "ipython3",
   "version": "3.8.12"
  }
 },
 "nbformat": 4,
 "nbformat_minor": 5
}
